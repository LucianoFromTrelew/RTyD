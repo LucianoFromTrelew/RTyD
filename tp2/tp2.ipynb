{
 "cells": [
  {
   "cell_type": "markdown",
   "metadata": {},
   "source": [
    "# Trabajo Práctico 2: Capa de Transporte\n",
    "## Redes y Transmisión de Datos, UNPSJB, Sede Trelew, 2018\n",
    "---\n",
    "## Cátedra:\n",
    "   ### * Mg. Ricardo López\n",
    "   ### * Lic. Nahuel Defossé\n",
    "---\n",
    "### Alumno:\n",
    "   ### * Luciano Serruya Aloisi"
   ]
  },
  {
   "cell_type": "markdown",
   "metadata": {},
   "source": [
    "# PARTE 1: TCP Fundamentos"
   ]
  },
  {
   "cell_type": "markdown",
   "metadata": {},
   "source": [
    "## 1. Dos aplicaciones en las máquinas A y B intercambian datos utilizando el protocolo TCP."
   ]
  },
  {
   "cell_type": "markdown",
   "metadata": {},
   "source": [
    "### a) Durante el intercambio de datos entre A y B, luego de establecida la conexión, la máquina A no recibe una confirmación de B sobre su ultimo envío, por lo que retransmite el segmento no confirmado. Al cabo de un tiempo, B recibe las dos copias del segmento tal como A las envió. ¿B detecta que se trata de dos copias de la misma información? Justifique su respuesta."
   ]
  },
  {
   "cell_type": "markdown",
   "metadata": {},
   "source": [
    "El host B detecta que los segmentos recibidos son idénticos debido a que tiene el mismo *número de secuencia (SEQ)*; se queda con una copia y desecha el otro (*drop*). "
   ]
  },
  {
   "cell_type": "markdown",
   "metadata": {},
   "source": [
    "### b) Suponga que la conexión TCP que A inició con B, es una sesión telnet, (o sea que A se conectará al puerto 23 de B). ¿Es posible que A inicie una segunda conexión TCP hacia el puerto 23 de B, manteniendo la primera conexión activa?  Justifique su respuesta e indique, en caso de ser posible, cómo diferenciará A y B los segmentos correspondientes a cada una de las conexiones."
   ]
  },
  {
   "cell_type": "markdown",
   "metadata": {},
   "source": [
    "El proceso del host B que esté corriendo telnet, tendrá ocupado el puerto 23; el recurso lo tiene reservado pura y exclusivamente para él. Si el host A se quiere conectar por segunda vez al puerto 23 del host B, no tedrá respuesta ya que estará ocupado con la primer conexión.\n",
    "\n",
    "Si el host A se logró conectar con el host B, entonces otro puerto estará siendo utilizado por el host B para manetener la conexión.\n",
    "\n",
    "Los segmentos correspondientes a cada aplicación se identificarán unívocamente con una tupla formada de 4 valores:\n",
    "* IP del emisor\n",
    "* Puerto del emisor por el cuál están saliendo los datos \n",
    "* IP del destinatario\n",
    "* Puerto del destinatario que está escuchando la conexión\n"
   ]
  },
  {
   "cell_type": "markdown",
   "metadata": {},
   "source": [
    "## 2. Responda: Verdadero o Falso y justifique.\n",
    "## El uso de ventanas de un protocolo:"
   ]
  },
  {
   "cell_type": "markdown",
   "metadata": {},
   "source": [
    "### a) Permite aumentar la eficiencia de la transmisión."
   ]
  },
  {
   "cell_type": "markdown",
   "metadata": {},
   "source": [
    "Verdadero. Se pueden enviar varios paquetes secuencialmente, sin esperar el reconocimiento por parte del receptor (como sucede con los procotocolos de parada y espera). Cabe aclarar también que en protocolos tipo Go-Back-N, el uso de vetanas deslizantes puede jugar en contra, ya que se envían varios paquetes en simultáneo, pero si el receptor pide una retransmisión, se reenvían esos varios paquetes (generando más carga en la red)."
   ]
  },
  {
   "cell_type": "markdown",
   "metadata": {},
   "source": [
    "### b) Garantiza el control de errores."
   ]
  },
  {
   "cell_type": "markdown",
   "metadata": {},
   "source": [
    "Falso. El protocolo de la capa de transporte (ya sea UDP o TCP) es el encargado de detectar los errores, y no el uso de las ventanas"
   ]
  },
  {
   "cell_type": "markdown",
   "metadata": {},
   "source": [
    "### c) Requiere la identificación de las tramas."
   ]
  },
  {
   "cell_type": "markdown",
   "metadata": {},
   "source": [
    "Verdadero. Se identifican las tramas con un número de secuencia para saber:\n",
    "* Cuál fue enviado y reconocido\n",
    "* Cuál fue enviado y no reconocido todavía\n",
    "* Cuál no fue enviado todavía\n",
    "* Cuál no fue considerado todavía (están por fuera de la ventana)"
   ]
  },
  {
   "cell_type": "markdown",
   "metadata": {},
   "source": [
    "### d) Disminuye el overhead del protocolo."
   ]
  },
  {
   "cell_type": "markdown",
   "metadata": {},
   "source": [
    "Falso. Justamente al contrario, incorporan un mayor trabajo al protocolo debido a que tienen que actualizar la ventana "
   ]
  },
  {
   "cell_type": "markdown",
   "metadata": {},
   "source": [
    "### e) Realiza el control de CRC."
   ]
  },
  {
   "cell_type": "markdown",
   "metadata": {},
   "source": [
    "Falso. El Control de Redundancia Cíclica le corresponde a la capa de enlace"
   ]
  },
  {
   "cell_type": "markdown",
   "metadata": {},
   "source": [
    "### f) No acepta paquetes fuera de orden."
   ]
  },
  {
   "cell_type": "markdown",
   "metadata": {},
   "source": [
    "Falso. El protocolo Selective Repeat recibe paquetes fuera de orden y los almacena hasta que llegan los paquetes anteriores (con número de secuencia inferiores). Una vez recibidos todos los paquetes, se los entrega a la capa superior (de aplicación)"
   ]
  },
  {
   "cell_type": "markdown",
   "metadata": {},
   "source": [
    "## 3. Utilice el software Cliente – Servidor de la parte 2 del TP1 y lance el analizador de protocolos para observar la siguiente secuencia:"
   ]
  },
  {
   "cell_type": "markdown",
   "metadata": {},
   "source": [
    "### a) Establezca conexión entre el cliente y el servidor, enviando un campo de datos del orden de 10 caracteres. Cierre luego la conexión."
   ]
  },
  {
   "cell_type": "markdown",
   "metadata": {},
   "source": [
    "Corriendo en una terminal el servidor TCP de ECO con el comando `./bin/echo` y en otra ejecutar el cliente con el comando `echo \"0123456789\" | ./bin/tcp_client --echo`, se puede obtener con `tcpdump` una captura como la de `pcap/ejercicio3.pcap` "
   ]
  },
  {
   "cell_type": "markdown",
   "metadata": {},
   "source": [
    "### b) Indique la cantidad de paquetes circularon entre ambos extremos desde el inicio de la conexión hasta su cierre."
   ]
  },
  {
   "cell_type": "markdown",
   "metadata": {},
   "source": [
    "Para toda la comunicación circularon 10 paquetes\n",
    "* 3 Para el 3-Way handshake\n",
    "* 4 para el envío de los datos\n",
    "* 3 más para el cierre de la conexión"
   ]
  },
  {
   "cell_type": "markdown",
   "metadata": {},
   "source": [
    "### c) Observe e indique las banderas que se observan en el 3-Way y 4-Way de inicio y cierre de la conexión."
   ]
  },
  {
   "cell_type": "markdown",
   "metadata": {},
   "source": [
    "* Para el 3-Way handshake el cliente envía la bandera SYN, a lo que el servidor le contesta SYN y ACK. El cliente le envía ACK\n",
    "* Para el 4-Way handshake (haciendo la captura en un host con una distribución de Linux), se observan 3 paquetes. El primero es del cliente al servidor con las banderas FIN y ACK; el servidor le responde FIN y ACK. Por último el servidor le envía un ACK."
   ]
  },
  {
   "cell_type": "markdown",
   "metadata": {},
   "source": [
    "### d) Indique el número de secuencia que se observa en ambos extremos al inicio de la conexión. Y la ventana de Flujo de ambos extremos."
   ]
  },
  {
   "cell_type": "markdown",
   "metadata": {},
   "source": [
    "#### SEQ -> Número de secuencia\n",
    "#### WIN -> Tamaño de ventana\n",
    "\n",
    "* Primer mensaje del cliente -> SEQ: 1608898858, WIN: 43690 \n",
    "* Respuesta del servidor -> SEQ: 2170056674, WIN: 43690"
   ]
  },
  {
   "cell_type": "markdown",
   "metadata": {},
   "source": [
    "### e) Indique los números de secuencia que se observan para ambos extremos al término del 3-Way state (sin envío de datos). Qué le parece particular?"
   ]
  },
  {
   "cell_type": "markdown",
   "metadata": {},
   "source": [
    "Terminado el 3-Way handshake, los números de secuencia son secuenciales a partir del 1"
   ]
  },
  {
   "cell_type": "markdown",
   "metadata": {},
   "source": [
    "### f) Indique los números de secuencia que se observan para ambos extremos al inicio del cierre de la conexión."
   ]
  },
  {
   "cell_type": "markdown",
   "metadata": {},
   "source": [
    "* Primer mensaje de fin de conexión del cliente -> SEQ: 19\n",
    "* Respuesta del servidor -> SEQ: 35"
   ]
  },
  {
   "cell_type": "markdown",
   "metadata": {},
   "source": [
    "### g) Indique los números de secuencia que se observan para ambos extremos al término del cierre de la conexión. Qué le parece particular?"
   ]
  },
  {
   "cell_type": "markdown",
   "metadata": {},
   "source": [
    "Los números de secuencia de ambos hosts se incrementaron en 1 por más de no haber enviado datos durante la etapa de fin de la conexión."
   ]
  },
  {
   "cell_type": "markdown",
   "metadata": {},
   "source": [
    "## 4. Dado el siguiente segmento TCP (se excluye la cabecera IP), enviado por un host A a otro B:\n",
    "\n",
    "```\n",
    "04 02 00 50 00 00 32 98\n",
    "00 00 00 00 60 02 20 00\n",
    "13 03 00 00 02 04 05 B4\n",
    "```"
   ]
  },
  {
   "cell_type": "markdown",
   "metadata": {},
   "source": [
    "04 02 -> puerto fuente\n",
    "\n",
    "00 50 -> puerto destino\n",
    "\n",
    "00 00 32 98 -> SEQ\n",
    "\n",
    "00 00 00 00 ACK\n",
    "\n",
    "\n",
    "6    0    0    2\n",
    "0110 xxxx xx00 0010\n",
    "\n",
    "WIN 6\n",
    "\n",
    "URG 0 \n",
    "ACK 0\n",
    "PSH 0\n",
    "RST 0\n",
    "SYN 1\n",
    "FIN 0\n",
    "\n",
    "20 00 WIN\n",
    "\n",
    "13 03 CHECKSUM\n",
    "00 00 URGENT DATA POINTER\n",
    "\n",
    "02 04 05 B4 OPTIONS"
   ]
  },
  {
   "cell_type": "markdown",
   "metadata": {},
   "source": [
    "### a) Qué función cumple el segmento enviado?"
   ]
  },
  {
   "cell_type": "markdown",
   "metadata": {},
   "source": [
    "El segmento enviado es el primero de un 3-Way handshake para establecer la conexión con el host B ya que solamente tiene la bandera SYN levantada"
   ]
  },
  {
   "cell_type": "markdown",
   "metadata": {},
   "source": [
    "### b) Caracterice a los Hosts A y B como cliente/servidor."
   ]
  },
  {
   "cell_type": "markdown",
   "metadata": {},
   "source": [
    "El Host A es el cliente ya que le está enviando al Host B (servidor) un segmento que solamente tiene levantada la bandera SYN"
   ]
  },
  {
   "cell_type": "markdown",
   "metadata": {},
   "source": [
    "### d) Cuál será el número de secuencia que utilizará el Host A en el próximo segmento que le envíe a B?"
   ]
  },
  {
   "cell_type": "markdown",
   "metadata": {},
   "source": [
    "El número de secuencia del próximo segmento que le envíe A a B será un 1"
   ]
  },
  {
   "cell_type": "markdown",
   "metadata": {},
   "source": [
    "### e) Cuál es el servicio requerido?"
   ]
  },
  {
   "cell_type": "markdown",
   "metadata": {},
   "source": [
    "El servicio requerido es el de un servidor web (el Host B es un servidor web), ya que la conexión es hacia el puerto 80 del Host B."
   ]
  },
  {
   "cell_type": "markdown",
   "metadata": {},
   "source": [
    "## 5. a. Suponga que la ventana de congestión de TCP está en 18 Kbytes. La ventana publicada por el otro extremo es de 64 Kbyte. ¿A qué valor llegará dicha ventana si los siguientes 5 segmentos transmitidos resultan exitosos y no se recibió aún ningún ACK? Suponga un tamaño máximo de segmento de 2 Kbytes."
   ]
  },
  {
   "cell_type": "markdown",
   "metadata": {},
   "source": [
    "Debido a que no llega ningún ACK por parte del receptor, el emisor no modifica su ventana de congestión.\n",
    "\n",
    "\n",
    "Ahora bien, si esta situación perdura (no llega ningún ACK), eventualmente se vencerán los timers del receptor (*timeout*). Por lo tanto se el emisor actualizará el ```sstresh``` con el valor del ```cwnd``` / 2 = 9KBytes, y el ```cwnd``` a| 1 MSS (2 KBytes)."
   ]
  },
  {
   "cell_type": "markdown",
   "metadata": {},
   "source": [
    "## b. Suponga ahora que luego de transmitir los 5 segmentos exitosos llega un ACK acumulativo reconociendo tres paquetes y que el umbral se encuentra en 12Kbytes.  A qué valor llegará la ventana de congestión."
   ]
  },
  {
   "cell_type": "markdown",
   "metadata": {},
   "source": [
    "Suponiendo que la variable `cwnd` está en 18 KBytes y el `sstresh` en 12KBytes, se puede asumir que el emisor está en modo *Congestion avoidance*. Por lo tanto, con el reconocimiento de 3 segmentos actualizará su ventana de congestión en 1 MSS por cada segmento reconocido, esto es, de 18 KBytes se incrementará a 24 KBytes (18 KBytes + 3 MSS)"
   ]
  },
  {
   "cell_type": "markdown",
   "metadata": {},
   "source": [
    "## 6. Determine el tamaño óptimo de ventana para una sesión TCP en la que el RTT=100mseg, MSS=600 bytes y velocidad de la interfase 128 Kbps."
   ]
  },
  {
   "cell_type": "markdown",
   "metadata": {},
   "source": [
    "#### Bandwidth-in-bits-per-second * Round-trip-latency-in-seconds = TCP window size in bits / 8 = TCP window size in bytes\n",
    "#### [Finding the optimal TCPIP receive window size](http://smallvoid.com/article/tcpip-rwin-size.html)"
   ]
  },
  {
   "cell_type": "code",
   "execution_count": 19,
   "metadata": {},
   "outputs": [
    {
     "name": "stdout",
     "output_type": "stream",
     "text": [
      "El tamaño de ventana óptimo para una sesión TCP con:\n",
      "    RTT = 100 ms\n",
      "    MSS = 600 bytes\n",
      "    velocidad de la interfaz = 128 kbps\n",
      "    \n",
      "es igual a 1600 bytes\n"
     ]
    }
   ],
   "source": [
    "rtt = 100\n",
    "bandwidth = 128\n",
    "mss = 600\n",
    "\n",
    "rwin = (bandwidth/8)*rtt\n",
    "\n",
    "print('''El tamaño de ventana óptimo para una sesión TCP con:\n",
    "    RTT = {rtt} ms\n",
    "    MSS = {mss} bytes\n",
    "    velocidad de la interfaz = {bandwidth} kbps\n",
    "    \n",
    "es igual a {rwin} bytes'''.format(\n",
    "    rtt=rtt,\n",
    "    mss=mss,\n",
    "    bandwidth=bandwidth,\n",
    "    rwin=int(rwin)))"
   ]
  },
  {
   "cell_type": "markdown",
   "metadata": {},
   "source": [
    "## 7. Qué mejora aporta el mecanismo de retransmisión rápida (fast retransmit) de TCP? Indique si aporta mejora, si la empeora o si es indiferente. Justifique."
   ]
  },
  {
   "cell_type": "markdown",
   "metadata": {},
   "source": [
    "### A. Permite que no llegue a ocurrir congestión en la red."
   ]
  },
  {
   "cell_type": "markdown",
   "metadata": {},
   "source": [
    "Indiferente. El *fast retransmit* y la congestión se detectan bajo el mismo evento (3 ACKs seguidos para un mismo número de secuencia)."
   ]
  },
  {
   "cell_type": "markdown",
   "metadata": {},
   "source": [
    "### B. Permite que un proceso detecte que hay congestión antes de que esta alcance un valor demasiado alto."
   ]
  },
  {
   "cell_type": "markdown",
   "metadata": {},
   "source": [
    "Mejora. El receptor está pidiendo retransmisión de un segmento que no le llegó (pudo haber sido desechado por congestión)"
   ]
  },
  {
   "cell_type": "markdown",
   "metadata": {},
   "source": [
    "### C. Permite que la ventana de recepción pueda ser más grande."
   ]
  },
  {
   "cell_type": "markdown",
   "metadata": {},
   "source": [
    "Es indiferente. La retransmisión rápida no afecta los tamaños de ventana"
   ]
  },
  {
   "cell_type": "markdown",
   "metadata": {},
   "source": [
    "### D. Aumenta la Eficiencia de la comunicación."
   ]
  },
  {
   "cell_type": "markdown",
   "metadata": {},
   "source": [
    "Mejora. Se reenvía un segmento antes de que se venza el timer, agilizando la comunicación."
   ]
  },
  {
   "cell_type": "markdown",
   "metadata": {},
   "source": [
    "### E. Permite que la congestión ocurra antes."
   ]
  },
  {
   "cell_type": "markdown",
   "metadata": {},
   "source": [
    "Empeora la situación. Circula una mayor cantidad de paquetes en la red"
   ]
  },
  {
   "cell_type": "markdown",
   "metadata": {},
   "source": [
    "## 8. Supongamos tener una situación en la cual se observa que al realizar una transferencia de archivo por FTP entre dos nodos, se observa que la transferencia efectiva de los datos es excesivamente lenta para el ancho de banda disponible. O sea que el ancho de banda consumido por la transferencia del archivo es muy pequeño si se compara con el ancho de banda total disponible entre los dos nodos.  \n",
    "\n",
    "## En cada uno de los casos siguientes, indique si la solución propuesta serviría para mejorar la situación y porqué (cómo afecta positiva o negativamente a la mejora de la velocidad de transferencia, o cómo no tiene ninguna influencia). Si los efectos de la solución dependen de otros parámetros no especificados, indiquese cuáles son estos."
   ]
  },
  {
   "cell_type": "markdown",
   "metadata": {},
   "source": [
    "### a. Se observa que la latencia de la red (retardo de transmisión) entre los dos procesos es muy alta. Como solución se propone aumentar el tamaño de la ventana de TCP en ambos nodos."
   ]
  },
  {
   "cell_type": "markdown",
   "metadata": {},
   "source": [
    "Aumentar el tamaño de ventana podría afectar negativamente ya que la alta latencia puede provenir de una congestión en la red; al agrandar la ventana, se enviarían más segmentos a la red, generando aún más congestión en la red.\n",
    "\n",
    "Sin embargo, puede ser que el ancho de banda se esté subutilizando porque las ventanas de ambos nodos no alcancen para llevar la cantidad de segmentos enviada; por lo tanto, agrandar las ventanas podría ser beneficioso."
   ]
  },
  {
   "cell_type": "markdown",
   "metadata": {},
   "source": [
    "### b. Se observa que se están perdiendo muchos paquetes debido a errores en la red.  Sin embargo, la latencia es muy baja. Como solución se propone disminuir el timeout de espera por asentimientos en los dos nodos"
   ]
  },
  {
   "cell_type": "markdown",
   "metadata": {},
   "source": [
    "Esta solución podría funcionar, porque al no tener latencia en la red, los paquetes que lleguen a destino van llegar rápido. Como los paquetes se están perdiendo por motivos desconocidos, esperar menos tiempo antes de retransmitirlo sería una buena opción"
   ]
  },
  {
   "cell_type": "markdown",
   "metadata": {},
   "source": [
    "### c. Se observa que se están reenviando muchos paquetes innecesariamente, porque los paquetes “originales” han llegado a destino. Como solución se propone aumentar el tamaño de la ventana de TCP en ambos nodos."
   ]
  },
  {
   "cell_type": "markdown",
   "metadata": {},
   "source": [
    "No solucionaría el problema, ya que el problema reside en que el emisor no espera el tiempo suficiente para que el paquete llegue a destino y le llegue su ACK correspondiente"
   ]
  },
  {
   "cell_type": "markdown",
   "metadata": {},
   "source": [
    "### d. Se observa que durante largos períodos cesa la emisión por llenarse la ventana de TCP del emisor. Como solución se propone disminuir el tamaño de la ventana del emisor y aumentar el plazo de espera por asentimientos\n"
   ]
  },
  {
   "cell_type": "markdown",
   "metadata": {},
   "source": [
    "Disminuir el tamaño de ventana agravaría aún más la situación. La ventana del emisor se llena porque hay muchos segmentos los no se recibió su ACK. Aumentar el tamaño de ventana podría mejorar la situación.\n",
    "\n",
    "Con respecto al timer, aumentar el plazo de espera retrasaría más la comunicación. "
   ]
  },
  {
   "cell_type": "markdown",
   "metadata": {},
   "source": [
    "# PARTE 2: Análisis de segmentos"
   ]
  },
  {
   "cell_type": "markdown",
   "metadata": {},
   "source": [
    "### A)"
   ]
  },
  {
   "cell_type": "markdown",
   "metadata": {},
   "source": [
    "![Diagrama de secuencia 9A](diagramas/A.svg)"
   ]
  },
  {
   "cell_type": "markdown",
   "metadata": {},
   "source": [
    "---"
   ]
  },
  {
   "cell_type": "markdown",
   "metadata": {},
   "source": [
    "### B)"
   ]
  },
  {
   "cell_type": "markdown",
   "metadata": {},
   "source": [
    "![Diagrama de secuencia 9B](diagramas/B.svg)"
   ]
  },
  {
   "cell_type": "markdown",
   "metadata": {},
   "source": [
    "---"
   ]
  },
  {
   "cell_type": "markdown",
   "metadata": {},
   "source": [
    "### C)"
   ]
  },
  {
   "cell_type": "markdown",
   "metadata": {},
   "source": [
    "![Diagrama de secuencia 9C](diagramas/C.svg)"
   ]
  },
  {
   "cell_type": "markdown",
   "metadata": {},
   "source": [
    "---"
   ]
  },
  {
   "cell_type": "markdown",
   "metadata": {},
   "source": [
    "### D)"
   ]
  },
  {
   "cell_type": "markdown",
   "metadata": {},
   "source": [
    "![Diagrama de secuencia 9D](diagramas/D.svg)"
   ]
  },
  {
   "cell_type": "markdown",
   "metadata": {},
   "source": [
    "---"
   ]
  },
  {
   "cell_type": "markdown",
   "metadata": {},
   "source": [
    "### E.1)"
   ]
  },
  {
   "cell_type": "markdown",
   "metadata": {},
   "source": [
    "![Diagrama de secuencia 9E.1](diagramas/E1.svg)"
   ]
  },
  {
   "cell_type": "markdown",
   "metadata": {},
   "source": [
    "---"
   ]
  },
  {
   "cell_type": "markdown",
   "metadata": {},
   "source": [
    "### E.2)"
   ]
  },
  {
   "cell_type": "markdown",
   "metadata": {},
   "source": [
    "![Diagrama de secuencia 9E.2](diagramas/E2.svg)"
   ]
  },
  {
   "cell_type": "markdown",
   "metadata": {},
   "source": [
    "# PARTE 3: TCP Análisis de Tramas"
   ]
  },
  {
   "cell_type": "markdown",
   "metadata": {},
   "source": [
    "## 10. Análisis de capturas de tráfico de red e interpretación del mismo. Ahora vamos a estudiar e interpretar el segmento TCP que se encuentra dentro del paquete IP capturado."
   ]
  },
  {
   "cell_type": "markdown",
   "metadata": {},
   "source": [
    "#### Cabecera IP\n",
    "```\n",
    "4    5    0    0       0    1    9    5\n",
    "0100 0101 0000 0000    0000 0001 1001 0101\n",
    "1    2    A    C       4    0    0    0\n",
    "0001 0010 1010 1100    0100 0000 0000 0000\n",
    "8    0    0    6       6    3    4    1\n",
    "1000 0000 0000 0110    0110 0011 0100 0001\n",
    "C    0    A    8       0    1    2    2\n",
    "1100 0000 1010 1000    0000 0001 0010 0010\n",
    "C    0    A    8       0    1    0    3\n",
    "1100 0000 1010 1000    0000 0001 0000 0011\n",
    "\n",
    "```\n",
    "\n",
    "* Version: 0x4 (IPv4)\n",
    "* IHL: 0x5\n",
    "* Type of service: 0x0\n",
    "* Total length: 0x195\n",
    "* Identification: 0x12AC\n",
    "* Flags: 0x4 (X)\n",
    "* Fragment Offset: 0x0\n",
    "* TTL: 0x80\n",
    "* Protocol: 0x6 (TCP)\n",
    "* Header Checksum: 0x6341\n",
    "* SOURCE ADDRESS: 0xC0A80122 (192.168.1.34)\n",
    "* DESTINATION ADDRESS: 0xC0A80103 (192.168.1.3)\n",
    " \n",
    "--- \n",
    "\n",
    "#### Segmento TCP\n",
    "```\n",
    "0    5    C    0      0    C    E    A\n",
    "0000 0101 1100 0000   0000 1100 1110 1010\n",
    "2    7    D    D      4    4    A    3\n",
    "0010 0111 1101 1101   0100 0100 1010 0011\n",
    "6    F    A    D      2    5    3    B\n",
    "0110 1111 1010 1101   0010 0101 0011 1011\n",
    "5    0    1    8      F    D    5    9\n",
    "0101 0000 0001 1000   1111 1101 0101 1001\n",
    "2    D    E    F      0    0    0    0\n",
    "0010 1101 1110 1111   0000 0000 0000 0000\n",
    "6    9    0    1      0    0    0    0\n",
    "0110 1001 0000 00001  0000 0000 0000 0000\n",
    "```\n",
    "\n",
    "* SOURCE PORT: 0x05C0 (1472)\n",
    "* DESTNATION PORT: 0x0CEA (3306)\n",
    "* SEQ: 0x27DD44A3\n",
    "* ACK: 0x6FAD253B\n",
    "* Data offset: 0x5\n",
    "* Reserved: 0x0\n",
    "* Flags:\n",
    "    * URG: 0\n",
    "    * ACK: 1\n",
    "    * PSH: 1\n",
    "    * RST: 0\n",
    "    * SYN: 0\n",
    "    * FIN: 0\n",
    "* WIN: 0xFD59\n",
    "* Checksum: 0x2DEF\n",
    "* Urgent Pointer: 0x0\n",
    "* Options: 0x690100\n",
    "* Padding: 0x0\n",
    "\n",
    "#### La sección de datos comienza en el word de 16 bits `0x0355`"
   ]
  },
  {
   "cell_type": "markdown",
   "metadata": {},
   "source": [
    "## 11.Se realizó la captura de las siguientes tramas Ethernet. (tenga en cuenta que se extrajeron los bytes de preámbulo). Se pide: Analizar los campos relevantes de la información de nivel de transporte que contienen"
   ]
  },
  {
   "cell_type": "markdown",
   "metadata": {},
   "source": [
    "### 1) \n",
    "```\n",
    "00 18 f8 4e 70 2f 00 50 2c a4 34 ec 08 00 45 00\n",
    "00 3e 7f 5e 00 00 80 11 cf aa c0 a8 01 64 c8 2a\n",
    "61 6f 04 06 00 35 00 2a 2c a8 e4 e8 01 00 00 01\n",
    "00 00 00 00 00 00 03 77 77 77 08 6d 69 6e 69 6e\n",
    "6f 76 61 03 6f 72 67 00 00 01 00 01 23 cd ac f2\n",
    "```\n",
    "\n",
    "#### IP\n",
    "* Protocol: 0x11 (UDP)\n",
    "* Source Address: 0xC0A80164 (192.168.1.100)\n",
    "* Destination Address: 0xC82A616F (200.34.97.111)\n",
    "\n",
    "#### Transporte (UDP)\n",
    "\n",
    "* Source port: 0x0406 (1030)\n",
    "* Desintation port: 0x35 (53, servicio DNS)\n",
    "* Length: 0x2A\n",
    "* Checksum: 0x2CA8\n",
    "\n",
    "Se le está enviando a un servidor de DNS la dirección \"www.mininiva.org\""
   ]
  },
  {
   "cell_type": "markdown",
   "metadata": {},
   "source": [
    "### 2)\n",
    "```\n",
    "00 50 2c a4 34 ec 00 18 f8 4e 70 2f 08 00 45 00\n",
    "00 5c b7 fa 00 00 3c 11 da f0 c8 2a 61 6f c0 a8 01\n",
    "64 00 35 04 06 00 48 36 15 e4 e8 81 80 00 01 00\n",
    "02 00 00 00 00 03 77 77 77 08 6d 69 6e 69 6e 6f\n",
    "76 61 03 6f 72 67 00 00 01 00 01 c0 0c 00 05 00\n",
    "01 00 00 25 11 00 02 c0 10 c0 10 00 01 00 01 00\n",
    "00 25 11 00 04 57 e9 93 8c a1 23 64 f3\n",
    "```\n",
    "\n",
    "#### IP\n",
    "* Protocol: 0x11 (UDP)\n",
    "* Source Address: 0xC82A616F (200.34.97.111)\n",
    "* Destination Address: 0xC0A80164 (192.168.1.100)\n",
    "\n",
    "\n",
    "#### Transporte (UDP)\n",
    "\n",
    "* Source port: 0x35 (53, serivcio DNS)\n",
    "* Desintation port: 0x406 (1030)\n",
    "* Length: 0x48\n",
    "* Checksum: 0x3615\n",
    "\n",
    "Respuesta del servidor DNS por la petición del inciso anterior"
   ]
  },
  {
   "cell_type": "markdown",
   "metadata": {},
   "source": [
    "### 3)\n",
    "```\n",
    "00 18 f8 4e 70 2f 00 50 2c a4 34 ec 08 00 45 00\n",
    "00 30 7f 61 40 00 80 06 cd e4 c0 a8 01 64 57 e9\n",
    "93 8c 0c 54 00 50 f0 e8 a3 97 00 00 00 00 70 02\n",
    "ff ff 34 79 00 00 02 04 05 b4 01 01 04 02 11 ac fb\n",
    "4b\n",
    "```\n",
    "\n",
    "#### IP\n",
    "* Protocol: 0x6 (TCP)\n",
    "* Source Address: 0xC0A80164 (192.168.1.100)\n",
    "* Desintation Address: 0x57E9938C (87.233.147.140)\n",
    "\n",
    "\n",
    "#### Transporte (TCP)\n",
    "\n",
    "* Source port: 0xC54 (3156)\n",
    "* Desintation port: 0x50 (80, servidor web)\n",
    "* SEQ: 0xF0E8A397\n",
    "* ACK: 0x0\n",
    "* Data offset: 0x7\n",
    "* Flags:\n",
    "    * URG: 0\n",
    "    * ACK: 0\n",
    "    * PSH: 0\n",
    "    * RST: 0\n",
    "    * SYN: 1\n",
    "    * FIN: 0\n",
    "* WIN: 0xFFFF\n",
    "* Checksum: 0x3479\n",
    "* Urgent Pointer: 0x0\n",
    "* Options: 0x020405\n",
    "* Padding: 0xB4\n",
    "\n",
    "La bandera de `SYN` está levantada, es la primer etapa del *3-Way handshake* para establece una conexión con el host `87.233.157.140` (que es un servidor web)"
   ]
  },
  {
   "cell_type": "markdown",
   "metadata": {},
   "source": [
    "### 4)\n",
    "```\n",
    "00 50 2c a4 34 ec 00 18 f8 4e 70 2f 08 00 45 00\n",
    "00 30 00 00 40 00 35 06 98 46 57 e9 93 8c c0 a8\n",
    "01 64 00 50 0c 54 16 3b ae 0d f0 e8 a3 98 70 12\n",
    "06 d0 59 4f 00 00 02 04 05 b4 01 01 04 02 ac 23\n",
    "23 ca\n",
    "```\n",
    "#### IP\n",
    "* Protocol: 0x6 (TCP)\n",
    "* Source Address: 0x57E9938C (87.233.147.140)\n",
    "* Desintination Address: 0xC0A80164 (192.168.1.100)\n",
    "\n",
    "\n",
    "\n",
    "#### Transporte (TCP)\n",
    "\n",
    "* Source port: 0x50 (80, servidor web)\n",
    "* Destination port: 0xC54 (3156)\n",
    "* SEQ: 0x163BAE0D\n",
    "* ACK: 0xF0E8A398\n",
    "* Data offset: 0x7\n",
    "* Flags:\n",
    "    * URG: 0\n",
    "    * ACK: 1\n",
    "    * PSH: 0\n",
    "    * RST: 0\n",
    "    * SYN: 1\n",
    "    * FIN: 0\n",
    "* WIN: 0x06D0\n",
    "* Checksum: 0x594F\n",
    "* Urgent Pointer: 0x0\n",
    "* Options: 0x020405\n",
    "* Padding: 0xB4\n",
    "\n",
    "Segmento `SYN ACK` para el *3-Way handshake* del inciso anterior"
   ]
  },
  {
   "cell_type": "markdown",
   "metadata": {},
   "source": [
    "### 5)\n",
    "```\n",
    "00 18 f8 4e 70 2f 00 50 2c a4 34 ec 08 00 45 00\n",
    "00 28 7f 62 40 00 80 06 cd eb c0 a8 01 64 57 e9\n",
    "93 8c 0c 54 00 50 f0 e8 a3 98 16 3b ae 0e 50 10\n",
    "ff ff 9c e3 00 00 a2 cb 23 45\n",
    "```\n",
    "\n",
    "#### IP\n",
    "* Protocol: 0x6 (TCP)\n",
    "* Source Address: 0xC0A80164 (192.168.1.100)\n",
    "* Destination Address: 0x57E9938C (87.233.147.140)\n",
    "\n",
    "\n",
    "\n",
    "\n",
    "#### Transporte (TCP)\n",
    "\n",
    "* Source port: 0xC54 (3156)\n",
    "* Desination port: 0x50 (80, servidor web)\n",
    "* SEQ: 0xF0E8A398\n",
    "* ACK: 0x163BAE0E\n",
    "* Data offset: 0x5\n",
    "* Flags:\n",
    "    * URG: 0\n",
    "    * ACK: 1\n",
    "    * PSH: 0\n",
    "    * RST: 0\n",
    "    * SYN: 0\n",
    "    * FIN: 0\n",
    "* WIN: 0xFFFF\n",
    "* Checksum: 0x9CE3\n",
    "* Urgent Pointer: 0x0\n",
    "* Options: 0xA2CB23\n",
    "* Padding: 0x45\n",
    "\n",
    "Último segmento `ACK` del establecimiento de la conexión entre un cliente y un servidor web"
   ]
  },
  {
   "cell_type": "markdown",
   "metadata": {},
   "source": [
    "### 6)\n",
    "```\n",
    "00 18 f8 4e 70 2f 00 50 2c a4 34 ec 08 00 45 00\n",
    "01 c0 7f 63 40 00 80 06 cc 52 c0 a8 01 64 57 e9\n",
    "93 8c 0c 54 00 50 f0 e8 a3 98 16 3b ae 0e 50 18\n",
    "ff ff ee 95 00 00 47 45 54 20 2f 20 48 54 54 50 2f\n",
    "31 2e 31 0d 0a 48 6f 73 74 3a 20 77 77 77 2e 6d\n",
    "69 6e 69 6e 6f 76 61 2e 6f 72 67 0d 0a 55 73 65\n",
    "72 2d 41 67 65 6e 74 3a 20 4d 6f 7a 69 6c 6c 61\n",
    "2f 35 2e 30 20 28 57 69 6e 64 6f 77 73 3b 20 55\n",
    "3b 20 57 69 6e 64 6f 77 73 20 4e 54 20 35 2e\n",
    "……………………..\n",
    "```\n",
    "\n",
    "#### IP\n",
    "* Protocol: 0x6 (TCP)\n",
    "* Source Address: 0xC0A80164 (192.168.1.100)\n",
    "* Destination Address: 0x57E9938C (87.233.147.140)\n",
    "\n",
    "\n",
    "#### Transporte (TCP)\n",
    "\n",
    "* Source port: 0xC54 (3156)\n",
    "* Desination port: 0x50 (80, servidor web)\n",
    "* SEQ: 0xF0E8A398\n",
    "* ACK: 0x163BAE0E\n",
    "* Data offset: 0x5\n",
    "* Flags:\n",
    "    * URG: 0\n",
    "    * ACK: 1\n",
    "    * PSH: 1\n",
    "    * RST: 0\n",
    "    * SYN: 0\n",
    "    * FIN: 0\n",
    "* WIN: 0xFFFF\n",
    "* Checksum: 0xEE95\n",
    "* Urgent Pointer: 0x0\n",
    "* Options: 0x474554\n",
    "* Padding: 0x20\n",
    "\n",
    "Petición *HTTP* al sitio www.mininova.org (ruta /) realizada desde un navegador *Mozilla*, corriendo en un Windows"
   ]
  }
 ],
 "metadata": {
  "kernelspec": {
   "display_name": "Python 3",
   "language": "python",
   "name": "python3"
  },
  "language_info": {
   "codemirror_mode": {
    "name": "ipython",
    "version": 3
   },
   "file_extension": ".py",
   "mimetype": "text/x-python",
   "name": "python",
   "nbconvert_exporter": "python",
   "pygments_lexer": "ipython3",
   "version": "3.6.5"
  }
 },
 "nbformat": 4,
 "nbformat_minor": 2
}
