{
 "cells": [
  {
   "cell_type": "markdown",
   "metadata": {},
   "source": [
    "# Trabajo Práctico 2: Capa de Transporte\n",
    "## Redes y Transmisión de Datos, UNPSJB, Sede Trelew, 2018\n",
    "---\n",
    "## Cátedra:\n",
    "   ### * Mg. Ricardo López\n",
    "   ### * Lic. Nahuel Defossé\n",
    "---\n",
    "### Alumno:\n",
    "   ### * Luciano Serruya Aloisi"
   ]
  },
  {
   "cell_type": "markdown",
   "metadata": {},
   "source": [
    "# PARTE 1: TCP Fundamentos"
   ]
  },
  {
   "cell_type": "markdown",
   "metadata": {},
   "source": [
    "## 1. Dos aplicaciones en las máquinas A y B intercambian datos utilizando el protocolo TCP."
   ]
  },
  {
   "cell_type": "markdown",
   "metadata": {},
   "source": [
    "## a) Durante el intercambio de datos entre A y B, luego de establecida la conexión, la máquina A no recibe una confirmación de B sobre su ultimo envío, por lo que retransmite el segmento no confirmado. Al cabo de un tiempo, B recibe las dos copias del segmento tal como A las envió. ¿B detecta que se trata de dos copias de la misma información? Justifique su respuesta."
   ]
  },
  {
   "cell_type": "markdown",
   "metadata": {},
   "source": [
    "El host B detecta que los segmentos recibidos son idénticos debido a que tiene el mismo *número de secuencia (SEQ)*; se queda con una copia y desecha el otro (*drop*). "
   ]
  },
  {
   "cell_type": "markdown",
   "metadata": {},
   "source": [
    "## b) Suponga que la conexión TCP que A inició con B, es una sesión telnet, (o sea que A se conectará al puerto 23 de B). ¿Es posible que A inicie una segunda conexión TCP hacia el puerto 23 de B, manteniendo la primera conexión activa?  Justifique su respuesta e indique, en caso de ser posible, cómo diferenciará A y B los segmentos correspondientes a cada una de las conexiones."
   ]
  },
  {
   "cell_type": "markdown",
   "metadata": {},
   "source": [
    "El proceso del host B que esté corriendo telnet, tendrá ocupado el puerto 23; el recurso lo tiene reservado pura y exclusivamente para él. Si el host A se quiere conectar por segunda vez al puerto 23 del host B, no tedrá respuesta ya que estará ocupado con la primer conexión.\n",
    "\n",
    "Si el host A se logró conectar con el host B, entonces otro puerto estará siendo utilizado por el host B para manetener la conexión.\n",
    "\n",
    "Los segmentos correspondientes a cada aplicación se identificarán unívocamente con una tupla formada de 4 valores:\n",
    "* IP del emisor\n",
    "* Puerto del emisor por el cuál están saliendo los datos \n",
    "* IP del destinatario\n",
    "* Puerto del destinatario que está escuchando la conexión\n"
   ]
  },
  {
   "cell_type": "code",
   "execution_count": null,
   "metadata": {},
   "outputs": [],
   "source": []
  },
  {
   "cell_type": "markdown",
   "metadata": {},
   "source": [
    "### BPF = Berkeley Packet Filter"
   ]
  },
  {
   "cell_type": "code",
   "execution_count": null,
   "metadata": {},
   "outputs": [],
   "source": [
    "!pip install -t . sh "
   ]
  }
 ],
 "metadata": {
  "kernelspec": {
   "display_name": "Python 3",
   "language": "python",
   "name": "python3"
  },
  "language_info": {
   "codemirror_mode": {
    "name": "ipython",
    "version": 3
   },
   "file_extension": ".py",
   "mimetype": "text/x-python",
   "name": "python",
   "nbconvert_exporter": "python",
   "pygments_lexer": "ipython3",
   "version": "3.6.5"
  }
 },
 "nbformat": 4,
 "nbformat_minor": 2
}
