{
 "cells": [
  {
   "cell_type": "markdown",
   "metadata": {},
   "source": [
    "# Trabajo Práctico 2: Capa de Transporte\n",
    "## Redes y Transmisión de Datos, UNPSJB, Sede Trelew, 2018\n",
    "---\n",
    "## Cátedra:\n",
    "   ### * Mg. Ricardo López\n",
    "   ### * Lic. Nahuel Defossé\n",
    "---\n",
    "### Alumno:\n",
    "   ### * Luciano Serruya Aloisi"
   ]
  },
  {
   "cell_type": "markdown",
   "metadata": {},
   "source": [
    "# PARTE 1: TCP Fundamentos"
   ]
  },
  {
   "cell_type": "markdown",
   "metadata": {},
   "source": [
    "## 1. Dos aplicaciones en las máquinas A y B intercambian datos utilizando el protocolo TCP."
   ]
  },
  {
   "cell_type": "markdown",
   "metadata": {},
   "source": [
    "### a) Durante el intercambio de datos entre A y B, luego de establecida la conexión, la máquina A no recibe una confirmación de B sobre su ultimo envío, por lo que retransmite el segmento no confirmado. Al cabo de un tiempo, B recibe las dos copias del segmento tal como A las envió. ¿B detecta que se trata de dos copias de la misma información? Justifique su respuesta."
   ]
  },
  {
   "cell_type": "markdown",
   "metadata": {},
   "source": [
    "El host B detecta que los segmentos recibidos son idénticos debido a que tiene el mismo *número de secuencia (SEQ)*; se queda con una copia y desecha el otro (*drop*). "
   ]
  },
  {
   "cell_type": "markdown",
   "metadata": {},
   "source": [
    "### b) Suponga que la conexión TCP que A inició con B, es una sesión telnet, (o sea que A se conectará al puerto 23 de B). ¿Es posible que A inicie una segunda conexión TCP hacia el puerto 23 de B, manteniendo la primera conexión activa?  Justifique su respuesta e indique, en caso de ser posible, cómo diferenciará A y B los segmentos correspondientes a cada una de las conexiones."
   ]
  },
  {
   "cell_type": "markdown",
   "metadata": {},
   "source": [
    "El proceso del host B que esté corriendo telnet, tendrá ocupado el puerto 23; el recurso lo tiene reservado pura y exclusivamente para él. Si el host A se quiere conectar por segunda vez al puerto 23 del host B, no tedrá respuesta ya que estará ocupado con la primer conexión.\n",
    "\n",
    "Si el host A se logró conectar con el host B, entonces otro puerto estará siendo utilizado por el host B para manetener la conexión.\n",
    "\n",
    "Los segmentos correspondientes a cada aplicación se identificarán unívocamente con una tupla formada de 4 valores:\n",
    "* IP del emisor\n",
    "* Puerto del emisor por el cuál están saliendo los datos \n",
    "* IP del destinatario\n",
    "* Puerto del destinatario que está escuchando la conexión\n"
   ]
  },
  {
   "cell_type": "markdown",
   "metadata": {},
   "source": [
    "## 2. Responda: Verdadero o Falso y justifique.\n",
    "## El uso de ventanas de un protocolo:"
   ]
  },
  {
   "cell_type": "markdown",
   "metadata": {},
   "source": [
    "### a) Permite aumentar la eficiencia de la transmisión."
   ]
  },
  {
   "cell_type": "markdown",
   "metadata": {},
   "source": [
    "Verdadero. Se pueden enviar varios paquetes secuencialmente, sin esperar el reconocimiento por parte del receptor (como sucede con los procotocolos de parada y espera). Cabe aclarar también que en protocolos tipo Go-Back-N, el uso de vetanas deslizantes puede jugar en contra, ya que se envían varios paquetes en simultáneo, pero si el receptor pide una retransmisión, se reenvían esos varios paquetes (generando más carga en la red)."
   ]
  },
  {
   "cell_type": "markdown",
   "metadata": {},
   "source": [
    "### b) Garantiza el control de errores."
   ]
  },
  {
   "cell_type": "markdown",
   "metadata": {},
   "source": [
    "Falso. El protocolo de la capa de transporte (ya sea UDP o TCP) es el encargado de detectar los errores, y no el uso de las ventanas"
   ]
  },
  {
   "cell_type": "markdown",
   "metadata": {},
   "source": [
    "### c) Requiere la identificación de las tramas."
   ]
  },
  {
   "cell_type": "markdown",
   "metadata": {},
   "source": [
    "Verdadero. Se identifican las tramas con un número de secuencia para saber:\n",
    "* Cuál fue enviado y reconocido\n",
    "* Cuál fue enviado y no reconocido todavía\n",
    "* Cuál no fue enviado todavía\n",
    "* Cuál no fue considerado todavía (están por fuera de la ventana)"
   ]
  },
  {
   "cell_type": "markdown",
   "metadata": {},
   "source": [
    "### d) Disminuye el overhead del protocolo."
   ]
  },
  {
   "cell_type": "markdown",
   "metadata": {},
   "source": [
    "Falso. Justamente al contrario, incorporan un mayor trabajo al protocolo debido a que tienen que actualizar la ventana "
   ]
  },
  {
   "cell_type": "markdown",
   "metadata": {},
   "source": [
    "### e) Realiza el control de CRC."
   ]
  },
  {
   "cell_type": "markdown",
   "metadata": {},
   "source": [
    "Falso. El Control de Redundancia Cíclica le corresponde a la capa de enlace"
   ]
  },
  {
   "cell_type": "markdown",
   "metadata": {},
   "source": [
    "### f) No acepta paquetes fuera de orden."
   ]
  },
  {
   "cell_type": "markdown",
   "metadata": {},
   "source": [
    "Falso. El protocolo Selective Repeat recibe paquetes fuera de orden y los almacena hasta que llegan los paquetes anteriores (con número de secuencia inferiores). Una vez recibidos todos los paquetes, se los entrega a la capa superior (de aplicación)"
   ]
  },
  {
   "cell_type": "markdown",
   "metadata": {},
   "source": [
    "### BPF = Berkeley Packet Filter"
   ]
  },
  {
   "cell_type": "markdown",
   "metadata": {},
   "source": [
    "## 3. Utilice el software Cliente – Servidor de la parte 2 del TP1 y lance el analizador de protocolos para observar la siguiente secuencia:"
   ]
  },
  {
   "cell_type": "markdown",
   "metadata": {},
   "source": [
    "### a) Establezca conexión entre el cliente y el servidor, enviando un campo de datos del orden de 10 caracteres. Cierre luego la conexión."
   ]
  },
  {
   "cell_type": "markdown",
   "metadata": {},
   "source": [
    "Corriendo en una terminal el servidor TCP de ECO con el comando `./bin/echo` y en otra ejecutar el cliente con el comando `echo \"0123456789\" | ./bin/tcp_client --echo`, se puede obtener con `tcpdump` una captura como la de `pcap/ejercicio3.pcap` "
   ]
  },
  {
   "cell_type": "markdown",
   "metadata": {},
   "source": [
    "### b) Indique la cantidad de paquetes circularon entre ambos extremos desde el inicio de la conexión hasta su cierre."
   ]
  },
  {
   "cell_type": "markdown",
   "metadata": {},
   "source": [
    "Para toda la comunicación circularon 10 paquetes\n",
    "* 3 Para el 3-Way handshake\n",
    "* 4 para el envío de los datos\n",
    "* 3 más para el cierre de la conexión"
   ]
  },
  {
   "cell_type": "markdown",
   "metadata": {},
   "source": [
    "### c) Observe e indique las banderas que se observan en el 3-Way y 4-Way de inicio y cierre de la conexión."
   ]
  },
  {
   "cell_type": "markdown",
   "metadata": {},
   "source": [
    "* Para el 3-Way handshake el cliente envía la bandera SYN, a lo que el servidor le contesta SYN y ACK. El cliente le envía ACK\n",
    "* Para el 4-Way handshake (haciendo la captura en un host con una distribución de Linux), se observan 3 paquetes. El primero es del cliente al servidor con las banderas FIN y ACK; el servidor le responde FIN y ACK. Por último el servidor le envía un ACK."
   ]
  },
  {
   "cell_type": "markdown",
   "metadata": {},
   "source": [
    "### d) Indique el número de secuencia que se observa en ambos extremos al inicio de la conexión. Y la ventana de Flujo de ambos extremos."
   ]
  },
  {
   "cell_type": "markdown",
   "metadata": {},
   "source": [
    "#### SEQ -> Número de secuencia\n",
    "#### WIN -> Tamaño de ventana\n",
    "\n",
    "* Primer mensaje del cliente -> SEQ: 1608898858, WIN: 43690 \n",
    "* Respuesta del servidor -> SEQ: 2170056674, WIN: 43690"
   ]
  },
  {
   "cell_type": "markdown",
   "metadata": {},
   "source": [
    "### e) Indique los números de secuencia que se observan para ambos extremos al término del 3-Way state (sin envío de datos). Qué le parece particular?"
   ]
  },
  {
   "cell_type": "markdown",
   "metadata": {},
   "source": [
    "Terminado el 3-Way handshake, los números de secuencia son el ACK delgmento se anterior más el largo del paquete actual"
   ]
  },
  {
   "cell_type": "markdown",
   "metadata": {},
   "source": [
    "### f) Indique los números de secuencia que se observan para ambos extremos al inicio del cierre de la conexión."
   ]
  },
  {
   "cell_type": "markdown",
   "metadata": {},
   "source": [
    "* Primer mensaje de fin de conexión del cliente -> SEQ: 19\n",
    "* Respuesta del servidor -> SEQ: 35"
   ]
  },
  {
   "cell_type": "markdown",
   "metadata": {},
   "source": [
    "### g) Indique los números de secuencia que se observan para ambos extremos al término del cierre de la conexión. Qué le parece particular?"
   ]
  },
  {
   "cell_type": "markdown",
   "metadata": {},
   "source": [
    "El último mensaje enviado para el cierre de la conexión tiene un SEQ=20, siendo 20 el ACK del segmento anterior, lo que significa que ese último segmento tenía un largo de 0."
   ]
  },
  {
   "cell_type": "markdown",
   "metadata": {},
   "source": [
    "## 4. Dado el siguiente segmento TCP (se excluye la cabecera IP), enviado por un host A a otro B:\n",
    "\n",
    "```\n",
    "04 02 00 50 00 00 32 98\n",
    "00 00 00 00 60 02 20 00\n",
    "13 03 00 00 02 04 05 B4\n",
    "```"
   ]
  },
  {
   "cell_type": "markdown",
   "metadata": {},
   "source": [
    "04 02 -> puerto fuente\n",
    "\n",
    "00 50 -> puerto destino (LE ESTÁ PEGANDO AL PUERTO 80 SEÑORE ES UN SERVIDOR WEB)\n",
    "\n",
    "00 00 32 98 -> SEQ\n",
    "\n",
    "00 00 00 00 ACK\n",
    "\n",
    "60 02 cosas\n",
    "\n",
    "6    0    0    2\n",
    "0110 xxxx xx00 0010\n",
    "\n",
    "WIN 6\n",
    "\n",
    "URG 0 \n",
    "ACK 0\n",
    "PSH 0\n",
    "RST 0\n",
    "SYN 1\n",
    "FIN 0\n",
    "\n",
    "20 00 WIN\n",
    "\n",
    "13 03 CHECKSUM\n",
    "00 00 URGENT DATA POINTER\n",
    "\n",
    "02 04 05 B4 OPTIONS"
   ]
  },
  {
   "cell_type": "markdown",
   "metadata": {},
   "source": [
    "### a) Qué función cumple el segmento enviado?"
   ]
  },
  {
   "cell_type": "markdown",
   "metadata": {},
   "source": [
    "El segmento enviado es el primero de un 3-Way handshake para establecer la conexión con el host B ya que solamente tiene la bandera SYN levantada"
   ]
  },
  {
   "cell_type": "markdown",
   "metadata": {},
   "source": [
    "### b) Caracterice a los Hosts A y B como cliente/servidor."
   ]
  },
  {
   "cell_type": "markdown",
   "metadata": {},
   "source": [
    "El Host A es el cliente ya que le está enviando al Host B (servidor) un segmento que solamente tiene levantada la bandera SYN"
   ]
  },
  {
   "cell_type": "markdown",
   "metadata": {},
   "source": [
    "### d) Cuál será el número de secuencia que utilizará el Host A en el próximo segmento que le envíe a B?"
   ]
  },
  {
   "cell_type": "markdown",
   "metadata": {},
   "source": [
    "El número de secuencia del próximo segmento que le envíe A a B será un 1"
   ]
  },
  {
   "cell_type": "markdown",
   "metadata": {},
   "source": [
    "### e) Cuál es el servicio requerido?"
   ]
  },
  {
   "cell_type": "markdown",
   "metadata": {},
   "source": [
    "El servicio requerido es el de un servidor web (el Host B es un servidor web)"
   ]
  },
  {
   "cell_type": "markdown",
   "metadata": {},
   "source": [
    "## 5. a. Suponga que la ventana de congestión de TCP está en 18 Kbytes. La ventana publicada por el otro extremo es de 64 Kbyte. ¿A qué valor llegará dicha ventana si los siguientes 5 segmentos transmitidos resultan exitosos y no se recibió aún ningún ACK? Suponga un tamaño máximo de segmento de 2 Kbytes."
   ]
  },
  {
   "cell_type": "markdown",
   "metadata": {},
   "source": [
    "Se envían los paquetes y llegan bien, pero no se reciben los ACK -> el transmisor lo toma como que hay congestión en la red y decide reducir su cwnd\n",
    "\n",
    "Como se vencen los timers del receptor (*timeout*), primero se actualiza el ```sstresh``` con el valor del ```cwnd``` / 2 = 9KBytes. Luego el ```cwnd``` pasa a ser 1 MSS (2 KBytes)."
   ]
  },
  {
   "cell_type": "markdown",
   "metadata": {},
   "source": [
    "## b. Suponga ahora que luego de transmitir los 5 segmentos exitosos llega un ACK acumulativo reconociendo tres paquetes y que el umbral se encuentra en 12Kbytes.  A qué valor llegará la ventana de congestión."
   ]
  },
  {
   "cell_type": "markdown",
   "metadata": {},
   "source": [
    "Con la llegada del ACK, la ventana de congestión pasará a ser ```cwnd``` + ```1 MSS``` = 4 KBytes"
   ]
  },
  {
   "cell_type": "markdown",
   "metadata": {},
   "source": [
    "## 6. Determine el tamaño óptimo de ventana para una sesión TCP en la que el RTT=100mseg, MSS=600 bytes y velocidad de la interfase 128 Kbps."
   ]
  },
  {
   "cell_type": "markdown",
   "metadata": {},
   "source": [
    "## 7. Qué mejora aporta el mecanismo de retransmisión rápida (fast retransmit) de TCP? Indique si aporta mejora, si la empeora o si es indiferente. Justifique."
   ]
  },
  {
   "cell_type": "markdown",
   "metadata": {},
   "source": [
    "### A. Permite que no llegue a ocurrir congestión en la red."
   ]
  },
  {
   "cell_type": "markdown",
   "metadata": {},
   "source": [
    "me parece que no chee e"
   ]
  },
  {
   "cell_type": "markdown",
   "metadata": {},
   "source": [
    "### B. Permite que un proceso detecte que hay congestión antes de que esta alcance un valor demasiado alto."
   ]
  },
  {
   "cell_type": "markdown",
   "metadata": {},
   "source": [
    "Este puede ser verdadero eh"
   ]
  },
  {
   "cell_type": "markdown",
   "metadata": {},
   "source": [
    "### C. Permite que la ventana de recepción pueda ser más grande."
   ]
  },
  {
   "cell_type": "markdown",
   "metadata": {},
   "source": [
    "eeee me parece que no tiene nada que ver"
   ]
  },
  {
   "cell_type": "markdown",
   "metadata": {},
   "source": [
    "### D. Aumenta la Eficiencia de la comunicación."
   ]
  },
  {
   "cell_type": "markdown",
   "metadata": {},
   "source": [
    "Bueno este sí puede ser porque, osea, obvio no? quee coso"
   ]
  },
  {
   "cell_type": "markdown",
   "metadata": {},
   "source": [
    "### E. Permite que la congestión ocurra antes."
   ]
  },
  {
   "cell_type": "markdown",
   "metadata": {},
   "source": [
    "mhhhh ojo que esteeee eeeeee que la congestion ocurra antes uhmmmmm y puede ser, porque estarías cargando más la red?"
   ]
  },
  {
   "cell_type": "code",
   "execution_count": null,
   "metadata": {},
   "outputs": [],
   "source": []
  }
 ],
 "metadata": {
  "kernelspec": {
   "display_name": "Python 3",
   "language": "python",
   "name": "python3"
  },
  "language_info": {
   "codemirror_mode": {
    "name": "ipython",
    "version": 3
   },
   "file_extension": ".py",
   "mimetype": "text/x-python",
   "name": "python",
   "nbconvert_exporter": "python",
   "pygments_lexer": "ipython3",
   "version": "3.6.5"
  }
 },
 "nbformat": 4,
 "nbformat_minor": 2
}
