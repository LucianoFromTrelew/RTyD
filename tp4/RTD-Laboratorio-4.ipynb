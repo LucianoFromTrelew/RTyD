{
 "cells": [
  {
   "cell_type": "markdown",
   "metadata": {},
   "source": [
    "# Trabajo de Laboratorio 4\n",
    "## Capa de Red"
   ]
  },
  {
   "cell_type": "code",
   "execution_count": null,
   "metadata": {},
   "outputs": [],
   "source": [
    "from IPython.display import HTML\n",
    "HTML('''\n",
    "<style>\n",
    ".notas {\n",
    "    background-color: #eeeeee;\n",
    "    padding: 1em;\n",
    "    border: 1px solid #aaa;\n",
    "    margin-top: 1em;\n",
    "}\n",
    "</style>\n",
    "''')\n"
   ]
  },
  {
   "cell_type": "markdown",
   "metadata": {},
   "source": [
    "<div class=\"notas\">\n",
    "Este trabajo práctico puede ser realizado en grupo de hasta **2 integrantes**. Debe entregarse en formato cuadreno (**ipynb**) acompañado de archivos necesarios para su evaluación (imágenes, capturas de paquetes, etc).\n",
    "\n",
    "Debe contestar en una o más celdas posteriores a las celdas de la consigna. Si modifica algún archivo del práctico, debe hacer primero una copia. Las imágenes en formato SVG pueden ser editadas con el software Inkscape.\n",
    "\n",
    "Puede ayudarse con este sitio para formatear las tablas https://www.tablesgenerator.com/markdown_tables\n",
    "</div>\n"
   ]
  },
  {
   "cell_type": "markdown",
   "metadata": {},
   "source": [
    "#### Sobre CORE\n",
    "<div class=\"notas\">\n",
    " Para lanzar CORE:\n",
    " \n",
    " <pre>\n",
    " docker run -d \\ \n",
    "    --hostname coreemu_vnc \\\n",
    "    --name coreemu_vnc \\\n",
    "    --cap-add=NET_ADMIN --cap-add=SYS_ADMIN \\\n",
    "    -p 5901:5900 -p 8080:8080 -p 9999:9999 \\\n",
    "    -v $(pwd):/root/shared \n",
    "    unpdit/coreemu_vnc:unp-core-4.8\n",
    "\n",
    " </pre>\n",
    " \n",
    " Luego acceder a http://localhost:8080 para CORE y http://localhost:9999 para Jupyter.\n",
    " La carpeta en la que se lanza el contenedor, se comparte como /root/shared, en \n",
    " caso de no funcionar, se puede desde el administrador de archivos de Lab arrastar y soltar\n",
    " para subir archivos; y utilizar el botón derecho para descargarlos.\n",
    " </br>\n",
    " \n",
    " En caso de que el contenedor no responda, se puede crear neuvamente:\n",
    "\n",
    " `docker start coreemuv_vnc`, `docker stop coreemu_vnc` y `docker restart coreemu_vnc`.\n",
    "</div>\n",
    "\n",
    "<div class=\"notas\">\n",
    " Alternativamente se puede ejecutar en internet: https://www.youtube.com/watch?v=gkk_KdxShjA\n",
    "</div>"
   ]
  },
  {
   "cell_type": "markdown",
   "metadata": {},
   "source": [
    "### Punto 1\n",
    "\n",
    "En el diagrama de la figura, el usuario en la máquina A ejecuta `ping 172.16.1.10`. En el paquete ICMP dirigido desde A hacia B, visto en la LAN donde está  conectada A, indique cuáles son las direcciones de capa MAC origen  y  destino,  y  las  direcciones  IP  origen  y  destino.  Indique  cómo decidió la máquina A utilizar estas direcciones. Suponga que todos los equipos conocen las direcciones MAC que necesitan.\n",
    "\n",
    "![](./ej1.svg)"
   ]
  },
  {
   "cell_type": "code",
   "execution_count": null,
   "metadata": {},
   "outputs": [],
   "source": []
  },
  {
   "cell_type": "markdown",
   "metadata": {},
   "source": [
    "### Punto 2\n",
    "Dada la topología de la figura siguiente, responder las siguientes preguntas. Justifique cada una de sus respuestas.\n",
    "![](./ej2.svg)\n",
    "\n",
    "a.\tEs posible que colisionen dos tramas, una desde Host A a Host C y otra desde Host B a Host D? "
   ]
  },
  {
   "cell_type": "code",
   "execution_count": null,
   "metadata": {},
   "outputs": [],
   "source": []
  },
  {
   "cell_type": "markdown",
   "metadata": {},
   "source": [
    "b.\tCuales MAC conoce o puede llegar a conocer el Host B? "
   ]
  },
  {
   "cell_type": "markdown",
   "metadata": {},
   "source": []
  },
  {
   "cell_type": "markdown",
   "metadata": {},
   "source": [
    "c. El Host C realiza un pedido de ARP (Brodcast de capa2), liste los Host que logran ver el pedido. "
   ]
  },
  {
   "cell_type": "code",
   "execution_count": null,
   "metadata": {},
   "outputs": [],
   "source": []
  },
  {
   "cell_type": "markdown",
   "metadata": {},
   "source": [
    "### Punto 3\n",
    "Dada la topología de la figura siguiente, responder las siguientes preguntas. Justifique cada una de sus respuestas. \n",
    "![](./ej3.png)"
   ]
  },
  {
   "cell_type": "markdown",
   "metadata": {},
   "source": [
    "a. Indicar si la siguiente trama Ethernet puede ser una trama correcta generada en la red de la figura (explicando cuándo y dónde se genera) o no:\n",
    "\n",
    "| Eth Destino | Eth Origen | Protocolo | IP Origen | IP Destino | .... |\n",
    "|-------------|------------|-----------|-----------|------------|------|\n",
    "| b:b:b:b:b:b | a:a:a:a:a:a | IP | 10.1.28.9 | 10.1.74.9 | .... |"
   ]
  },
  {
   "cell_type": "code",
   "execution_count": null,
   "metadata": {},
   "outputs": [],
   "source": []
  },
  {
   "cell_type": "markdown",
   "metadata": {},
   "source": [
    "b. Indicar qué tipo de trama es la siguiente, para qué se generaría en la red de la figura y cuáles serían los campos relevantes que le faltan::\n",
    "\n",
    "| Eth Destino | Eth Origen | Protocolo | .... |\n",
    "|-------------|------------|-----------|------|\n",
    "| 1:2:3:4:5:6 | a:a:a:a:a:a | ARP | .... |"
   ]
  },
  {
   "cell_type": "markdown",
   "metadata": {},
   "source": [
    "c. Indicar la salida en pantalla que genera el comando traceroute que hay que invocar para que aparezca en la red de la figura la siguiente trama:\n",
    "\n",
    "| Eth Destino | Eth Origen | Protocolo | IP Origen | IP Destino | Protocolo | ..... |\n",
    "|-------------|------------|-----------|-----------|------------|------|-----|\n",
    "| b:b:b:b:b:b | a:a:a:a:a:a | IP | 10.1.28.9 | 10.1.74.9 | UDP  | .... |"
   ]
  },
  {
   "cell_type": "code",
   "execution_count": null,
   "metadata": {},
   "outputs": [],
   "source": []
  },
  {
   "cell_type": "markdown",
   "metadata": {},
   "source": [
    "### Punto 4\n",
    "Utilizando la red de la figura anterior, teniendo en cuenta que la máscara de subred es siempre /24, se solicita:\n",
    "\n",
    "a. Sea un paquete IP con origen en A y destino en B. Si miramos los contenidos de la trama Ethernet en que va encapsulado cuando pasa por la red 10.1.28.0, y los comparamos con los de la trama Ethernet de cuando pasa por la 10.1.74.0, indicar qué campos serán diferentes, tanto de la trama Ethernet como del paquete IP. Señalar, cuando se pueda, el valor que tendría cada uno de esos campos en ambas tramas."
   ]
  },
  {
   "cell_type": "code",
   "execution_count": null,
   "metadata": {},
   "outputs": [],
   "source": []
  },
  {
   "cell_type": "markdown",
   "metadata": {},
   "source": [
    "b. Con los datos de la figura, indicar en qué subredes Ethernet puede encontrarse un paquete IP con dirección destino 10.1.28.9."
   ]
  },
  {
   "cell_type": "code",
   "execution_count": null,
   "metadata": {},
   "outputs": [],
   "source": []
  },
  {
   "cell_type": "markdown",
   "metadata": {},
   "source": [
    "c.\tCon los datos de la figura, indicar en qué subredes Ethernet puede encontrarse un paquete IP con dirección origen 10.1.252.9."
   ]
  },
  {
   "cell_type": "code",
   "execution_count": null,
   "metadata": {},
   "outputs": [],
   "source": []
  },
  {
   "cell_type": "markdown",
   "metadata": {},
   "source": [
    "d.\tCon los datos de la figura, indicar en qué subredes Ethernet puede encontrarse un paquete IP con dirección origen 10.1.254.9 y dirección destino 10.1.253.9."
   ]
  },
  {
   "cell_type": "code",
   "execution_count": null,
   "metadata": {},
   "outputs": [],
   "source": []
  },
  {
   "cell_type": "markdown",
   "metadata": {},
   "source": [
    "## Parte 2 - Ethernet"
   ]
  },
  {
   "cell_type": "markdown",
   "metadata": {},
   "source": [
    "### Punto 5\n",
    "Dada la siguiente trama Ethernet realice un análisis completo indicando los campos relevantes de la trama y del nivel de red involucrado.\n",
    "```\n",
    "00 20 78 e1 5a 80 00 a0 cc 30 c8 db 08 00 45 0b\n",
    "00 40 f6 00 40 00 80 06 f0 a5 0a 02 00 02 0a 02\n",
    "00 01 04 1e 00 15 00 4a 19 45 00 00 00 00 b0 02\n",
    "20 00 e4 38 00 00 02 04 05 b4 01 03 03 00 01 01\n",
    "08 0a 00 00 00 00 00 00 00 00 01 01 04 02 8f ec\n",
    "d3 4f\n",
    "```\n"
   ]
  },
  {
   "cell_type": "code",
   "execution_count": null,
   "metadata": {},
   "outputs": [],
   "source": []
  },
  {
   "cell_type": "markdown",
   "metadata": {},
   "source": [
    "### Punto 6\n",
    "Cree un diagrama en CORE con 2 nodos. Ejectue `brctl show` antes y después de su ejecución. \n",
    "\n",
    "a. ¿Cuál es el punte? ¿Qué interfases afecta? "
   ]
  },
  {
   "cell_type": "markdown",
   "metadata": {},
   "source": []
  },
  {
   "cell_type": "markdown",
   "metadata": {},
   "source": [
    "b. Cree un switch con 3 conexiones. ¿Qué sucede con el bridge?"
   ]
  },
  {
   "cell_type": "code",
   "execution_count": null,
   "metadata": {},
   "outputs": [],
   "source": []
  }
 ],
 "metadata": {
  "kernelspec": {
   "display_name": "Python 3",
   "language": "python",
   "name": "python3"
  },
  "language_info": {
   "codemirror_mode": {
    "name": "ipython",
    "version": 3
   },
   "file_extension": ".py",
   "mimetype": "text/x-python",
   "name": "python",
   "nbconvert_exporter": "python",
   "pygments_lexer": "ipython3",
   "version": "3.6.5"
  }
 },
 "nbformat": 4,
 "nbformat_minor": 2
}
