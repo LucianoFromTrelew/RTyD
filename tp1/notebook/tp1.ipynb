{
 "cells": [
  {
   "cell_type": "markdown",
   "metadata": {},
   "source": [
    "# Trabajo Práctico 1: Capa de Aplicación\n",
    "## Redes y Transmisión de Datos, UNPSJB, Sede Trelew, 2018\n",
    "---\n",
    "## Cátedra:\n",
    "   ### * Mg. Ricardo López\n",
    "   ### * Lic. Nahuel Defossé\n",
    "---\n",
    "### Alumno:\n",
    "   ### * Luciano Serruya Aloisi"
   ]
  },
  {
   "cell_type": "markdown",
   "metadata": {},
   "source": [
    "---\n",
    "# PARTE 1: HTTP\n",
    "\n",
    "## \\* CAPTURAS DE WIRESHARK \\*\n",
    "   * ### Ejercicios 1 al 5 -> captura1-5.pcapng\n",
    "   * ### Ejercicios 8 al 11 -> captura8-11.pcapng\n",
    "   * ### Ejercicios 12 al 14 -> captura12-14.pcapng\n",
    "   * ### Ejercicios 15 al 16 -> captura15-16.pcapng\n",
    "   * ### Ejercicios 17 al 19 -> captura17-19.pcapng"
   ]
  },
  {
   "cell_type": "markdown",
   "metadata": {},
   "source": [
    "# 1a. ¿Qué versión de HTTP emplea su navegador?"
   ]
  },
  {
   "cell_type": "markdown",
   "metadata": {},
   "source": [
    "El navegador emplea HTTP 1.1"
   ]
  },
  {
   "cell_type": "markdown",
   "metadata": {},
   "source": [
    "# 1b. ¿Qué versión de HTTP ejecuta el servidor?"
   ]
  },
  {
   "cell_type": "markdown",
   "metadata": {},
   "source": [
    "El servidor también emplea HTTP 1.1"
   ]
  },
  {
   "cell_type": "markdown",
   "metadata": {},
   "source": [
    "# 2a. ¿Qué idiomas indica su navegador al servidor que está dispuesto aceptar en la respuesta?"
   ]
  },
  {
   "cell_type": "markdown",
   "metadata": {},
   "source": [
    "El navegador indica que acepta inglés de EEUU (en-US)"
   ]
  },
  {
   "cell_type": "markdown",
   "metadata": {},
   "source": [
    "# 2b. ¿Qué relación tiene esta información con el lenguaje que emplea en su navegador y sistema operativo?"
   ]
  },
  {
   "cell_type": "markdown",
   "metadata": {},
   "source": [
    "El navegador está dispuesto a recibir el mismo lenguaje que el lenguaje con el que está configurado el sistema operativo"
   ]
  },
  {
   "cell_type": "markdown",
   "metadata": {},
   "source": [
    "# 3a. ¿Cuál es la dirección IP de su ordenador?"
   ]
  },
  {
   "cell_type": "markdown",
   "metadata": {},
   "source": [
    "Como se está corriendo el servidor localmente, la petición muestra que la ip del cliente es __localhost__ (127.0.0.1)"
   ]
  },
  {
   "cell_type": "markdown",
   "metadata": {},
   "source": [
    "# 3b. ¿Y del servidor Web al que está accediendo?"
   ]
  },
  {
   "cell_type": "markdown",
   "metadata": {},
   "source": [
    "Como se está corriendo el servidor localmente, la respuesta muestra que la ip del servidor es __localhost:8081__ (127.0.0.1:8081)"
   ]
  },
  {
   "cell_type": "markdown",
   "metadata": {},
   "source": [
    "# 4a. ¿Cuál es el código de estado devuelto a su navegador por el servidor?"
   ]
  },
  {
   "cell_type": "markdown",
   "metadata": {},
   "source": [
    "El servidor devolvió un código de estado 200"
   ]
  },
  {
   "cell_type": "markdown",
   "metadata": {},
   "source": [
    "# 4b. ¿Cuál es el significado de ese código de estado?"
   ]
  },
  {
   "cell_type": "markdown",
   "metadata": {},
   "source": [
    "Según la [W3](https://www.w3.org/Protocols/rfc2616/rfc2616-sec10.html), el código de estado 200 significa que la petifición tuvo éxito"
   ]
  },
  {
   "cell_type": "markdown",
   "metadata": {},
   "source": [
    "# 5. ¿Cuándo fue modificado por última vez el fichero HTML que el servidor te está devolviendo?"
   ]
  },
  {
   "cell_type": "markdown",
   "metadata": {},
   "source": [
    "La respuesta del servidor indica que el archivo devuelto fue modificado por última vez el día 22 de Marzo del 2018"
   ]
  },
  {
   "cell_type": "markdown",
   "metadata": {},
   "source": [
    "Según la [W3](https://www.w3.org/Protocols/rfc2616/rfc2616-sec10.html), el código de estado 200 significa que la petifición tuvo éxito"
   ]
  },
  {
   "cell_type": "markdown",
   "metadata": {},
   "source": [
    "# 8. Inspeccione los contenidos de la primera petición GET de su navegador hacia el servidor. ¿Observa alguna linea ‘If-Modified-Since’ en la petición GET? Indique el contenido de dicha línea."
   ]
  },
  {
   "cell_type": "markdown",
   "metadata": {},
   "source": [
    "La primer petición al servidor (teniendo la caché vacía) no muestra ninguna línea \"If-Modified-Since\""
   ]
  },
  {
   "cell_type": "markdown",
   "metadata": {},
   "source": [
    "# 9. Analice el contenido de la respuesta del servidor. ¿Contiene dicha respuesta el fichero HTML que se pedía?"
   ]
  },
  {
   "cell_type": "markdown",
   "metadata": {},
   "source": [
    "La respuesta del servidor tampoco contiene la línea \"If-Modified-Since\""
   ]
  },
  {
   "cell_type": "markdown",
   "metadata": {},
   "source": [
    "# 10. Ahora analice el contenido de la segunda petición GET desde su navegador al servidor. ¿Ve alguna línea ‘If-Modified-Since’ en dicha petición? Si es así, ¿qué información aparece a continuación de dicha cabecera?"
   ]
  },
  {
   "cell_type": "markdown",
   "metadata": {},
   "source": [
    "La segunda petición al servidor sí contiene la línea, indicando la última modificación del archivo devuelto por el servidor"
   ]
  },
  {
   "cell_type": "markdown",
   "metadata": {},
   "source": [
    "# 11. ¿Cuál es el código de estado HTTP y el mensaje devuelto por el servidor en respuesta a este segundo GET? ¿Devuelve el servidor explícitamente el contenido del fichero? Explique qué ha sucedido."
   ]
  },
  {
   "cell_type": "markdown",
   "metadata": {},
   "source": [
    "La respuesta del servidor tiene el código de estado 304 con el mensaje de \"No modificado\". \n",
    "\n",
    "El servidor no devuelve el HTML correspondiente a la ruta ya que la respuesta estaba almacenada en la caché del navegador"
   ]
  },
  {
   "cell_type": "markdown",
   "metadata": {},
   "source": [
    "# 12. ¿Cuántos mensajes de petición GET han sido enviados por el navegador?"
   ]
  },
  {
   "cell_type": "markdown",
   "metadata": {},
   "source": [
    "El navegador envió un solo mensaje de petición GET"
   ]
  },
  {
   "cell_type": "markdown",
   "metadata": {},
   "source": [
    "# 13. ¿Cuántos segmentos TCP con datos han sido necesarios para una única respuesta HTTP?"
   ]
  },
  {
   "cell_type": "markdown",
   "metadata": {},
   "source": [
    "La respuesta del servidor requirió dos segmentos de TCP para ser enviada"
   ]
  },
  {
   "cell_type": "markdown",
   "metadata": {},
   "source": [
    "# 14. ¿Cuál es el código de estado y el mensaje asociado con la respuesta a la petición GET?"
   ]
  },
  {
   "cell_type": "markdown",
   "metadata": {},
   "source": [
    "La respuesta fue enviada con el código de estado 200 y el mensaje \"OK\""
   ]
  },
  {
   "cell_type": "markdown",
   "metadata": {},
   "source": [
    "# 15. ¿Cuántos mensajes GET ha enviado el navegador? ¿A qué direcciones se han enviado esos mensajes?"
   ]
  },
  {
   "cell_type": "markdown",
   "metadata": {},
   "source": [
    "El navegador envió tres peticiones al servidor para poder cargar toda la página.\n",
    "\n",
    "Corriendo el servidor localmente, las peticiones fueron hechas a las siguientes direcciones:\n",
    "   * *http://localhost/mind.gif*\n",
    "   * *http://localhost/giphy_1.gif*"
   ]
  },
  {
   "cell_type": "markdown",
   "metadata": {},
   "source": [
    "# 16. ¿Puede determinar si las imágenes han sido descargadas sucesivamente (se pide una imagen, se descarga y después se pide la otra) o en (se lanzan las dos descargas de forma simultánea?"
   ]
  },
  {
   "cell_type": "markdown",
   "metadata": {},
   "source": [
    "Debido a que el servidor no espera la respuesta del servidor al pedirle una imagen para después pedirle la otra, las dos peticiones se envían en forma simultánea"
   ]
  },
  {
   "cell_type": "markdown",
   "metadata": {},
   "source": [
    "# 17. ¿Cuál es el código de respuesta y el mensaje del servidor en respuesta al mensaje GET inicial de su navegador?"
   ]
  },
  {
   "cell_type": "markdown",
   "metadata": {},
   "source": [
    "Frente a la primer petición del navegador, el servidor responde con un código de estado 401 y con el mensaje \"*Unauthorized*\" (*sin autorización*)"
   ]
  },
  {
   "cell_type": "markdown",
   "metadata": {},
   "source": [
    "# 18. Cuando su navegador envía el mensaje HTTP GET por segunda vez, ¿qué nuevo campo se incluye en el mensaje GET?"
   ]
  },
  {
   "cell_type": "markdown",
   "metadata": {},
   "source": [
    "Para la segunda petición, se incluye un nuevo campo *Authorization*, que adentro tiene el campo *Credentials* con los datos \"wireshark:network\""
   ]
  },
  {
   "cell_type": "markdown",
   "metadata": {},
   "source": [
    "# 19. Explique la codificación Base64"
   ]
  },
  {
   "cell_type": "markdown",
   "metadata": {},
   "source": [
    "La codificación Base64 se utiliza para convertir datos binarios en un formato de texto (ASCII) para así por ser enviado en ambientes que solamente manejan texto. El nombre de \"Base64\" proviene del uso de los 64 caracteres imprimibles de la tabla ASCII \n",
    "\n",
    "El algoritmo comienza tomando los datos binarios y los divide en *tókens* de 3 bytes. Estos 3 bytes luego son convertidos en cuatro caracteres imprimibles del estándar ASCII.\n",
    "Los 3 bytes son divididos en 4 números de 6 bits cada uno. Estos grupos de 6 bits sólo pueden representar caracteres imprimibles de la tabla ASCII. Los caracteres utilizados son:\n",
    "   * 0 al 9\n",
    "   * 26 letras minúsculas\n",
    "   * 26 letras mayúsculas\n",
    "   * '+' y '-'\n",
    "   \n",
    "La conversión de los datos a grupos de 3 bytes se repite hasta que toda la secuencia de datos binarios se haya codificado. \n",
    "Si el tamaño de los datos a codificar no es un múltiplo de tres, se agregan los bytes necesarios con un '0' (se agrega el caracter '=' para representar estos '0's). Este último caracter sólo puede aparecer al final de la cadena codificada.\n",
    "\n",
    "[Fuente](http://fm4dd.com/programming/base64/base64_algorithm.htm)"
   ]
  },
  {
   "cell_type": "markdown",
   "metadata": {},
   "source": [
    "# 20. ¿Qué mensaje recibes como respuesta?"
   ]
  },
  {
   "cell_type": "markdown",
   "metadata": {},
   "source": [
    "El servidor respondió a la petición con un código de estado 405 (*Not Allowed*)\n",
    "\n",
    "![Telnet con método incorrecto](images/telnet_jet1.png)"
   ]
  },
  {
   "cell_type": "markdown",
   "metadata": {},
   "source": [
    "# 21. ¿Qué mensaje recibes como respuesta ahora? (*GET /ittex.html HTTP/1.1*)"
   ]
  },
  {
   "cell_type": "markdown",
   "metadata": {},
   "source": [
    "El servidor respondió a la petición con un código de estado 404 (*Not Found*)\n",
    "![Telnet a URL incorrecta](images/telnet_ittex.png)"
   ]
  },
  {
   "cell_type": "markdown",
   "metadata": {},
   "source": [
    "# Servicios con estado y sin estado"
   ]
  },
  {
   "cell_type": "markdown",
   "metadata": {},
   "source": [
    "### Servicios sin estado"
   ]
  },
  {
   "cell_type": "markdown",
   "metadata": {},
   "source": [
    "Si tenemos corriendo el siguiente comando en una consola\n",
    "```bash\n",
    "    ncat -k -l -p 8080\n",
    "```\n",
    "y si nos intentamos conectar desde un navegador, ingresando en la barra de búsqueda *http://localhost:8080/index.html*, en la consola en la que tenemos corriendo `ncat` nos mostrará la petición del navegador\n",
    "```bash\n",
    "GET /index.html HTTP/1.1\n",
    "Host: localhost:8080\n",
    "User-Agent: Mozilla/5.0 (X11; Ubuntu; Linux x86_64; rv:59.0) Gecko/20100101 Firefox/59.0\n",
    "Accept: text/html,application/xhtml+xml,application/xml;q=0.9,*/*;q=0.8\n",
    "Accept-Language: en-US,en;q=0.5\n",
    "Accept-Encoding: gzip, deflate\n",
    "Cookie: username-localhost-8888=\"2|1:0|10:1522254407|23:username-localhost-8888|44:MjNiYzAwMDViOTA4NDVkN2FjM2IyZmJkNmY3OTMyNTQ=|ce8fde1cb532e2868ba7357fddc7a56ba381e15dda8c329df12eff78cebe86a0\"; _xsrf=2|fc8cf38b|cbf9ab4ddd1aa0b8ad3973a327111b4a|1521149853; username-localhost-8889=\"2|1:0|10:1521660304|23:username-localhost-8889|44:ZDU4MDQwNTFhNjA3NDlhYjliNzQ1N2VmM2U3MWIyNzg=|df3dd5d89d0c3a3db3f1481624945a5306fc75bcbc8e71f7ffe1610ab8976163\"\n",
    "DNT: 1\n",
    "Connection: keep-alive\n",
    "Upgrade-Insecure-Requests: 1\n",
    "```\n",
    "\n",
    "Si luego le contestamos al navegador con lo siguiente\n",
    "```bash\n",
    "HTTP/1.1 200 OK\n",
    "Content-Type: text/html\n",
    "Content-Length: 51\n",
    "\n",
    "<html><body> hola <img src=\"1.gif\"> </body> </html>\n",
    "```\n",
    "El navegador nos hará una segunda petición para pedirnos la imagen `1.gif`\n",
    "\n",
    "---\n",
    "\n",
    "Ahora bien si a la primer petición del navegador le contestamos con lo siguiente\n",
    "```bash\n",
    "HTTP/1.1 200 O\n",
    "Content-Type: text/html\n",
    "Content-Length: 70\n",
    "\n",
    "<html><body> hola <a href=\"principal.html\"> enlace </a> </body> </html>\n",
    "```\n",
    "renderizará un HTML con un \"hola\" y un enlace, el cual si es clickeado, se le enviará al servidor la petición\n",
    "```bash\n",
    "GET /principal.html HTTP/1.1\n",
    "Host: localhost:8080\n",
    "User-Agent: Mozilla/5.0 (X11; Ubuntu; Linux x86_64; rv:59.0) Gecko/20100101 Firefox/59.0\n",
    "Accept: text/html,application/xhtml+xml,application/xml;q=0.9,*/*;q=0.8\n",
    "Accept-Language: en-US,en;q=0.5\n",
    "Accept-Encoding: gzip, deflate\n",
    "Referer: http://localhost:8080/index.html\n",
    "Cookie: username-localhost-8888=\"2|1:0|10:1522254407|23:username-localhost-8888|44:MjNiYzAwMDViOTA4NDVkN2FjM2IyZmJkNmY3OTMyNTQ=|ce8fde1cb532e2868ba7357fddc7a56ba381e15dda8c329df12eff78cebe86a0\"; _xsrf=2|fc8cf38b|cbf9ab4ddd1aa0b8ad3973a327111b4a|1521149853; username-localhost-8889=\"2|1:0|10:1521660304|23:username-localhost-8889|44:ZDU4MDQwNTFhNjA3NDlhYjliNzQ1N2VmM2U3MWIyNzg=|df3dd5d89d0c3a3db3f1481624945a5306fc75bcbc8e71f7ffe1610ab8976163\"\n",
    "DNT: 1\n",
    "Connection: keep-alive\n",
    "Upgrade-Insecure-Requests: 1\n",
    "```"
   ]
  },
  {
   "cell_type": "markdown",
   "metadata": {},
   "source": [
    "### Servicios con estado"
   ]
  },
  {
   "cell_type": "markdown",
   "metadata": {},
   "source": [
    "#### Las siguientes pruebas fueron realizadas corriendo los contenedores *docker* proveidos por la cátedra\n",
    "\n",
    "* Nos conectamos via *telnet* al servidor SMTP\n",
    "```bash\n",
    "telnet localhost 2500\n",
    "```\n",
    "* Ingresamos un nombre de usuario\n",
    "```bash\n",
    "Trying 127.0.0.1...\n",
    "Connected to localhost.\n",
    "Escape character is '^]'.\n",
    "220 f256a36ebb20 NO UCE NO UBE NO RELAY PROBES ESMTP\n",
    "HELO luciano\n",
    "250 f256a36ebb20 Hello 172.19.0.1, nice to meet you\n",
    "```\n",
    "* Indicamos remitente (*MAIL FROM*), destinatario (*RCPT TO*), asunto (DATA -> Subject), y el cuerpo del mensaje. Para enviar el mail ingresamos un '.' (punto) y un salto de línea\n",
    "```bash\n",
    "MAIL FROM: luciano\n",
    "250 Sender address accepted\n",
    "RCPT TO: maestruli@localhost\n",
    "250 Recipient address accepted\n",
    "DATA\n",
    "354 Continue\n",
    "Subject: hola maestruli\n",
    "el maestruli sisi\n",
    ".\n",
    "250 Delivery in progress\n",
    "```\n",
    "* Ingresamos \"QUIT\" y salimos del cliente\n",
    "---\n",
    "\n",
    "* Para ver los mails recibidos, nos debemos conectar al servidor POP3 (puerto 1100)\n",
    "\n",
    "```bash\n",
    "telnet localhost 1100\n",
    "```\n",
    "\n",
    "* Ingresamos usuario y contraseña\n",
    "```bash\n",
    "USER maestruli@localhost\n",
    "+OK USER accepted, send PASS\n",
    "PASS maestruli@localhost\n",
    "+OK Authentication succeeded\n",
    "```\n",
    "\n",
    "* Para ver los mails que tenemos en la casilla, ejecutamos el comando `LIST`\n",
    "```bash\n",
    "LIST\n",
    "+OK 1\n",
    "1 124\n",
    ".\n",
    "```\n",
    "\n",
    "* Si queremos ver el mail 1, ejecutamos el comando `RETR 1`\n",
    "```bash\n",
    "RETR 1\n",
    "+OK 124\n",
    "Received: from luciano by 172.19.0.2 with ESMTP ; Wed, 28 Mar 2018 20:07:02 +0000\n",
    "Subject: hola maestruli\n",
    "el maestruli sisi\n",
    ".\n",
    "```\n",
    "\n",
    "* Por último, salimos del cliente con `QUIT`\n",
    "```bash\n",
    "QUIT\n",
    "+OK \n",
    "Connection closed by foreign host.\n",
    "```"
   ]
  },
  {
   "cell_type": "markdown",
   "metadata": {},
   "source": [
    "--- \n",
    "# PARTE 2: Programación de sockets en C"
   ]
  },
  {
   "cell_type": "markdown",
   "metadata": {},
   "source": [
    "# 1. ¿Que sucede con el Servidor?¿Por qué?"
   ]
  },
  {
   "cell_type": "markdown",
   "metadata": {},
   "source": [
    "El servidor primero se queda esperando la conexión de un cliente. Una vez establecida la conexión, imprime por salida estándar las cadenas envíadas por el cliente.\n",
    "\n",
    "Cuando el cliente finaliza la sesión, el servidor termina su ejecución; esto se debe a que una vez que deja de recibir datos por el socket del cliente, el servidor cierra dicho socket y termina el programa"
   ]
  },
  {
   "cell_type": "markdown",
   "metadata": {},
   "source": [
    "# 2. Modifique el servidor para que no finalice."
   ]
  },
  {
   "cell_type": "code",
   "execution_count": null,
   "metadata": {},
   "outputs": [],
   "source": [
    "%%writefile tcp_server.c\n",
    "/* PrimerServidorTCP.c\n",
    "Servicio: Las cadenas de texto recibidas de un Cliente son enviadas a la salida estándar.\n",
    "Nota: Por simplicidad del código no se realiza ningún tipo de control de errores. No obstante\n",
    "el servidor es totalmente funcional.\n",
    "*/\n",
    "#include <sys/types.h>\n",
    "#include <sys/socket.h>\n",
    "#include <netinet/in.h>\n",
    "#include <strings.h>\n",
    "#include <string.h>\n",
    "#include <stdio.h>\n",
    "#include <stdlib.h>\n",
    "#include <unistd.h>\n",
    "\n",
    "#define PORTNUMBER 12345\n",
    "#define BUFF_SIZE 1024\n",
    "\n",
    "int main(void){\n",
    "\n",
    "    char buf[BUFF_SIZE];\n",
    "    int _socket, cant_recv, new_socket, len;\n",
    "    struct sockaddr_in direcc;\n",
    "    /*Creamos el socket TCP (SOCK_STREAM)*/\n",
    "    if((_socket = socket(AF_INET, SOCK_STREAM, 0)) == -1){\n",
    "        perror(\"*** ERROR AL CREAR EL SOCKET ***\");\n",
    "        return 1;\n",
    "    }\n",
    "\n",
    "    /*limpiamos la estructura de datos*/\n",
    "    bzero((char *) &direcc, sizeof(direcc));\n",
    "\n",
    "    direcc.sin_family = AF_INET;\n",
    "    direcc.sin_port = htons(PORTNUMBER);\n",
    "    direcc.sin_addr.s_addr = htonl(INADDR_ANY);\n",
    "\n",
    "    len = sizeof(struct sockaddr_in);\n",
    "    /*Lo asociamos a una dirección y un puerto*/\n",
    "    if(bind(_socket, (struct sockaddr *) &direcc, len) < 0){\n",
    "        perror(\"*** ERROR AL ASOCIAR EL SOCKET ***\");\n",
    "        return 1;\n",
    "    }\n",
    "    /*Lo ponemos a la escucha de clientes que se quieran conectar*/\n",
    "    listen(_socket, 5);\n",
    "\n",
    "    /*el servidor no muere cuando se desconecta el cliente */\n",
    "    while(1){\n",
    "        /*Aceptamos clientes; devuelve un nuevo socket*/\n",
    "        new_socket = accept(_socket, (struct sockaddr *) &direcc, (socklen_t *) &len);\n",
    "        while ((cant_recv = recv(new_socket, buf, BUFF_SIZE, 0)) > 0){\n",
    "            printf(\"Mensaje recibido: %s\", buf);\n",
    "            bzero(buf, BUFF_SIZE);\n",
    "        }\n",
    "        close(new_socket);\n",
    "    }\n",
    "\n",
    "    /*Cerramos sockets y finalizamos*/\n",
    "    close(_socket);\n",
    "    exit(0);\n",
    "}\n"
   ]
  },
  {
   "cell_type": "code",
   "execution_count": null,
   "metadata": {},
   "outputs": [],
   "source": [
    "!gcc tcp_server.c -o server"
   ]
  },
  {
   "cell_type": "code",
   "execution_count": null,
   "metadata": {},
   "outputs": [],
   "source": [
    "!./server"
   ]
  },
  {
   "cell_type": "markdown",
   "metadata": {},
   "source": [
    "# Implementación del servidor TCP con pthreads"
   ]
  },
  {
   "cell_type": "code",
   "execution_count": 42,
   "metadata": {},
   "outputs": [
    {
     "name": "stdout",
     "output_type": "stream",
     "text": [
      "Writing pthreads.c\n"
     ]
    }
   ],
   "source": [
    "%%writefile pthreads.c\n",
    "#include <sys/types.h>\n",
    "#include <sys/socket.h>\n",
    "#include <netinet/in.h>\n",
    "#include <strings.h>\n",
    "#include <string.h>\n",
    "#include <stdio.h>\n",
    "#include <stdlib.h>\n",
    "#include <pthread.h>\n",
    "#include <unistd.h>\n",
    "\n",
    "#define PORTNUMBER 12345\n",
    "#define BUFF_SIZE 1024\n",
    "#define MAX_PTHREADS 256\n",
    "\n",
    "void *handle_client(void *);\n",
    "\n",
    "int main(void){\n",
    "\n",
    "    pthread_t clients[MAX_PTHREADS];\n",
    "    int _socket, new_socket, len;\n",
    "    struct sockaddr_in direcc;\n",
    "    /*Creamos el socket TCP (SOCK_STREAM)*/\n",
    "    if((_socket = socket(AF_INET, SOCK_STREAM, 0)) == -1){\n",
    "        perror(\"*** ERROR AL CREAR EL SOCKET ***\");\n",
    "        return 1;\n",
    "    }\n",
    "\n",
    "    /*limpiamos la estructura de datos*/\n",
    "    bzero((char *) &direcc, sizeof(direcc));\n",
    "\n",
    "    direcc.sin_family = AF_INET;\n",
    "    direcc.sin_port = htons(PORTNUMBER);\n",
    "    direcc.sin_addr.s_addr = htonl(INADDR_ANY);\n",
    "\n",
    "    len = sizeof(struct sockaddr_in);\n",
    "    /*Lo asociamos a una dirección y un puerto*/\n",
    "    if(bind(_socket, (struct sockaddr *) &direcc, len) < 0){\n",
    "        perror(\"*** ERROR AL ASOCIAR EL SOCKET ***\");\n",
    "        return 1;\n",
    "    }\n",
    "    /*Lo ponemos a la escucha de clientes que se quieran conectar*/\n",
    "    listen(_socket, 5);\n",
    "\n",
    "    /*el servidor no muere cuando se desconecta el cliente */\n",
    "    while(1){\n",
    "        for (int i=0; i<MAX_PTHREADS; i++){\n",
    "            /*Aceptamos clientes; devuelve un nuevo socket*/\n",
    "            new_socket = accept(_socket, (struct sockaddr *) &direcc, (socklen_t *) &len);\n",
    "            if((pthread_create(&clients[i], NULL, handle_client, (void *) &new_socket)) != 0){\n",
    "                perror(\"*** ERROR AL ATENDER UN CLIENTE ***\");\n",
    "                return 1;\n",
    "            }\n",
    "        }\n",
    "    }\n",
    "\n",
    "    /*Cerramos sockets y finalizamos*/\n",
    "    close(_socket);\n",
    "    exit(0);\n",
    "}\n",
    "\n",
    "void *handle_client(void *arg){\n",
    "    int _socket = *(int *)arg;\n",
    "    char buf[BUFF_SIZE];\n",
    "    while ((recv(_socket, buf, BUFF_SIZE, 0)) > 0){\n",
    "        printf(\"Mensaje recibido: %s\", buf);\n",
    "        bzero(buf, BUFF_SIZE);\n",
    "    }\n",
    "    close(_socket);\n",
    "    pthread_exit((void *)0);\n",
    "}\n"
   ]
  },
  {
   "cell_type": "code",
   "execution_count": 43,
   "metadata": {},
   "outputs": [],
   "source": [
    "!gcc pthreads.c -pthread -o pthreads"
   ]
  },
  {
   "cell_type": "code",
   "execution_count": null,
   "metadata": {},
   "outputs": [],
   "source": [
    "!./pthreads"
   ]
  },
  {
   "cell_type": "markdown",
   "metadata": {},
   "source": [
    "# 3. Modifique el servidor para que el servicio que presta se implemente en una función separada del cuerpo principal del programa (main())."
   ]
  },
  {
   "cell_type": "code",
   "execution_count": null,
   "metadata": {},
   "outputs": [],
   "source": [
    "%%writefile using_functions.c\n",
    "#include <sys/types.h>\n",
    "#include <sys/socket.h>\n",
    "#include <netinet/in.h>\n",
    "#include <string.h>\n",
    "#include <strings.h>\n",
    "#include <stdlib.h>\n",
    "#include <stdio.h>\n",
    "#include <unistd.h>\n",
    "#define PORTNUMBER 12345\n",
    "#define BUFF_SIZE 1024\n",
    "int accept_client(int, struct sockaddr *, socklen_t *);\n",
    "int main(void){\n",
    "\n",
    "    int _socket, new_socket, len;\n",
    "    struct sockaddr_in direcc;\n",
    "    _socket = socket(AF_INET, SOCK_STREAM, 0);\n",
    "    bzero((char *) &direcc, sizeof(direcc));\n",
    "\n",
    "    direcc.sin_family = AF_INET;\n",
    "    direcc.sin_port = htons(PORTNUMBER);\n",
    "    direcc.sin_addr.s_addr = htonl(INADDR_ANY);\n",
    "\n",
    "    len = sizeof(struct sockaddr_in);\n",
    "    bind(_socket, (struct sockaddr *) &direcc, len);\n",
    "    listen(_socket, 5);\n",
    "\n",
    "    /*el servidor no muere cuando se desconecta el cliente */\n",
    "    while(1){\n",
    "        accept_client(_socket, (struct sockaddr *) &direcc, (socklen_t *) &len);\n",
    "    }\n",
    "\n",
    "    close(_socket);\n",
    "    exit(0);\n",
    "}\n",
    "\n",
    "int accept_client(int sckt, struct sockaddr* addr, socklen_t *len){\n",
    "    int new_socket = accept(sckt, addr, len);\n",
    "    int cant_recv;\n",
    "    char buf[BUFF_SIZE];\n",
    "    while ((cant_recv = recv(new_socket, buf, sizeof(buf), 0)) > 0){\n",
    "        printf(\"Mensaje recibido: %s\", buf);\n",
    "        bzero(buf, BUFF_SIZE);\n",
    "    }\n",
    "    close(new_socket);\n",
    "\n",
    "    return 0;\n",
    "}\n"
   ]
  },
  {
   "cell_type": "markdown",
   "metadata": {},
   "source": [
    "# 4. Modifique el servidor para que preste el servicio de echo (vea RFC862)."
   ]
  },
  {
   "cell_type": "code",
   "execution_count": null,
   "metadata": {},
   "outputs": [],
   "source": [
    "%%writefile echo.c\n",
    "#include <sys/types.h>\n",
    "#include <sys/socket.h>\n",
    "#include <netinet/in.h>\n",
    "#include <strings.h>\n",
    "#include <string.h>\n",
    "#include <stdio.h>\n",
    "#include <stdlib.h>\n",
    "#include <unistd.h>\n",
    "\n",
    "#define PORTNUMBER 12345\n",
    "#define BUFF_SIZE 1024\n",
    "\n",
    "int main(void){\n",
    "\n",
    "    char buf[BUFF_SIZE], msj[BUFF_SIZE];\n",
    "    int _socket, cant_recv, new_socket, len;\n",
    "    struct sockaddr_in direcc;\n",
    "    _socket = socket(AF_INET, SOCK_STREAM, 0);\n",
    "    bzero((char *) &direcc, sizeof(direcc));\n",
    "\n",
    "    direcc.sin_family = AF_INET;\n",
    "    direcc.sin_port = htons(PORTNUMBER);\n",
    "    direcc.sin_addr.s_addr = htonl(INADDR_ANY);\n",
    "\n",
    "    len = sizeof(struct sockaddr_in);\n",
    "    bind(_socket, (struct sockaddr *) &direcc, len);\n",
    "    listen(_socket, 5);\n",
    "\n",
    "    /*el servidor no muere cuando se desconecta el cliente */\n",
    "    while(1){\n",
    "        new_socket = accept(_socket, (struct sockaddr *) &direcc, (socklen_t *) &len);\n",
    "        while ((cant_recv = recv(new_socket, buf, BUFF_SIZE, 0)) > 0){\n",
    "            /*hacemos eco*/\n",
    "            sprintf(msj, \"SERVIDOR DICE: %s\", buf);\n",
    "            write(new_socket, msj, strlen(msj)+1);\n",
    "            printf(\"Eco... %s\", buf);\n",
    "            bzero(buf, BUFF_SIZE);\n",
    "            bzero(msj, BUFF_SIZE);\n",
    "        }\n",
    "        close(new_socket);\n",
    "    }\n",
    "\n",
    "    close(_socket);\n",
    "    exit(0);\n",
    "}\n"
   ]
  },
  {
   "cell_type": "code",
   "execution_count": null,
   "metadata": {},
   "outputs": [],
   "source": [
    "!gcc echo.c -o echo"
   ]
  },
  {
   "cell_type": "code",
   "execution_count": null,
   "metadata": {},
   "outputs": [],
   "source": [
    "!./echo"
   ]
  },
  {
   "cell_type": "markdown",
   "metadata": {},
   "source": [
    "# 5. Modifique el servidor para que preste el servicio de character generator (vea RFC864)."
   ]
  },
  {
   "cell_type": "code",
   "execution_count": null,
   "metadata": {},
   "outputs": [],
   "source": [
    "%%writefile char_generator.c\n",
    "#include <sys/types.h>\n",
    "#include <sys/socket.h>\n",
    "#include <netinet/in.h>\n",
    "#include <strings.h>\n",
    "#include <string.h>\n",
    "#include <stdio.h>\n",
    "#include <stdlib.h>\n",
    "#include <time.h>\n",
    "#include <unistd.h>\n",
    "#include <syscall.h>\n",
    "#include <sys/wait.h>\n",
    "\n",
    "#define PORTNUMBER 12345\n",
    "#define BUFF_SIZE 64\n",
    "#define WAIT_TIME 50000\n",
    "\n",
    "\n",
    "int randrange(int min, int max);\n",
    "int write_socket(int, int);\n",
    "void handle_sigpipe(int);\n",
    "\n",
    "int main(void){\n",
    "\n",
    "    int _socket, new_socket, len;\n",
    "    struct sockaddr_in direcc;\n",
    "    _socket = socket(AF_INET, SOCK_STREAM, 0);\n",
    "    bzero((char *) &direcc, sizeof(direcc));\n",
    "\n",
    "    direcc.sin_family = AF_INET;\n",
    "    direcc.sin_port = htons(PORTNUMBER);\n",
    "    direcc.sin_addr.s_addr = htonl(INADDR_ANY);\n",
    "\n",
    "    len = sizeof(struct sockaddr_in);\n",
    "    bind(_socket, (struct sockaddr *) &direcc, len);\n",
    "    listen(_socket, 5);\n",
    "\n",
    "    /*\n",
    "     * añadimos una manejador para la señal SIGPIPE\n",
    "     * que va a ser la recibida cuando el cliente se desconecte\n",
    "     */\n",
    "    signal(SIGPIPE, handle_sigpipe);\n",
    "\n",
    "    srand(time(NULL));\n",
    "    /*el servidor no muere cuando se desconecta el cliente */\n",
    "    while(1){\n",
    "        new_socket = accept(_socket, (struct sockaddr *) &direcc, (socklen_t *) &len);\n",
    "        while(write_socket(new_socket, WAIT_TIME) > 0){ }\n",
    "        close(new_socket);\n",
    "    }\n",
    "\n",
    "    close(_socket);\n",
    "    exit(0);\n",
    "}\n",
    "\n",
    "int write_socket(int sckt, int wait){\n",
    "    char buf[BUFF_SIZE];\n",
    "    usleep(wait);\n",
    "    sprintf(buf, \"%d\\n\", randrange(0, 99));\n",
    "    return write(sckt, buf, strlen(buf)+1);\n",
    "}\n",
    "\n",
    "void handle_sigpipe(int signum){\n",
    "    signal(SIGPIPE, handle_sigpipe);\n",
    "}\n",
    "\n",
    "int randrange(int min, int max){\n",
    "    return (rand() % (max + 1 - min) + min);\n",
    "}\n"
   ]
  },
  {
   "cell_type": "code",
   "execution_count": null,
   "metadata": {},
   "outputs": [],
   "source": [
    "!gcc char_generator.c -o char_generator"
   ]
  },
  {
   "cell_type": "code",
   "execution_count": null,
   "metadata": {},
   "outputs": [],
   "source": [
    "!./char_generator"
   ]
  },
  {
   "cell_type": "markdown",
   "metadata": {},
   "source": [
    "# 6. Desarrolle un cliente que se comunique con el servidor."
   ]
  },
  {
   "cell_type": "code",
   "execution_count": null,
   "metadata": {},
   "outputs": [],
   "source": [
    "%%writefile tcp_client.c\n",
    "/*\n",
    "* Cliente TCP: al momento de ejectuarlo, acepta el argumento \"-e\" o \"--echo\"\n",
    "* para que muestra por salida estándar la respuesta del servidor\n",
    "*/\n",
    "#include<stdio.h>\n",
    "#include<string.h>\n",
    "#include<strings.h>\n",
    "#include<unistd.h>\n",
    "#include<sys/socket.h>\n",
    "#include<arpa/inet.h>\n",
    " \n",
    "#define HOST \"127.0.0.1\"\n",
    "#define PORTNUMBER 12345\n",
    "#define BUFF_SIZE 1024\n",
    "\n",
    "int check_arg(int, char *, char *);\n",
    "\n",
    "int main(int argc , char *argv[])\n",
    "{\n",
    "    int sock;\n",
    "    struct sockaddr_in server;\n",
    "    char msj[BUFF_SIZE], rta_server[BUFF_SIZE];\n",
    "     \n",
    "    //Creamos el socket\n",
    "    sock = socket(AF_INET , SOCK_STREAM , 0);\n",
    "    if (sock == -1)\n",
    "    {\n",
    "        perror(\"*** ERROR AL CREAR EL SOCKET ***\");\n",
    "        return 1;\n",
    "    }\n",
    "     \n",
    "    server.sin_addr.s_addr = inet_addr(HOST);\n",
    "    server.sin_family = AF_INET;\n",
    "    server.sin_port = htons(PORTNUMBER);\n",
    " \n",
    "    //Nos conectamos al servidor\n",
    "    if (connect(sock , (struct sockaddr *)&server , sizeof(server)) < 0)\n",
    "    {\n",
    "        perror(\"*** ERROR AL CONECTAR AL SERVIDOR ***\");\n",
    "        return 1;\n",
    "    }\n",
    "     \n",
    "    printf(\"Conectado a %s:%d\\n\", HOST, PORTNUMBER);\n",
    "     \n",
    "    while(1)\n",
    "    {\n",
    "         \n",
    "        //enviamos el mensaje al servidor\n",
    "        printf(\"Ingrese su mensaje: \");\n",
    "        fgets(msj, BUFF_SIZE, stdin);\n",
    "\n",
    "        if( send(sock, msj, strlen(msj)+1, 0) < 0)\n",
    "        {\n",
    "            perror(\"*** ERROR AL ENVIAR EL MENSAJE AL SERVIDOR***\");\n",
    "            return 1;\n",
    "        }\n",
    "         \n",
    "        //recibimos la respuesta del servidor\n",
    "        if(check_arg(argc, argv[1], \"-e\") || check_arg(argc, argv[1], \"--echo\")){\n",
    "            if( recv(sock, rta_server, BUFF_SIZE, 0) < 0)\n",
    "            {\n",
    "                perror(\"*** ERROR AL RECIBIR RESPUESTA DEL SERVIDOR ***\");\n",
    "                return 1;\n",
    "            }\n",
    "             \n",
    "            printf(\"Respuesta del servidor: %s\\n\", rta_server);\n",
    "        }\n",
    "        bzero(msj, BUFF_SIZE);\n",
    "    }\n",
    "     \n",
    "    /*Cerramos el socket y finalizamos*/\n",
    "    close(sock);\n",
    "    return 0;\n",
    "}\n",
    "\n",
    "int check_arg(int argc, char *argv, char *arg){\n",
    "    return argc == 2 && strcmp(argv, arg) == 0;\n",
    "}"
   ]
  },
  {
   "cell_type": "code",
   "execution_count": null,
   "metadata": {},
   "outputs": [],
   "source": [
    "!gcc tcp_client.c -o client"
   ]
  },
  {
   "cell_type": "code",
   "execution_count": null,
   "metadata": {},
   "outputs": [],
   "source": [
    "!./client"
   ]
  },
  {
   "cell_type": "markdown",
   "metadata": {},
   "source": [
    "# 7. Modificar el Servidor del punto anterior para que cambie el servicio por uno que devuelva la suma de dos parámetros enteros o una leyenda de error en parámetros si estos no son enteros"
   ]
  },
  {
   "cell_type": "code",
   "execution_count": null,
   "metadata": {},
   "outputs": [],
   "source": [
    "%%writefile sum_it.c\n",
    "#include <sys/types.h>\n",
    "#include <sys/socket.h>\n",
    "#include <netinet/in.h>\n",
    "#include <strings.h>\n",
    "#include <string.h>\n",
    "#include <stdio.h>\n",
    "#include <stdlib.h>\n",
    "#include <unistd.h>\n",
    "\n",
    "#define PORTNUMBER 12345\n",
    "#define BUFF_SIZE 1024\n",
    "#define MSG_SIZE 128\n",
    "\n",
    "int main(void){\n",
    "\n",
    "    char buf[BUFF_SIZE], msg[MSG_SIZE];\n",
    "    int _socket, cant_recv, \n",
    "        new_socket, len,\n",
    "        sum1, sum2;\n",
    "    struct sockaddr_in direcc;\n",
    "    _socket = socket(AF_INET, SOCK_STREAM, 0);\n",
    "    bzero((char *) &direcc, sizeof(direcc));\n",
    "\n",
    "    direcc.sin_family = AF_INET;\n",
    "    direcc.sin_port = htons(PORTNUMBER);\n",
    "    direcc.sin_addr.s_addr = htonl(INADDR_ANY);\n",
    "\n",
    "    len = sizeof(struct sockaddr_in);\n",
    "    bind(_socket, (struct sockaddr *) &direcc, len);\n",
    "    listen(_socket, 5);\n",
    "\n",
    "    /*el servidor no muere cuando se desconecta el cliente */\n",
    "    while(1){\n",
    "        new_socket = accept(_socket, (struct sockaddr *) &direcc, (socklen_t *) &len);\n",
    "        while ((cant_recv = recv(new_socket, buf, BUFF_SIZE, 0)) > 0){\n",
    "            printf(\"Mensaje recibido: %s\", buf);\n",
    "\n",
    "            /*\n",
    "             * Si el mensaje recibido tiene el formato correcto,\n",
    "             * devolvemos la suma de los parámetros \n",
    "             */\n",
    "            if (sscanf(buf, \"%d+%d\", &sum1, &sum2) == 2){\n",
    "                sprintf(msg, \"%d+%d = %d\\n\", sum1, sum2, sum1+sum2);\n",
    "            } else {\n",
    "                sprintf(msg, \"Formato incorrecto\\nUSO: NUM+NUM\\n\");\n",
    "            }\n",
    "            write(new_socket, msg, strlen(msg)+1);\n",
    "            bzero(buf, BUFF_SIZE);\n",
    "            bzero(msg, MSG_SIZE);\n",
    "        }\n",
    "        close(new_socket);\n",
    "    }\n",
    "\n",
    "    close(_socket);\n",
    "    exit(0);\n",
    "}\n"
   ]
  },
  {
   "cell_type": "code",
   "execution_count": null,
   "metadata": {},
   "outputs": [],
   "source": [
    "!gcc sum_it.c -o sum_it"
   ]
  },
  {
   "cell_type": "code",
   "execution_count": null,
   "metadata": {},
   "outputs": [],
   "source": [
    "!./sum_it"
   ]
  },
  {
   "cell_type": "markdown",
   "metadata": {},
   "source": [
    "# 8. Transformar el Servidor iterativo TCP de Eco del punto 4), en un servidor iterativo de Eco con UDP. Crear el cliente correspondiente."
   ]
  },
  {
   "cell_type": "code",
   "execution_count": null,
   "metadata": {},
   "outputs": [],
   "source": [
    "%%writefile upd_server.c\n",
    "#include<stdio.h>\n",
    "#include<strings.h> \n",
    "#include<string.h> \n",
    "#include<stdlib.h>\n",
    "#include<unistd.h>\n",
    "#include<arpa/inet.h>\n",
    "#include<sys/socket.h>\n",
    " \n",
    "#define BUF_SIZE 1024\n",
    "#define PORTNUMBER 12345\n",
    " \n",
    "int main(void)\n",
    "{\n",
    "    struct sockaddr_in direcc, client;\n",
    "     \n",
    "    int _socket, slen = sizeof(client) , recv_len;\n",
    "    char buf[BUF_SIZE];\n",
    "     \n",
    "    //creamos el socket UDP\n",
    "    if ((_socket=socket(AF_INET, SOCK_DGRAM, 0)) == -1)\n",
    "    {\n",
    "        perror(\"*** ERROR AL CREAR EL SOCKET ***\");\n",
    "        return 1;\n",
    "    }\n",
    "    /*limpiamos la estructura de datos*/\n",
    "    bzero((char *) &direcc, sizeof(direcc));\n",
    "     \n",
    "    direcc.sin_family = AF_INET;\n",
    "    direcc.sin_port = htons(PORTNUMBER);\n",
    "    direcc.sin_addr.s_addr = htonl(INADDR_ANY);\n",
    "     \n",
    "    //asociamos el socket a una dirección y un puerto\n",
    "    if( bind(_socket , (struct sockaddr*)&direcc, sizeof(direcc) ) == -1)\n",
    "    {\n",
    "        perror(\"*** ERROR AL ASOCIAR EL SOCKET ***\");\n",
    "        return 1;\n",
    "    }\n",
    "     \n",
    "    //esperamos datos...\n",
    "    while(1)\n",
    "    {\n",
    "        //recibimos datos\n",
    "        if ((recv_len = recvfrom(_socket, buf, BUF_SIZE, 0, (struct sockaddr *) &client, (socklen_t *) &slen)) == -1)\n",
    "        {\n",
    "            perror(\"*** ERROR AL RECIBIR DATOS ***\");\n",
    "            return 1;\n",
    "        }\n",
    "         \n",
    "        printf(\"%s:%d dice: %s\", inet_ntoa(client.sin_addr), ntohs(client.sin_port), buf);\n",
    "         \n",
    "        //hacemos eco\n",
    "        if (sendto(_socket, buf, strlen(buf)+1, 0, (struct sockaddr*) &client, slen) == -1)\n",
    "        {\n",
    "            perror(\"*** ERROR AL ENVIAR DATOS ***\");\n",
    "            return 1;\n",
    "        }\n",
    "\n",
    "        /*limpiamos el buffer de entrada*/\n",
    "        bzero(buf, BUF_SIZE);\n",
    "    }\n",
    " \n",
    "    close(_socket);\n",
    "    return 0;\n",
    "}"
   ]
  },
  {
   "cell_type": "code",
   "execution_count": null,
   "metadata": {},
   "outputs": [],
   "source": [
    "!gcc upd_server.c -o udp_server"
   ]
  },
  {
   "cell_type": "code",
   "execution_count": null,
   "metadata": {},
   "outputs": [],
   "source": [
    "!./udp_server"
   ]
  },
  {
   "cell_type": "code",
   "execution_count": null,
   "metadata": {},
   "outputs": [],
   "source": [
    "%%writefile udp_client.c\n",
    "#include<stdio.h>\n",
    "#include<string.h>\n",
    "#include<strings.h>\n",
    "#include<stdlib.h>\n",
    "#include<unistd.h>\n",
    "#include<arpa/inet.h>\n",
    "#include<sys/socket.h>\n",
    " \n",
    "#define SERVER \"127.0.0.1\"\n",
    "#define BUFF_SIZE 1024\n",
    "#define PORTNUMBER 12345\n",
    " \n",
    "int main(void)\n",
    "{\n",
    "    struct sockaddr_in server;\n",
    "    int _socket, slen=sizeof(server);\n",
    "    char res[BUFF_SIZE];\n",
    "    char msj[BUFF_SIZE];\n",
    " \n",
    "    if ((_socket=socket(AF_INET, SOCK_DGRAM, 0)) == -1)\n",
    "    {\n",
    "        perror(\"*** ERROR AL CREAR EL SOCKET ***\");\n",
    "        return 1;\n",
    "    }\n",
    " \n",
    "    bzero((char *) &server, sizeof(server));\n",
    "    server.sin_family = AF_INET;\n",
    "    server.sin_port = htons(PORTNUMBER);\n",
    "     \n",
    "    while(1)\n",
    "    {\n",
    "        printf(\"Ingrese su mensaje: \");\n",
    "        fgets(msj, BUFF_SIZE, stdin);\n",
    "         \n",
    "        //enviamos el mensaje\n",
    "        if (sendto(_socket, msj, strlen(msj)+1, 0, (struct sockaddr *) &server, slen)==-1)\n",
    "        {\n",
    "            perror(\"*** ERROR AL ENVIAR MENSAJE ***\");\n",
    "            return 1;\n",
    "        }\n",
    "         \n",
    "        \n",
    "        //recibimos respuesta del servidor\n",
    "        if (recvfrom(_socket, res, BUFF_SIZE, 0, (struct sockaddr *) &server, (socklen_t *) &slen) == -1)\n",
    "        {\n",
    "            perror(\"*** ERROR AL RECIBIR RESPUESTA ***\");\n",
    "            return 1;\n",
    "        }\n",
    "         \n",
    "        printf(\"Respuesta del servidor: %s\", res);\n",
    "        bzero(res, BUFF_SIZE);\n",
    "        bzero(msj, BUFF_SIZE);\n",
    "    }\n",
    " \n",
    "    close(_socket);\n",
    "    return 0;\n",
    "}"
   ]
  },
  {
   "cell_type": "code",
   "execution_count": null,
   "metadata": {},
   "outputs": [],
   "source": [
    "!gcc udp_client.c -o udp_client"
   ]
  },
  {
   "cell_type": "code",
   "execution_count": null,
   "metadata": {},
   "outputs": [],
   "source": [
    "!./udp_client"
   ]
  },
  {
   "cell_type": "markdown",
   "metadata": {},
   "source": [
    "---\n",
    "# PARTE 3: NMAP"
   ]
  },
  {
   "cell_type": "markdown",
   "metadata": {},
   "source": [
    "# 1. Enumerar equipos de la red y sus servicios\n",
    "## a) Lanzar un escaneado *Ping Sweeping* [opción -sP] para identificar, mediante Ping, las máquinas que componen la red"
   ]
  },
  {
   "cell_type": "code",
   "execution_count": 38,
   "metadata": {},
   "outputs": [
    {
     "name": "stdout",
     "output_type": "stream",
     "text": [
      "\n",
      "Starting Nmap 7.01 ( https://nmap.org ) at 2018-03-29 00:12 -03\n",
      "Nmap scan report for 192.168.0.1\n",
      "Host is up (0.0058s latency).\n",
      "Nmap scan report for 192.168.0.12\n",
      "Host is up (0.021s latency).\n",
      "Nmap scan report for 192.168.0.15\n",
      "Host is up (0.013s latency).\n",
      "Nmap scan report for 192.168.0.40\n",
      "Host is up (0.00057s latency).\n",
      "Nmap done: 256 IP addresses (4 hosts up) scanned in 2.55 seconds\n"
     ]
    }
   ],
   "source": [
    "%%bash\n",
    "\n",
    "# conseguimos la familia de direcciones IP a la cual estamos conectados\n",
    "FAMILIA=$(ifconfig | tail -8 | head -1 |\\\n",
    "grep -woP \"192\\.168\\.\\d+\" | head -1)\n",
    "\n",
    "FAMILIA=$FAMILIA.1/24\n",
    "\n",
    "nmap -sP $FAMILIA"
   ]
  },
  {
   "cell_type": "markdown",
   "metadata": {},
   "source": [
    "# b) Sobre cada uno de los equipos que aparezcan como activos (excluido observador) realizar un escaneo de tipo TCP connect scanning [opción -sT] para determinar que puertos están abiertos."
   ]
  },
  {
   "cell_type": "code",
   "execution_count": 39,
   "metadata": {},
   "outputs": [
    {
     "name": "stdout",
     "output_type": "stream",
     "text": [
      "\n",
      "*** NMAP SOBRE IP '192.168.0.12' ***\n",
      "\n",
      "Starting Nmap 7.01 ( https://nmap.org ) at 2018-03-29 00:12 -03\n",
      "Initiating Ping Scan at 00:12\n",
      "Scanning 192.168.0.12 [2 ports]\n",
      "Completed Ping Scan at 00:12, 0.11s elapsed (1 total hosts)\n",
      "Initiating Parallel DNS resolution of 1 host. at 00:12\n",
      "Completed Parallel DNS resolution of 1 host. at 00:12, 0.02s elapsed\n",
      "Initiating Connect Scan at 00:12\n",
      "Scanning 192.168.0.12 [1000 ports]\n",
      "Discovered open port 9080/tcp on 192.168.0.12\n",
      "Completed Connect Scan at 00:12, 3.21s elapsed (1000 total ports)\n",
      "Nmap scan report for 192.168.0.12\n",
      "Host is up (0.018s latency).\n",
      "Not shown: 999 closed ports\n",
      "PORT     STATE SERVICE\n",
      "9080/tcp open  glrpc\n",
      "\n",
      "Read data files from: /usr/bin/../share/nmap\n",
      "Nmap done: 1 IP address (1 host up) scanned in 3.38 seconds\n",
      "\n",
      "*** NMAP SOBRE IP '192.168.0.13' ***\n",
      "\n",
      "Starting Nmap 7.01 ( https://nmap.org ) at 2018-03-29 00:12 -03\n",
      "Initiating Ping Scan at 00:12\n",
      "Scanning 192.168.0.13 [2 ports]\n",
      "Completed Ping Scan at 00:12, 0.20s elapsed (1 total hosts)\n",
      "Initiating Parallel DNS resolution of 1 host. at 00:12\n",
      "Completed Parallel DNS resolution of 1 host. at 00:12, 0.02s elapsed\n",
      "Initiating Connect Scan at 00:12\n",
      "Scanning 192.168.0.13 [1000 ports]\n",
      "Completed Connect Scan at 00:12, 0.87s elapsed (1000 total ports)\n",
      "Nmap scan report for 192.168.0.13\n",
      "Host is up (0.036s latency).\n",
      "All 1000 scanned ports on 192.168.0.13 are closed\n",
      "\n",
      "Read data files from: /usr/bin/../share/nmap\n",
      "Nmap done: 1 IP address (1 host up) scanned in 1.14 seconds\n",
      "\n",
      "*** NMAP SOBRE IP '192.168.0.15' ***\n",
      "\n",
      "Starting Nmap 7.01 ( https://nmap.org ) at 2018-03-29 00:12 -03\n",
      "Initiating Ping Scan at 00:12\n",
      "Scanning 192.168.0.15 [2 ports]\n",
      "Completed Ping Scan at 00:12, 0.00s elapsed (1 total hosts)\n",
      "Initiating Parallel DNS resolution of 1 host. at 00:12\n",
      "Completed Parallel DNS resolution of 1 host. at 00:12, 0.03s elapsed\n",
      "Initiating Connect Scan at 00:12\n",
      "Scanning 192.168.0.15 [1000 ports]\n",
      "Discovered open port 8080/tcp on 192.168.0.15\n",
      "Discovered open port 80/tcp on 192.168.0.15\n",
      "Discovered open port 631/tcp on 192.168.0.15\n",
      "Discovered open port 9100/tcp on 192.168.0.15\n",
      "Completed Connect Scan at 00:12, 0.78s elapsed (1000 total ports)\n",
      "Nmap scan report for 192.168.0.15\n",
      "Host is up (0.036s latency).\n",
      "Not shown: 996 closed ports\n",
      "PORT     STATE SERVICE\n",
      "80/tcp   open  http\n",
      "631/tcp  open  ipp\n",
      "8080/tcp open  http-proxy\n",
      "9100/tcp open  jetdirect\n",
      "\n",
      "Read data files from: /usr/bin/../share/nmap\n",
      "Nmap done: 1 IP address (1 host up) scanned in 0.85 seconds\n",
      "\n",
      "*** NMAP SOBRE IP '192.168.0.24' ***\n",
      "\n",
      "Starting Nmap 7.01 ( https://nmap.org ) at 2018-03-29 00:12 -03\n",
      "Initiating Ping Scan at 00:12\n",
      "Scanning 192.168.0.24 [2 ports]\n",
      "Completed Ping Scan at 00:12, 0.24s elapsed (1 total hosts)\n",
      "Initiating Parallel DNS resolution of 1 host. at 00:12\n",
      "Completed Parallel DNS resolution of 1 host. at 00:12, 0.04s elapsed\n",
      "Initiating Connect Scan at 00:12\n",
      "Scanning 192.168.0.24 [1000 ports]\n",
      "Completed Connect Scan at 00:12, 5.07s elapsed (1000 total ports)\n",
      "Nmap scan report for 192.168.0.24\n",
      "Host is up (0.039s latency).\n",
      "All 1000 scanned ports on 192.168.0.24 are closed\n",
      "\n",
      "Read data files from: /usr/bin/../share/nmap\n",
      "Nmap done: 1 IP address (1 host up) scanned in 5.40 seconds\n"
     ]
    }
   ],
   "source": [
    "%%bash\n",
    "\n",
    "# conseguimos las IPs de la red local\n",
    "# dejando de lado la del host observador\n",
    "# y la .1\n",
    "HOSTS=$(nmap -sP 192.168.0.0/24 | grep -vP \"^.*1$\" |\\\n",
    "grep -vP $(ifconfig | tail -8 | head -1 |\\\n",
    "grep -woP \"192\\.168\\.\\d+\\.\\d+\" | head -1)\\\n",
    "| grep -oP \"192\\.168\\..*\")\n",
    "\n",
    "for host in $HOSTS; do\n",
    "    echo -e \"\\n*** NMAP SOBRE IP '$host' ***\"\n",
    "    nmap -sT -v $host\n",
    "done"
   ]
  },
  {
   "cell_type": "markdown",
   "metadata": {},
   "source": [
    "# c) Repetir el escaneado añadiendo la opción -O para que nmap trate de identificar el Sistema Operativo que ejecuta y la opción -sV para determinar la versión concreta de los servicios que tiene activados."
   ]
  },
  {
   "cell_type": "markdown",
   "metadata": {},
   "source": [
    "#### El siguiente script requiere privilegios de superusuario para ser ejecutado"
   ]
  },
  {
   "cell_type": "code",
   "execution_count": null,
   "metadata": {},
   "outputs": [],
   "source": [
    "%%bash\n",
    "\n",
    "# conseguimos las IPs de la red local\n",
    "# dejando de lado la del host observador\n",
    "# y la .1\n",
    "HOSTS=$(nmap -sP 192.168.0.0/24 | grep -vP \"^.*1$\" |\\\n",
    "grep -vP $(ifconfig | tail -8 | head -1 |\\\n",
    "grep -woP \"192\\.168\\.\\d+\\.\\d+\" | head -1)\\\n",
    "| grep -oP \"192\\.168\\..*\")\n",
    "\n",
    "for host in $HOSTS; do\n",
    "    echo -e \"\\n*** NMAP SOBRE IP '$host' ***\"\n",
    "    nmap -sT -O -sV $host\n",
    "done"
   ]
  },
  {
   "cell_type": "markdown",
   "metadata": {},
   "source": [
    "#### Corriendo el script anterior localmente y con privilegios de super usuario, arroja los siguientes resultados\n",
    "\n",
    "```bash\n",
    "*** NMAP SOBRE IP '192.168.0.10' ***\n",
    "\n",
    "Starting Nmap 7.01 ( https://nmap.org ) at 2018-03-29 00:16 -03\n",
    "Nmap scan report for 192.168.0.10\n",
    "Host is up (0.0086s latency).\n",
    "All 1000 scanned ports on 192.168.0.10 are filtered\n",
    "MAC Address: C8:D7:19:00:9D:30 (Cisco-Linksys)\n",
    "Too many fingerprints match this host to give specific OS details\n",
    "Network Distance: 1 hop\n",
    "\n",
    "OS and Service detection performed. Please report any incorrect results at https://nmap.org/submit/ .\n",
    "Nmap done: 1 IP address (1 host up) scanned in 24.36 seconds                                                                                                                            \n",
    "                                                                                                                                                                                        \n",
    "*** NMAP SOBRE IP '192.168.0.12' ***                                                                                                                                                    \n",
    "                                                                                                                                                                                        \n",
    "Starting Nmap 7.01 ( https://nmap.org ) at 2018-03-29 00:16 -03                                                                                                                         \n",
    "Nmap scan report for 192.168.0.12                                                                                                                                                       \n",
    "Host is up (0.0056s latency).                                                                                                                                                           \n",
    "Not shown: 999 closed ports                                                                                                                                                             \n",
    "PORT     STATE SERVICE VERSION                                                                                                                                                          \n",
    "9080/tcp open  http    Mongoose httpd\n",
    "MAC Address: A8:96:75:5D:34:DC (Unknown)\n",
    "No exact OS matches for host (If you know what OS is running on it, see https://nmap.org/submit/ ).\n",
    "TCP/IP fingerprint:\n",
    "OS:SCAN(V=7.01%E=4%D=3/29%OT=9080%CT=1%CU=42847%PV=Y%DS=1%DC=D%G=Y%M=A89675\n",
    "OS:%TM=5ABC5AAB%P=x86_64-pc-linux-gnu)SEQ(SP=FD%GCD=1%ISR=10C%TI=Z%CI=I%TS=\n",
    "OS:8)SEQ(SP=FD%GCD=1%ISR=10C%TI=Z%CI=I%II=I%TS=8)OPS(O1=M5B4ST11NW8%O2=M5B4\n",
    "OS:ST11NW8%O3=M5B4NNT11NW8%O4=M5B4ST11NW8%O5=M5B4ST11NW8%O6=M5B4ST11)WIN(W1\n",
    "OS:=FFFF%W2=FFFF%W3=FFFF%W4=FFFF%W5=FFFF%W6=FFFF)ECN(R=Y%DF=Y%T=40%W=FFFF%O\n",
    "OS:=M5B4NNSNW8%CC=Y%Q=)T1(R=Y%DF=Y%T=40%S=O%A=S+%F=AS%RD=0%Q=)T2(R=N)T3(R=N\n",
    "OS:)T4(R=Y%DF=Y%T=40%W=0%S=A%A=Z%F=R%O=%RD=0%Q=)T5(R=Y%DF=Y%T=40%W=0%S=Z%A=\n",
    "OS:S+%F=AR%O=%RD=0%Q=)T6(R=Y%DF=Y%T=40%W=0%S=A%A=Z%F=R%O=%RD=0%Q=)T7(R=Y%DF\n",
    "OS:=Y%T=40%W=0%S=Z%A=S+%F=AR%O=%RD=0%Q=)U1(R=Y%DF=N%T=40%IPL=164%UN=0%RIPL=\n",
    "OS:G%RID=G%RIPCK=G%RUCK=G%RUD=G)IE(R=Y%DFI=N%T=40%CD=S)\n",
    "\n",
    "Network Distance: 1 hop\n",
    "\n",
    "OS and Service detection performed. Please report any incorrect results at https://nmap.org/submit/ .\n",
    "Nmap done: 1 IP address (1 host up) scanned in 21.17 seconds\n",
    "\n",
    "*** NMAP SOBRE IP '192.168.0.13' ***\n",
    "\n",
    "Starting Nmap 7.01 ( https://nmap.org ) at 2018-03-29 00:16 -03\n",
    "Nmap scan report for 192.168.0.13\n",
    "Host is up (0.073s latency).\n",
    "Not shown: 999 closed ports\n",
    "PORT     STATE    SERVICE VERSION\n",
    "2500/tcp filtered rtsserv\n",
    "MAC Address: 18:89:5B:3C:27:67 (Samsung Electronics)\n",
    "Too many fingerprints match this host to give specific OS details\n",
    "Network Distance: 1 hop\n",
    "\n",
    "OS and Service detection performed. Please report any incorrect results at https://nmap.org/submit/ .\n",
    "Nmap done: 1 IP address (1 host up) scanned in 6.83 seconds\n",
    "\n",
    "*** NMAP SOBRE IP '192.168.0.15' ***\n",
    "\n",
    "Starting Nmap 7.01 ( https://nmap.org ) at 2018-03-29 00:17 -03\n",
    "Nmap scan report for 192.168.0.15\n",
    "Host is up (0.018s latency).\n",
    "Not shown: 996 closed ports\n",
    "PORT     STATE SERVICE    VERSION\n",
    "80/tcp   open  http       Mrvl-R1_0\n",
    "631/tcp  open  ipp        Mrvl-R1_0\n",
    "8080/tcp open  http-proxy Mrvl-R1_0\n",
    "9100/tcp open  jetdirect?\n",
    "3 services unrecognized despite returning data. If you know the service/version, please submit the following fingerprints at https://nmap.org/cgi-bin/submit.cgi?new-service :\n",
    "==============NEXT SERVICE FINGERPRINT (SUBMIT INDIVIDUALLY)==============\n",
    "SF-Port80-TCP:V=7.01%I=7%D=3/29%Time=5ABC5AC0%P=x86_64-pc-linux-gnu%r(GetR\n",
    "SF:equest,AF,\"HTTP/1\\.1\\x20301\\x20Moved\\x20Permanently\\r\\nContent-Length:0\n",
    "SF:\\r\\nLocation:\\x20/SSI/index\\.htm\\r\\nServer:\\x20Mrvl-R1_0\\r\\nCache-Contr\n",
    "SF:ol:\\x20no-cache\\r\\nConnection:\\x20keep-alive\\r\\nX-Frame-Options:\\x20SAM\n",
    "SF:EORIGIN\\r\\n\\r\\n\")%r(FourOhFourRequest,8D,\"HTTP/1\\.1\\x20404\\x20Not\\x20Fo\n",
    "SF:und\\r\\nContent-Length:0\\r\\nServer:\\x20Mrvl-R1_0\\r\\nCache-Control:\\x20no\n",
    "SF:-cache\\r\\nConnection:\\x20keep-alive\\r\\nX-Frame-Options:\\x20SAMEORIGIN\\r\n",
    "SF:\\n\\r\\n\");\n",
    "==============NEXT SERVICE FINGERPRINT (SUBMIT INDIVIDUALLY)==============\n",
    "SF-Port631-TCP:V=7.01%I=7%D=3/29%Time=5ABC5AC0%P=x86_64-pc-linux-gnu%r(Get\n",
    "SF:Request,AF,\"HTTP/1\\.1\\x20301\\x20Moved\\x20Permanently\\r\\nContent-Length:\n",
    "SF:0\\r\\nLocation:\\x20/SSI/index\\.htm\\r\\nServer:\\x20Mrvl-R1_0\\r\\nCache-Cont\n",
    "SF:rol:\\x20no-cache\\r\\nConnection:\\x20keep-alive\\r\\nX-Frame-Options:\\x20SA\n",
    "SF:MEORIGIN\\r\\n\\r\\n\")%r(FourOhFourRequest,8D,\"HTTP/1\\.1\\x20404\\x20Not\\x20F\n",
    "SF:ound\\r\\nContent-Length:0\\r\\nServer:\\x20Mrvl-R1_0\\r\\nCache-Control:\\x20n\n",
    "SF:o-cache\\r\\nConnection:\\x20keep-alive\\r\\nX-Frame-Options:\\x20SAMEORIGIN\\\n",
    "SF:r\\n\\r\\n\");\n",
    "==============NEXT SERVICE FINGERPRINT (SUBMIT INDIVIDUALLY)==============\n",
    "SF-Port8080-TCP:V=7.01%I=7%D=3/29%Time=5ABC5AC0%P=x86_64-pc-linux-gnu%r(Ge\n",
    "SF:tRequest,AF,\"HTTP/1\\.1\\x20301\\x20Moved\\x20Permanently\\r\\nContent-Length\n",
    "SF::0\\r\\nLocation:\\x20/SSI/index\\.htm\\r\\nServer:\\x20Mrvl-R1_0\\r\\nCache-Con\n",
    "SF:trol:\\x20no-cache\\r\\nConnection:\\x20keep-alive\\r\\nX-Frame-Options:\\x20S\n",
    "SF:AMEORIGIN\\r\\n\\r\\n\")%r(FourOhFourRequest,8D,\"HTTP/1\\.1\\x20404\\x20Not\\x20\n",
    "SF:Found\\r\\nContent-Length:0\\r\\nServer:\\x20Mrvl-R1_0\\r\\nCache-Control:\\x20\n",
    "SF:no-cache\\r\\nConnection:\\x20keep-alive\\r\\nX-Frame-Options:\\x20SAMEORIGIN\n",
    "SF:\\r\\n\\r\\n\");\n",
    "MAC Address: 68:14:01:A3:87:E1 (Hon Hai Precision Ind.)\n",
    "Device type: printer\n",
    "Running: HP embedded\n",
    "OS CPE: cpe:/h:hp:laserjet_cp1025nw cpe:/h:hp:laserjet_1102w cpe:/h:hp:laserjet_m1212nf cpe:/h:hp:laserjet_m1217nfw cpe:/h:hp:laserjet_p1120w cpe:/h:hp:laserjet_p1606dn\n",
    "OS details: HP LaserJet CP1025nw, 1102w, M1212nf, M1217nfw, P1120w, or P1606dn printer\n",
    "Network Distance: 1 hop\n",
    "\n",
    "OS and Service detection performed. Please report any incorrect results at https://nmap.org/submit/ .\n",
    "Nmap done: 1 IP address (1 host up) scanned in 26.13 seconds\n",
    "\n",
    "*** NMAP SOBRE IP '192.168.0.24' ***\n",
    "\n",
    "Starting Nmap 7.01 ( https://nmap.org ) at 2018-03-29 00:17 -03\n",
    "Note: Host seems down. If it is really up, but blocking our ping probes, try -Pn\n",
    "Nmap done: 1 IP address (0 hosts up) scanned in 0.90 seconds\n",
    "```"
   ]
  },
  {
   "cell_type": "code",
   "execution_count": null,
   "metadata": {},
   "outputs": [],
   "source": []
  }
 ],
 "metadata": {
  "kernelspec": {
   "display_name": "Python 3",
   "language": "python",
   "name": "python3"
  },
  "language_info": {
   "codemirror_mode": {
    "name": "ipython",
    "version": 3
   },
   "file_extension": ".py",
   "mimetype": "text/x-python",
   "name": "python",
   "nbconvert_exporter": "python",
   "pygments_lexer": "ipython3",
   "version": "3.6.5"
  }
 },
 "nbformat": 4,
 "nbformat_minor": 2
}
