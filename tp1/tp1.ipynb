{
 "cells": [
  {
   "cell_type": "markdown",
   "metadata": {},
   "source": [
    "Conexión IP:\n",
    "IPorigen PTOorigen IPdestino PTOdestino\n",
    "\n"
   ]
  },
  {
   "cell_type": "markdown",
   "metadata": {},
   "source": [
    "# 1. ¿Que sucede con el Servidor?¿Por qué?"
   ]
  },
  {
   "cell_type": "markdown",
   "metadata": {},
   "source": [
    "El servidor primero se queda esperando la conexión de un cliente. Una vez establecida la conexión, imprime por salida estándar las cadenas envíadas por el cliente.\n",
    "\n",
    "Cuando el cliente finaliza la sesión, el servidor termina su ejecución; esto se debe a que una vez que deja de recibir datos por el socket del cliente, el servidor cierra dicho socket y termina el programa"
   ]
  },
  {
   "cell_type": "markdown",
   "metadata": {},
   "source": [
    "# 2. Modifique el servidor para que no finalice."
   ]
  },
  {
   "cell_type": "code",
   "execution_count": null,
   "metadata": {},
   "outputs": [],
   "source": [
    "%%writefile tcp_server.c\n",
    "/* PrimerServidorTCP.c\n",
    "Servicio: Las cadenas de texto recibidas de un Cliente son enviadas a la salida estándar.\n",
    "Nota: Por simplicidad del código no se realiza ningún tipo de control de errores. No obstante\n",
    "el servidor es totalmente funcional.\n",
    "*/\n",
    "#include <sys/types.h>\n",
    "#include <sys/socket.h>\n",
    "#include <netinet/in.h>\n",
    "#include <string.h>\n",
    "#include <strings.h>\n",
    "#include <stdlib.h>\n",
    "#include <stdio.h>\n",
    "#include <unistd.h>\n",
    "#define PORTNUMBER 12345\n",
    "int main(void){\n",
    "\n",
    "    char buf[10];\n",
    "    int _socket, cant_recv, new_socket, len;\n",
    "    struct sockaddr_in direcc;\n",
    "    _socket = socket(AF_INET, SOCK_STREAM, 0);\n",
    "    bzero((char *) &direcc, sizeof(direcc));\n",
    "\n",
    "    direcc.sin_family = AF_INET;\n",
    "    direcc.sin_port = htons(PORTNUMBER);\n",
    "    direcc.sin_addr.s_addr = htonl(INADDR_ANY);\n",
    "\n",
    "    len = sizeof(struct sockaddr_in);\n",
    "    bind(_socket, (struct sockaddr *) &direcc, len);\n",
    "    listen(_socket, 5);\n",
    "\n",
    "    /*el servidor no muere cuando se desconecta el cliente */\n",
    "    while(1){\n",
    "        new_socket = accept(_socket, (struct sockaddr *) &direcc, (socklen_t *) &len);\n",
    "        while ((cant_recv = recv(new_socket, buf, sizeof(buf), 0)) > 0){\n",
    "            write(1, buf, cant_recv);\n",
    "        }\n",
    "    }\n",
    "\n",
    "    close(new_socket);\n",
    "    close(_socket);\n",
    "    exit(0);\n",
    "}"
   ]
  },
  {
   "cell_type": "code",
   "execution_count": null,
   "metadata": {},
   "outputs": [],
   "source": [
    "!gcc tcp_server.c -o server"
   ]
  },
  {
   "cell_type": "code",
   "execution_count": null,
   "metadata": {},
   "outputs": [],
   "source": [
    "!./server"
   ]
  },
  {
   "cell_type": "markdown",
   "metadata": {},
   "source": [
    "# 3. Modifique el servidor para que el servicio que presta se implemente en una función separada del cuerpo principal del programa (main())."
   ]
  },
  {
   "cell_type": "code",
   "execution_count": 170,
   "metadata": {},
   "outputs": [
    {
     "name": "stdout",
     "output_type": "stream",
     "text": [
      "Writing using_functions.c\n"
     ]
    }
   ],
   "source": [
    "%%writefile using_functions.c\n",
    "\n",
    "#include <sys/types.h>\n",
    "#include <sys/socket.h>\n",
    "#include <netinet/in.h>\n",
    "#include <string.h>\n",
    "#include <strings.h>\n",
    "#include <stdlib.h>\n",
    "#include <stdio.h>\n",
    "#include <unistd.h>\n",
    "#define PORTNUMBER 12345\n",
    "int main(void){\n",
    "\n",
    "    char buf[10];\n",
    "    int _socket, cant_recv, new_socket, len;\n",
    "    struct sockaddr_in direcc;\n",
    "    _socket = socket(AF_INET, SOCK_STREAM, 0);\n",
    "    bzero((char *) &direcc, sizeof(direcc));\n",
    "\n",
    "    direcc.sin_family = AF_INET;\n",
    "    direcc.sin_port = htons(PORTNUMBER);\n",
    "    direcc.sin_addr.s_addr = htonl(INADDR_ANY);\n",
    "\n",
    "    len = sizeof(struct sockaddr_in);\n",
    "    bind(_socket, (struct sockaddr *) &direcc, len);\n",
    "    listen(_socket, 5);\n",
    "\n",
    "    /*el servidor no muere cuando se desconecta el cliente */\n",
    "    while(1){\n",
    "        new_socket = accept(_socket, (struct sockaddr *) &direcc, (socklen_t *) &len);\n",
    "        while ((cant_recv = recv(new_socket, buf, sizeof(buf), 0)) > 0){\n",
    "            write(1, buf, cant_recv);\n",
    "        }\n",
    "    }\n",
    "\n",
    "    close(new_socket);\n",
    "    close(_socket);\n",
    "    exit(0);\n",
    "}"
   ]
  },
  {
   "cell_type": "markdown",
   "metadata": {},
   "source": [
    "# 4. Modifique el servidor para que preste el servicio de echo (vea RFC862)."
   ]
  },
  {
   "cell_type": "code",
   "execution_count": 162,
   "metadata": {},
   "outputs": [
    {
     "name": "stdout",
     "output_type": "stream",
     "text": [
      "Overwriting echo.c\n"
     ]
    }
   ],
   "source": [
    "%%writefile echo.c\n",
    "/* PrimerServidorTCP.c\n",
    "Servicio: Las cadenas de texto recibidas de un Cliente son enviadas a la salida estándar.\n",
    "Nota: Por simplicidad del código no se realiza ningún tipo de control de errores. No obstante\n",
    "el servidor es totalmente funcional.\n",
    "*/\n",
    "#include <sys/types.h>\n",
    "#include <sys/socket.h>\n",
    "#include <netinet/in.h>\n",
    "#include <string.h>\n",
    "#include <strings.h>\n",
    "#include <stdlib.h>\n",
    "#include <stdio.h>\n",
    "#include <unistd.h>\n",
    "#define PORTNUMBER 12345\n",
    "int main(void){\n",
    "\n",
    "    char buf[10];\n",
    "    int _socket, cant_recv, new_socket, len;\n",
    "    struct sockaddr_in direcc;\n",
    "    _socket = socket(AF_INET, SOCK_STREAM, 0);\n",
    "    bzero((char *) &direcc, sizeof(direcc));\n",
    "\n",
    "    direcc.sin_family = AF_INET;\n",
    "    direcc.sin_port = htons(PORTNUMBER);\n",
    "    direcc.sin_addr.s_addr = htonl(INADDR_ANY);\n",
    "\n",
    "    len = sizeof(struct sockaddr_in);\n",
    "    bind(_socket, (struct sockaddr *) &direcc, len);\n",
    "    listen(_socket, 5);\n",
    "\n",
    "    /*el servidor no muere cuando se desconecta el cliente */\n",
    "    while(1){\n",
    "        new_socket = accept(_socket, (struct sockaddr *) &direcc, (socklen_t *) &len);\n",
    "        while ((cant_recv = recv(new_socket, buf, sizeof(buf), 0)) > 0){\n",
    "            /*hacemos eco*/\n",
    "            write(new_socket, \"asdsad\\n\", cant_recv);\n",
    "        }\n",
    "    }\n",
    "\n",
    "    close(new_socket);\n",
    "    close(_socket);\n",
    "    exit(0);\n",
    "}\n"
   ]
  },
  {
   "cell_type": "code",
   "execution_count": 163,
   "metadata": {},
   "outputs": [],
   "source": [
    "!gcc echo.c -o echo"
   ]
  },
  {
   "cell_type": "code",
   "execution_count": 164,
   "metadata": {},
   "outputs": [
    {
     "name": "stdout",
     "output_type": "stream",
     "text": [
      "^C\r\n"
     ]
    }
   ],
   "source": [
    "!./echo"
   ]
  },
  {
   "cell_type": "markdown",
   "metadata": {},
   "source": [
    "# 5. Modifique el servidor para que preste el servicio de character generator (vea RFC864)."
   ]
  },
  {
   "cell_type": "code",
   "execution_count": 167,
   "metadata": {},
   "outputs": [
    {
     "name": "stdout",
     "output_type": "stream",
     "text": [
      "Overwriting char_generator.c\n"
     ]
    }
   ],
   "source": [
    "%%writefile char_generator.c\n",
    "#include <sys/types.h>\n",
    "#include <sys/socket.h>\n",
    "#include <netinet/in.h>\n",
    "#include <string.h>\n",
    "#include <strings.h>\n",
    "#include <stdlib.h>\n",
    "#include <time.h>\n",
    "#include <stdio.h>\n",
    "#include <unistd.h>\n",
    "#define PORTNUMBER 12345\n",
    "/*\n",
    "    Función de generación aleatoria de caracteres:\n",
    "    https://www.codeproject.com/Questions/640193/Random-string-in-language-C\n",
    "*/\n",
    "char randchar();\n",
    "char *randstr(const int);\n",
    "int main(void){\n",
    "\n",
    "    char buf[10];\n",
    "    int _socket, cant_recv, new_socket, len;\n",
    "    struct sockaddr_in direcc;\n",
    "    _socket = socket(AF_INET, SOCK_STREAM, 0);\n",
    "    bzero((char *) &direcc, sizeof(direcc));\n",
    "\n",
    "    direcc.sin_family = AF_INET;\n",
    "    direcc.sin_port = htons(PORTNUMBER);\n",
    "    direcc.sin_addr.s_addr = htonl(INADDR_ANY);\n",
    "\n",
    "    len = sizeof(struct sockaddr_in);\n",
    "    bind(_socket, (struct sockaddr *) &direcc, len);\n",
    "    listen(_socket, 5);\n",
    "\n",
    "    /*el servidor no muere cuando se desconecta el cliente */\n",
    "    while(1){\n",
    "        new_socket = accept(_socket, (struct sockaddr *) &direcc, (socklen_t *) &len);\n",
    "        printf(\"Cliente conectado\\n\");\n",
    "        while ((cant_recv = recv(new_socket, buf, sizeof(buf), 0)) > 0){\n",
    "            write(new_socket, randstr(cant_recv), cant_recv);\n",
    "        }\n",
    "    }\n",
    "\n",
    "    close(new_socket);\n",
    "    close(_socket);\n",
    "    exit(0);\n",
    "}\n",
    "\n",
    "char *randstr(const int len) {\n",
    "    static const char alphanum[] = \"ABCDEFGHIJKLMNOPQRSTUVWXYZabcdefghijklmnopqrstuvwxyz\";\n",
    "    char *s = malloc((len * sizeof(char)) + 1);\n",
    "\n",
    "    srand(time(NULL));\n",
    "    for (int i = 0; i < len-1; ++i) {\n",
    "        s[i] = alphanum[rand() % (sizeof(alphanum) - 1)];\n",
    "    }\n",
    "\n",
    "    s[len-1] = '\\n';\n",
    "    s[len] = 0;\n",
    "    return s;\n",
    "}\n"
   ]
  },
  {
   "cell_type": "code",
   "execution_count": 168,
   "metadata": {},
   "outputs": [],
   "source": [
    "!gcc char_generator.c -o char_generator"
   ]
  },
  {
   "cell_type": "code",
   "execution_count": 169,
   "metadata": {},
   "outputs": [
    {
     "name": "stdout",
     "output_type": "stream",
     "text": [
      "Cliente conectado\n",
      "^C\n"
     ]
    }
   ],
   "source": [
    "!./char_generator"
   ]
  },
  {
   "cell_type": "markdown",
   "metadata": {},
   "source": [
    "# 6. Desarrolle un cliente que se comunique con el servidor."
   ]
  },
  {
   "cell_type": "markdown",
   "metadata": {},
   "source": [
    "# 7. Modificar el Servidor del punto anterior para que cambie el servicio por uno que devuelva la suma de dos parámetros enteros o una leyenda de error en parámetros si estos no son enteros"
   ]
  },
  {
   "cell_type": "code",
   "execution_count": null,
   "metadata": {},
   "outputs": [],
   "source": []
  }
 ],
 "metadata": {
  "kernelspec": {
   "display_name": "Python 3",
   "language": "python",
   "name": "python3"
  },
  "language_info": {
   "codemirror_mode": {
    "name": "ipython",
    "version": 3
   },
   "file_extension": ".py",
   "mimetype": "text/x-python",
   "name": "python",
   "nbconvert_exporter": "python",
   "pygments_lexer": "ipython3",
   "version": "3.6.4"
  }
 },
 "nbformat": 4,
 "nbformat_minor": 2
}
