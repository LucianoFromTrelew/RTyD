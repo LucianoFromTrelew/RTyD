{
 "cells": [
  {
   "cell_type": "markdown",
   "metadata": {},
   "source": [
    "# 1a. ¿Qué versión de HTTP emplea su navegador?"
   ]
  },
  {
   "cell_type": "markdown",
   "metadata": {},
   "source": [
    "El navegador emplea HTTP 1.1"
   ]
  },
  {
   "cell_type": "markdown",
   "metadata": {},
   "source": [
    "# 1b. ¿Qué versión de HTTP ejecuta el servidor?"
   ]
  },
  {
   "cell_type": "markdown",
   "metadata": {},
   "source": [
    "El servidor también emplea HTTP 1.1"
   ]
  },
  {
   "cell_type": "markdown",
   "metadata": {},
   "source": [
    "# 2a. ¿Qué idiomas indica su navegador al servidor que está dispuesto aceptar en la respuesta?"
   ]
  },
  {
   "cell_type": "markdown",
   "metadata": {},
   "source": [
    "El navegador indica que acepta inglés de EEUU (en-US)"
   ]
  },
  {
   "cell_type": "markdown",
   "metadata": {},
   "source": [
    "# 2b. ¿Qué relación tiene esta información con el lenguaje que emplea en su navegador y sistema operativo?"
   ]
  },
  {
   "cell_type": "markdown",
   "metadata": {},
   "source": [
    "El navegador está dispuesto a recibir el mismo lenguaje que el lenguaje con el que está configurado el sistema operativo"
   ]
  },
  {
   "cell_type": "markdown",
   "metadata": {},
   "source": [
    "# 3a. ¿Cuál es la dirección IP de su ordenador?"
   ]
  },
  {
   "cell_type": "markdown",
   "metadata": {},
   "source": [
    "Como se está corriendo el servidor localmente, la petición muestra que la ip del cliente es __localhost__ (127.0.0.1)"
   ]
  },
  {
   "cell_type": "markdown",
   "metadata": {},
   "source": [
    "# 3b. ¿Y del servidor Web al que está accediendo?"
   ]
  },
  {
   "cell_type": "markdown",
   "metadata": {},
   "source": [
    "Como se está corriendo el servidor localmente, la respuesta muestra que la ip del servidor es __localhost:8081__ (127.0.0.1:8081)"
   ]
  },
  {
   "cell_type": "markdown",
   "metadata": {},
   "source": [
    "# 4a. ¿Cuál es el código de estado devuelto a su navegador por el servidor?"
   ]
  },
  {
   "cell_type": "markdown",
   "metadata": {},
   "source": [
    "El servidor devolvió un código de estado 200"
   ]
  },
  {
   "cell_type": "markdown",
   "metadata": {},
   "source": [
    "# 4b. ¿Cuál es el significado de ese código de estado?"
   ]
  },
  {
   "cell_type": "markdown",
   "metadata": {},
   "source": [
    "Según la [W3](https://www.w3.org/Protocols/rfc2616/rfc2616-sec10.html), el código de estado 200 significa que la petifición tuvo éxito"
   ]
  },
  {
   "cell_type": "markdown",
   "metadata": {},
   "source": [
    "# 5. ¿Cuándo fue modificado por última vez el fichero HTML que el servidor te está devolviendo?"
   ]
  },
  {
   "cell_type": "markdown",
   "metadata": {},
   "source": [
    "La respuesta del servidor indica que el archivo devuelto fue modificado por última vez el día 22 de Marzo del 2018"
   ]
  },
  {
   "cell_type": "markdown",
   "metadata": {},
   "source": [
    "Según la [W3](https://www.w3.org/Protocols/rfc2616/rfc2616-sec10.html), el código de estado 200 significa que la petifición tuvo éxito"
   ]
  },
  {
   "cell_type": "markdown",
   "metadata": {},
   "source": [
    "# \\*\\*\\* PARCIAL\\*\\*\\*: diferencias entre TCP y UDP, forma que trabajan, llamadas al sistema"
   ]
  },
  {
   "cell_type": "markdown",
   "metadata": {},
   "source": [
    "# 8. Inspeccione los contenidos de la primera petición GET de su navegador hacia el servidor. ¿Observa alguna linea ‘If-Modified-Since’ en la petición GET? Indique el contenido de dicha línea."
   ]
  },
  {
   "cell_type": "markdown",
   "metadata": {},
   "source": [
    "La primer petición al servidor (teniendo la caché vacía) no muestra ninguna línea \"If-Modified-Since\""
   ]
  },
  {
   "cell_type": "markdown",
   "metadata": {},
   "source": [
    "# 9. Analice el contenido de la respuesta del servidor. ¿Contiene dicha respuesta el fichero HTML que se pedía?"
   ]
  },
  {
   "cell_type": "markdown",
   "metadata": {},
   "source": [
    "La respuesta del servidor tampoco contiene la línea \"If-Modified-Since\""
   ]
  },
  {
   "cell_type": "markdown",
   "metadata": {},
   "source": [
    "# 10. Ahora analice el contenido de la segunda petición GET desde su navegador al servidor. ¿Ve alguna línea ‘If-Modified-Since’ en dicha petición? Si es así, ¿qué información aparece a continuación de dicha cabecera?"
   ]
  },
  {
   "cell_type": "markdown",
   "metadata": {},
   "source": [
    "La segunda petición al servidor sí contiene la línea, indicando la última modificación del archivo devuelto por el servidor"
   ]
  },
  {
   "cell_type": "markdown",
   "metadata": {},
   "source": [
    "# 11. ¿Cuál es el código de estado HTTP y el mensaje devuelto por el servidor en respuesta a este segundo GET? ¿Devuelve el servidor explícitamente el contenido del fichero? Explique qué ha sucedido."
   ]
  },
  {
   "cell_type": "markdown",
   "metadata": {},
   "source": [
    "La respuesta del servidor tiene el código de estado 304 con el mensaje de \"No modificado\". \n",
    "\n",
    "El servidor no devuelve el HTML correspondiente a la ruta ya que la respuesta estaba almacenada en la caché del navegador"
   ]
  },
  {
   "cell_type": "markdown",
   "metadata": {},
   "source": [
    "# 12. ¿Cuántos mensajes de petición GET han sido enviados por el navegador?"
   ]
  },
  {
   "cell_type": "markdown",
   "metadata": {},
   "source": [
    "El navegador envió un solo mensaje de petición GET"
   ]
  },
  {
   "cell_type": "markdown",
   "metadata": {},
   "source": [
    "# 13. ¿Cuántos segmentos TCP con datos han sido necesarios para una única respuesta HTTP?"
   ]
  },
  {
   "cell_type": "markdown",
   "metadata": {},
   "source": [
    "La respuesta del servidor requirió dos segmentos de TCP para ser enviada"
   ]
  },
  {
   "cell_type": "markdown",
   "metadata": {},
   "source": [
    "# 14. ¿Cuál es el código de estado y el mensaje asociado con la respuesta a la petición GET?"
   ]
  },
  {
   "cell_type": "markdown",
   "metadata": {},
   "source": [
    "La respuesta fue enviada con el código de estado 200 y el mensaje \"OK\""
   ]
  },
  {
   "cell_type": "markdown",
   "metadata": {},
   "source": [
    "Conexión IP:\n",
    "IPorigen PTOorigen IPdestino PTOdestino\n",
    "\n"
   ]
  },
  {
   "cell_type": "markdown",
   "metadata": {},
   "source": [
    "# 15. ¿Cuántos mensajes GET ha enviado el navegador? ¿A qué direcciones se han enviado esos mensajes?"
   ]
  },
  {
   "cell_type": "markdown",
   "metadata": {},
   "source": [
    "El navegador envió tres peticiones al servidor para poder cargar toda la página.\n",
    "\n",
    "Corriendo el servidor localmente, las peticiones fueron hechas a las siguientes direcciones:\n",
    "   * *http://localhost/mind.gif*\n",
    "   * *http://localhost/giphy\\_1.gif*"
   ]
  },
  {
   "cell_type": "markdown",
   "metadata": {},
   "source": [
    "# 16. ¿Puede determinar si las imágenes han sido descargadas sucesivamente (se pide una imagen, se descarga y después se pide la otra) o en (se lanzan las dos descargas de forma simultánea?"
   ]
  },
  {
   "cell_type": "markdown",
   "metadata": {},
   "source": [
    "Debido a que el servidor no espera la respuesta del servidor al pedirle una imagen para después pedirle la otra, las dos peticiones se envían en forma simultánea"
   ]
  },
  {
   "cell_type": "markdown",
   "metadata": {},
   "source": [
    "# 17. ¿Cuál es el código de respuesta y el mensaje del servidor en respuesta al mensaje GET inicial de su navegador?"
   ]
  },
  {
   "cell_type": "markdown",
   "metadata": {},
   "source": [
    "Frente a la primer petición del navegador, el servidor responde con un código de estado 401 y con el mensaje \"*Unauthorized*\" (*sin autorización*)"
   ]
  },
  {
   "cell_type": "markdown",
   "metadata": {},
   "source": [
    "# 18. Cuando su navegador envía el mensaje HTTP GET por segunda vez, ¿qué nuevo campo se incluye en el mensaje GET?"
   ]
  },
  {
   "cell_type": "markdown",
   "metadata": {},
   "source": [
    "Para la segunda petición, se incluye un nuevo campo *Authorization*, que adentro tiene el campo *Credentials* con los datos \"wireshark:network\""
   ]
  },
  {
   "cell_type": "markdown",
   "metadata": {},
   "source": [
    "# 19. Explique la codificación Base64"
   ]
  },
  {
   "cell_type": "markdown",
   "metadata": {},
   "source": [
    "La codificación Base64 se utiliza para convertir datos binarios en un formato de texto (ASCII) para así por ser enviado en ambientes que solamente manejan texto. El nombre de \"Base64\" proviene del uso de los 64 caracteres imprimibles de la tabla ASCII \n",
    "\n",
    "El algoritmo comienza tomando los datos binarios y los divide en *tókens* de 3 bytes. Estos 3 bytes luego son convertidos en cuatro caracteres imprimibles del estándar ASCII.\n",
    "Los 3 bytes son divididos en 4 números de 6 bits cada uno. Estos grupos de 6 bits sólo pueden representar caracteres imprimibles de la tabla ASCII. Los caracteres utilizados son:\n",
    "   * 0 al 9\n",
    "   * 26 letras minúsculas\n",
    "   * 26 letras mayúsculas\n",
    "   * '+' y '-'\n",
    "   \n",
    "La conversión de los datos a grupos de 3 bytes se repite hasta que toda la secuencia de datos binarios se haya codificado. \n",
    "Si el tamaño de los datos a codificar no es un múltiplo de tres, se agregan los bytes necesarios con un '0' (se agrega el caracter '=' para representar estos '0's). Este último caracter sólo puede aparecer al final de la cadena codificada.\n",
    "\n",
    "[Fuente](http://fm4dd.com/programming/base64/base64_algorithm.htm)"
   ]
  },
  {
   "cell_type": "markdown",
   "metadata": {},
   "source": [
    "# 20. ¿Qué mensaje recibes como respuesta?"
   ]
  },
  {
   "cell_type": "markdown",
   "metadata": {},
   "source": [
    "El servidor respondió a la petición con un código de estado 405 (*Not Allowed*)\n",
    "\n",
    "![Telnet con método incorrecto](images/telnet_jet1.png)"
   ]
  },
  {
   "cell_type": "markdown",
   "metadata": {},
   "source": [
    "# 21. ¿Qué mensaje recibes como respuesta ahora? (*GET /ittex.html HTTP/1.1*)"
   ]
  },
  {
   "cell_type": "markdown",
   "metadata": {},
   "source": [
    "El servidor respondió a la petición con un código de estado 404 (*Not Found*)\n",
    "![Telnet a URL incorrecta](images/telnet_ittex.png)"
   ]
  },
  {
   "cell_type": "markdown",
   "metadata": {},
   "source": [
    "# 1. ¿Que sucede con el Servidor?¿Por qué?"
   ]
  },
  {
   "cell_type": "markdown",
   "metadata": {},
   "source": [
    "El servidor primero se queda esperando la conexión de un cliente. Una vez establecida la conexión, imprime por salida estándar las cadenas envíadas por el cliente.\n",
    "\n",
    "Cuando el cliente finaliza la sesión, el servidor termina su ejecución; esto se debe a que una vez que deja de recibir datos por el socket del cliente, el servidor cierra dicho socket y termina el programa"
   ]
  },
  {
   "cell_type": "markdown",
   "metadata": {},
   "source": [
    "# 2. Modifique el servidor para que no finalice."
   ]
  },
  {
   "cell_type": "code",
   "execution_count": null,
   "metadata": {},
   "outputs": [],
   "source": [
    "%%writefile tcp_server.c\n",
    "/* PrimerServidorTCP.c\n",
    "Servicio: Las cadenas de texto recibidas de un Cliente son enviadas a la salida estándar.\n",
    "Nota: Por simplicidad del código no se realiza ningún tipo de control de errores. No obstante\n",
    "el servidor es totalmente funcional.\n",
    "*/\n",
    "#include <sys/types.h>\n",
    "#include <sys/socket.h>\n",
    "#include <netinet/in.h>\n",
    "#include <string.h>\n",
    "#include <strings.h>\n",
    "#include <stdlib.h>\n",
    "#include <stdio.h>\n",
    "#include <unistd.h>\n",
    "#define PORTNUMBER 12345\n",
    "int main(void){\n",
    "\n",
    "    char buf[10];\n",
    "    int _socket, cant_recv, new_socket, len;\n",
    "    struct sockaddr_in direcc;\n",
    "    _socket = socket(AF_INET, SOCK_STREAM, 0);\n",
    "    bzero((char *) &direcc, sizeof(direcc));\n",
    "\n",
    "    direcc.sin_family = AF_INET;\n",
    "    direcc.sin_port = htons(PORTNUMBER);\n",
    "    direcc.sin_addr.s_addr = htonl(INADDR_ANY);\n",
    "\n",
    "    len = sizeof(struct sockaddr_in);\n",
    "    bind(_socket, (struct sockaddr *) &direcc, len);\n",
    "    listen(_socket, 5);\n",
    "\n",
    "    /*el servidor no muere cuando se desconecta el cliente */\n",
    "    while(1){\n",
    "        new_socket = accept(_socket, (struct sockaddr *) &direcc, (socklen_t *) &len);\n",
    "        while ((cant_recv = recv(new_socket, buf, sizeof(buf), 0)) > 0){\n",
    "            write(1, buf, cant_recv);\n",
    "        }\n",
    "    }\n",
    "\n",
    "    close(new_socket);\n",
    "    close(_socket);\n",
    "    exit(0);\n",
    "}"
   ]
  },
  {
   "cell_type": "code",
   "execution_count": null,
   "metadata": {},
   "outputs": [],
   "source": [
    "!gcc tcp_server.c -o server"
   ]
  },
  {
   "cell_type": "code",
   "execution_count": null,
   "metadata": {},
   "outputs": [],
   "source": [
    "!./server"
   ]
  },
  {
   "cell_type": "markdown",
   "metadata": {},
   "source": [
    "# 3. Modifique el servidor para que el servicio que presta se implemente en una función separada del cuerpo principal del programa (main())."
   ]
  },
  {
   "cell_type": "code",
   "execution_count": 170,
   "metadata": {},
   "outputs": [
    {
     "name": "stdout",
     "output_type": "stream",
     "text": [
      "Writing using_functions.c\n"
     ]
    }
   ],
   "source": [
    "%%writefile using_functions.c\n",
    "\n",
    "#include <sys/types.h>\n",
    "#include <sys/socket.h>\n",
    "#include <netinet/in.h>\n",
    "#include <string.h>\n",
    "#include <strings.h>\n",
    "#include <stdlib.h>\n",
    "#include <stdio.h>\n",
    "#include <unistd.h>\n",
    "#define PORTNUMBER 12345\n",
    "int main(void){\n",
    "\n",
    "    char buf[10];\n",
    "    int _socket, cant_recv, new_socket, len;\n",
    "    struct sockaddr_in direcc;\n",
    "    _socket = socket(AF_INET, SOCK_STREAM, 0);\n",
    "    bzero((char *) &direcc, sizeof(direcc));\n",
    "\n",
    "    direcc.sin_family = AF_INET;\n",
    "    direcc.sin_port = htons(PORTNUMBER);\n",
    "    direcc.sin_addr.s_addr = htonl(INADDR_ANY);\n",
    "\n",
    "    len = sizeof(struct sockaddr_in);\n",
    "    bind(_socket, (struct sockaddr *) &direcc, len);\n",
    "    listen(_socket, 5);\n",
    "\n",
    "    /*el servidor no muere cuando se desconecta el cliente */\n",
    "    while(1){\n",
    "        new_socket = accept(_socket, (struct sockaddr *) &direcc, (socklen_t *) &len);\n",
    "        while ((cant_recv = recv(new_socket, buf, sizeof(buf), 0)) > 0){\n",
    "            write(1, buf, cant_recv);\n",
    "        }\n",
    "    }\n",
    "\n",
    "    close(new_socket);\n",
    "    close(_socket);\n",
    "    exit(0);\n",
    "}"
   ]
  },
  {
   "cell_type": "markdown",
   "metadata": {},
   "source": [
    "# 4. Modifique el servidor para que preste el servicio de echo (vea RFC862)."
   ]
  },
  {
   "cell_type": "code",
   "execution_count": 162,
   "metadata": {},
   "outputs": [
    {
     "name": "stdout",
     "output_type": "stream",
     "text": [
      "Overwriting echo.c\n"
     ]
    }
   ],
   "source": [
    "%%writefile echo.c\n",
    "/* PrimerServidorTCP.c\n",
    "Servicio: Las cadenas de texto recibidas de un Cliente son enviadas a la salida estándar.\n",
    "Nota: Por simplicidad del código no se realiza ningún tipo de control de errores. No obstante\n",
    "el servidor es totalmente funcional.\n",
    "*/\n",
    "#include <sys/types.h>\n",
    "#include <sys/socket.h>\n",
    "#include <netinet/in.h>\n",
    "#include <string.h>\n",
    "#include <strings.h>\n",
    "#include <stdlib.h>\n",
    "#include <stdio.h>\n",
    "#include <unistd.h>\n",
    "#define PORTNUMBER 12345\n",
    "int main(void){\n",
    "\n",
    "    char buf[10];\n",
    "    int _socket, cant_recv, new_socket, len;\n",
    "    struct sockaddr_in direcc;\n",
    "    _socket = socket(AF_INET, SOCK_STREAM, 0);\n",
    "    bzero((char *) &direcc, sizeof(direcc));\n",
    "\n",
    "    direcc.sin_family = AF_INET;\n",
    "    direcc.sin_port = htons(PORTNUMBER);\n",
    "    direcc.sin_addr.s_addr = htonl(INADDR_ANY);\n",
    "\n",
    "    len = sizeof(struct sockaddr_in);\n",
    "    bind(_socket, (struct sockaddr *) &direcc, len);\n",
    "    listen(_socket, 5);\n",
    "\n",
    "    /*el servidor no muere cuando se desconecta el cliente */\n",
    "    while(1){\n",
    "        new_socket = accept(_socket, (struct sockaddr *) &direcc, (socklen_t *) &len);\n",
    "        while ((cant_recv = recv(new_socket, buf, sizeof(buf), 0)) > 0){\n",
    "            /*hacemos eco*/\n",
    "            write(new_socket, \"asdsad\\n\", cant_recv);\n",
    "        }\n",
    "    }\n",
    "\n",
    "    close(new_socket);\n",
    "    close(_socket);\n",
    "    exit(0);\n",
    "}\n"
   ]
  },
  {
   "cell_type": "code",
   "execution_count": 163,
   "metadata": {},
   "outputs": [],
   "source": [
    "!gcc echo.c -o echo"
   ]
  },
  {
   "cell_type": "code",
   "execution_count": 164,
   "metadata": {},
   "outputs": [
    {
     "name": "stdout",
     "output_type": "stream",
     "text": [
      "^C\r\n"
     ]
    }
   ],
   "source": [
    "!./echo"
   ]
  },
  {
   "cell_type": "markdown",
   "metadata": {},
   "source": [
    "# 5. Modifique el servidor para que preste el servicio de character generator (vea RFC864)."
   ]
  },
  {
   "cell_type": "code",
   "execution_count": 167,
   "metadata": {},
   "outputs": [
    {
     "name": "stdout",
     "output_type": "stream",
     "text": [
      "Overwriting char_generator.c\n"
     ]
    }
   ],
   "source": [
    "%%writefile char_generator.c\n",
    "#include <sys/types.h>\n",
    "#include <sys/socket.h>\n",
    "#include <netinet/in.h>\n",
    "#include <string.h>\n",
    "#include <strings.h>\n",
    "#include <stdlib.h>\n",
    "#include <time.h>\n",
    "#include <stdio.h>\n",
    "#include <unistd.h>\n",
    "#define PORTNUMBER 12345\n",
    "/*\n",
    "    Función de generación aleatoria de caracteres:\n",
    "    https://www.codeproject.com/Questions/640193/Random-string-in-language-C\n",
    "*/\n",
    "char randchar();\n",
    "char *randstr(const int);\n",
    "int main(void){\n",
    "\n",
    "    char buf[10];\n",
    "    int _socket, cant_recv, new_socket, len;\n",
    "    struct sockaddr_in direcc;\n",
    "    _socket = socket(AF_INET, SOCK_STREAM, 0);\n",
    "    bzero((char *) &direcc, sizeof(direcc));\n",
    "\n",
    "    direcc.sin_family = AF_INET;\n",
    "    direcc.sin_port = htons(PORTNUMBER);\n",
    "    direcc.sin_addr.s_addr = htonl(INADDR_ANY);\n",
    "\n",
    "    len = sizeof(struct sockaddr_in);\n",
    "    bind(_socket, (struct sockaddr *) &direcc, len);\n",
    "    listen(_socket, 5);\n",
    "\n",
    "    /*el servidor no muere cuando se desconecta el cliente */\n",
    "    while(1){\n",
    "        new_socket = accept(_socket, (struct sockaddr *) &direcc, (socklen_t *) &len);\n",
    "        printf(\"Cliente conectado\\n\");\n",
    "        while ((cant_recv = recv(new_socket, buf, sizeof(buf), 0)) > 0){\n",
    "            write(new_socket, randstr(cant_recv), cant_recv);\n",
    "        }\n",
    "    }\n",
    "\n",
    "    close(new_socket);\n",
    "    close(_socket);\n",
    "    exit(0);\n",
    "}\n",
    "\n",
    "char *randstr(const int len) {\n",
    "    static const char alphanum[] = \"ABCDEFGHIJKLMNOPQRSTUVWXYZabcdefghijklmnopqrstuvwxyz\";\n",
    "    char *s = malloc((len * sizeof(char)) + 1);\n",
    "\n",
    "    srand(time(NULL));\n",
    "    for (int i = 0; i < len-1; ++i) {\n",
    "        s[i] = alphanum[rand() % (sizeof(alphanum) - 1)];\n",
    "    }\n",
    "\n",
    "    s[len-1] = '\\n';\n",
    "    s[len] = 0;\n",
    "    return s;\n",
    "}\n"
   ]
  },
  {
   "cell_type": "code",
   "execution_count": 168,
   "metadata": {},
   "outputs": [],
   "source": [
    "!gcc char_generator.c -o char_generator"
   ]
  },
  {
   "cell_type": "code",
   "execution_count": 169,
   "metadata": {},
   "outputs": [
    {
     "name": "stdout",
     "output_type": "stream",
     "text": [
      "Cliente conectado\n",
      "^C\n"
     ]
    }
   ],
   "source": [
    "!./char_generator"
   ]
  },
  {
   "cell_type": "markdown",
   "metadata": {},
   "source": [
    "# 6. Desarrolle un cliente que se comunique con el servidor."
   ]
  },
  {
   "cell_type": "markdown",
   "metadata": {},
   "source": [
    "# 7. Modificar el Servidor del punto anterior para que cambie el servicio por uno que devuelva la suma de dos parámetros enteros o una leyenda de error en parámetros si estos no son enteros"
   ]
  },
  {
   "cell_type": "code",
   "execution_count": null,
   "metadata": {},
   "outputs": [],
   "source": []
  }
 ],
 "metadata": {
  "kernelspec": {
   "display_name": "Python 3",
   "language": "python",
   "name": "python3"
  },
  "language_info": {
   "codemirror_mode": {
    "name": "ipython",
    "version": 3
   },
   "file_extension": ".py",
   "mimetype": "text/x-python",
   "name": "python",
   "nbconvert_exporter": "python",
   "pygments_lexer": "ipython3",
   "version": "3.6.4"
  }
 },
 "nbformat": 4,
 "nbformat_minor": 2
}
