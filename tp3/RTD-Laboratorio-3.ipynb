{
 "cells": [
  {
   "cell_type": "markdown",
   "metadata": {},
   "source": [
    "# Trabajo de Laboratorio 3\n",
    "## Capa de Red"
   ]
  },
  {
   "cell_type": "code",
   "execution_count": 1,
   "metadata": {},
   "outputs": [
    {
     "data": {
      "text/html": [
       "\n",
       "<style>\n",
       ".notas {\n",
       "    background-color: #eeeeee;\n",
       "    padding: 1em;\n",
       "    border: 1px solid #aaa;\n",
       "    margin-top: 1em;\n",
       "}\n",
       ".direccion-red {\n",
       "    color: red;\n",
       "}\n",
       "</style>\n"
      ],
      "text/plain": [
       "<IPython.core.display.HTML object>"
      ]
     },
     "execution_count": 1,
     "metadata": {},
     "output_type": "execute_result"
    }
   ],
   "source": [
    "from IPython.display import HTML\n",
    "HTML('''\n",
    "<style>\n",
    ".notas {\n",
    "    background-color: #eeeeee;\n",
    "    padding: 1em;\n",
    "    border: 1px solid #aaa;\n",
    "    margin-top: 1em;\n",
    "}\n",
    ".direccion-red {\n",
    "    color: red;\n",
    "}\n",
    "</style>\n",
    "''')\n"
   ]
  },
  {
   "cell_type": "markdown",
   "metadata": {},
   "source": [
    "<div class=\"notas\">\n",
    "Este trabajo práctico puede ser realizado en grupo de hasta **2 integrantes**. Debe entregarse en formato cuadreno (**ipynb**) acompañado de archivos necesarios para su evaluación (imágenes, capturas de paquetes, etc).\n",
    "\n",
    "Debe contestar en una o más celdas posteriores a las celdas de la consigna. Si modifica algún archivo del práctico, debe hacer primero una copia. Las imágenes en formato SVG pueden ser editadas con el software Inkscape.\n",
    "\n",
    "Puede ayudarse con este sitio para formatear las tablas https://www.tablesgenerator.com/markdown_tables\n",
    "</div>\n"
   ]
  },
  {
   "cell_type": "markdown",
   "metadata": {},
   "source": [
    "Para lanzar CORE:\n",
    "```bash\n",
    "docker run -d \\ \n",
    "    --hostname coreemu_vnc \\\n",
    "    --name coreemu_vnc \\\n",
    "    --cap-add=NET_ADMIN --cap-add=SYS_ADMIN \\\n",
    "    -p 5901:5900 -p 8080:8080 -p 9999:9999 \\\n",
    "    -v $(pwd):/root/shared \n",
    "    unpdit/coreemu_vnc:unp-core-4.8\n",
    "\n",
    "```\n",
    "Para reinciarlo:\n",
    "\n",
    "`docker start coreemuv_vnc`, `docker stop coreemu_vnc` y `docker restart coreemu_vnc`."
   ]
  },
  {
   "cell_type": "markdown",
   "metadata": {},
   "source": [
    "## Parte 1 - Subnetting"
   ]
  },
  {
   "cell_type": "markdown",
   "metadata": {},
   "source": [
    "### Punto 1\n",
    "En el gráfico se indica la red del rectorado de la UNP. Elija entre las opciones dadas las que correspondan a direcciones broadcast. \n",
    "\n",
    "<center>\n",
    "![Red](./images/ej1.svg)\n",
    "</center>\n",
    "\n",
    "    172.16.32.255\n",
    "    172.16.47.255\n",
    "    172.16.64.255\n",
    "    172.16.82.255\n",
    "    172.16.79.255\n",
    "    172.16.95.255\n"
   ]
  },
  {
   "cell_type": "markdown",
   "metadata": {},
   "source": [
    "### Dirección de broadcast para la red 172.16.32.0/20\n",
    "- `172.16.47.255`\n",
    "```\n",
    "172       16        47        255\n",
    "1010 1111 0001 0000 0010 1111 1111 1111\n",
    "```"
   ]
  },
  {
   "cell_type": "markdown",
   "metadata": {},
   "source": [
    "### Dirección de broadcast para la red 172.16.64.0/20\n",
    "- `172.16.79.255`\n",
    "```\n",
    "172       16        79        255\n",
    "1010 1111 0001 0000 0100 1111 1111 1111\n",
    "```"
   ]
  },
  {
   "cell_type": "markdown",
   "metadata": {},
   "source": [
    "### Dirección de broadcast para la red 172.16.80.0/20 (del host `172.16.82.90`)\n",
    "- `172.16.95.255`\n",
    "```\n",
    "172       16        95        255\n",
    "1010 1111 0001 0000 0101 1111 1111 1111\n",
    "```"
   ]
  },
  {
   "cell_type": "markdown",
   "metadata": {},
   "source": [
    "\n",
    "### Punto 2\n",
    "Ud. está configurando una subred de la oficina central de los supermercados “La Ocasión”. Necesita asignar direcciones IP de hosts de la subred. Definió la máscara **255.255.255.224**.\n",
    "\n",
    "a. Cuáles de las siguientes direcciones son válidas para asignar a host?\n",
    "\n",
    "    1)  15.234.118.63\n",
    "    2)  92.11.178.93\n",
    "    3)  134.178.18.56\n",
    "    4)  192.168.16.87\n",
    "    5)  201.45.116.159\n",
    "    6)  217.63.12.192"
   ]
  },
  {
   "cell_type": "markdown",
   "metadata": {},
   "source": [
    "#### *Los bits en <span class='direccion-red'>rojo</span> son los que definen la dirección de red*"
   ]
  },
  {
   "cell_type": "markdown",
   "metadata": {},
   "source": [
    "255.255.255.224 -> 27 bits para la dirección de red\n",
    "\n",
    "- 15.234.118.63: <span class=\"direccion-red\">0000 1111 . 1110 1010 . 0111 0110 . 001</span>1 1111 (**BROADCAST**)\n",
    "\n",
    "- 92.11.178.93: <span class=\"direccion-red\">0101 1100 . 0000 1011 . 1011 0010 . 010</span>1 1101 (**HOST**)\n",
    "\n",
    "- 134.178.18.56: <span class=\"direccion-red\">1000 0110 . 1011 0010 . 0001 0010.  001</span>1 1000 (**HOST**)\n",
    "\n",
    "- 192.168.16.87: <span class=\"direccion-red\">1100 0000 . 1010 1000 . 0001 0000 . 010</span>1 0111 (**HOST**)\n",
    "\n",
    "- 201.45.116.159: <span class=\"direccion-red\">1100 1001 . 0010 1101 . 0111 0100 . 100</span>1 1111 (**HOST**)\n",
    "\n",
    "- 217.63.12.192: <span class=\"direccion-red\">1101 1001 . 0011 1111 . 0000 1100 . 110</span>0 0000 (**RED**)"
   ]
  },
  {
   "cell_type": "markdown",
   "metadata": {},
   "source": [
    " b. Ud. debe particionar la red 172.12.0.0 en subredes tales que puedan \n",
    "    alojar 458 hosts IP. Además se debe lograr el máximo número de subredes. \n",
    "    Determine la máscara a utilizar."
   ]
  },
  {
   "cell_type": "markdown",
   "metadata": {},
   "source": [
    "- 172.12.0.0: <span class=\"direccion-red\">1010 1100 . 0000 11</span>00 . 0000 0000 . 0000 0000\n",
    "\n",
    "Si tomamos todos los bits que están en cero de derecha a izquierda, tendríamos 18 bits de máscara\n",
    "\n",
    "Para albergar los 458 hosts, necesitaríamos como mínimo **9 bits** (512 hosts), quedando los otros **9 bits** para subredes (512 subredes)."
   ]
  },
  {
   "cell_type": "markdown",
   "metadata": {},
   "source": [
    "## Punto 3\n",
    "Para el esquema de la figura complete la siguiente tabla. Considere que se ha\n",
    "utilizado la máscara 255.255.255.192 (**26 bits**)\n",
    "\n",
    "| Interfaz Router | Dirección IP   | Dirección Subred  | Rango de direcciones válidas   |\n",
    "|-----------------|----------------|-------------------|--------------------------------|\n",
    "| R1E0            | 168.11.11.101  | 168.11.11.64      | 168.11.11.65 - 168.11.11.126   |\n",
    "| R2E0            | 168.11.12.102  | 168.11.12.64      | 168.11.12.65 - 168.11.12.126   |\n",
    "| R3E0            | 168.11.13.103  | 168.11.13.64      | 168.11.13.65 - 168.11.13.126   |\n",
    "| R1S0            | 168.11.123.201 | 168.11.123.192    | 168.11.123.193 - 168.11.123.254|\n",
    "| R2S0            | 168.11.123.202 | 168.11.123.192    | 168.11.123.193 - 168.11.123.254|\n",
    "| R3S0            | 168.11.123.203 | 168.11.123.192    | 168.11.123.193 - 168.11.123.254|\n",
    "\n",
    "![](./images/ej2_c.svg)"
   ]
  },
  {
   "cell_type": "markdown",
   "metadata": {},
   "source": [
    "- 168.11.11.101: <span class=\"direccion-red\">1010 1000 . 0000 1011 . 0000 1011 . 01</span>10 0101\n",
    "- 168.11.12.102: <span class=\"direccion-red\">1010 1000 . 0000 1011 . 0000 1100 . 01</span>10 0110\n",
    "- 168.11.13.103: <span class=\"direccion-red\">1010 1000 . 0000 1011 . 0000 1101 . 01</span>10 0111\n",
    "- 168.11.123.201: <span class=\"direccion-red\">1010 1000 . 0000 1011 . 0111 1011 . 11</span>00 1001\n",
    "- 168.11.123.202: <span class=\"direccion-red\">1010 1000 . 0000 1011 . 0111 1011 . 11</span>00 1010\n",
    "- 168.11.123.203: <span class=\"direccion-red\">1010 1000 . 0000 1011 . 0111 1011 . 11</span>00 1011"
   ]
  },
  {
   "cell_type": "markdown",
   "metadata": {},
   "source": [
    "### Punto 4\n",
    "El siguiente es un sistema con subredes A,B,D y E y 2 routers R1 y R2. Se desea hacer subnetting utilizando la dirección que nos otorga el ISP 200.37.6.128/28. Indicar la dirección de cada subred que es necesario asignar teniendo en cuenta que:\n",
    "\n",
    "    a. A debe contener 7 hosts.\n",
    "    b. B debe contener 15 hosts.\n",
    "    c. D debe contener 30 hosts.\n",
    "    d. E debe contener 13 hosts.\n",
    "\n",
    "![](./images/ej3.svg)"
   ]
  },
  {
   "cell_type": "markdown",
   "metadata": {},
   "source": [
    "200.37.6.128/28: <span class=\"direccion-red\">1100 1000 . 0010 0101 . 0000 0110 . 1000</span>0000\n",
    "\n",
    "Como solamente se cuenta con 4 bits para *hosts*, si se definen los 2 bits más altos de los 4 para determinar las subredes, cada una de dichas subredes podrían albergar **2 hosts** (serían 4 direcciones posibles, pero se reserva la primera para identificar la red, y la última para *broadcast*).\n",
    "\n",
    "Una solución posible sería **obtener una máscara menos estricta** (máscara de red con menos bits, permite mayor cantidad de hosts)\n",
    "\n",
    "- Se necesitan 4 subredes => 2 bits\n",
    "- Las cantidades de hosts que tienen que admitir las subredes varían entre 7 y 30 hosts (reservamos tantos bits como sea necesario para la que más hosts tenga que albergar) => 5 bits\n",
    "\n",
    "En total se necesitarían **7 bits** para hosts; con una máscara de **25 bits** se podrían armar las subredes necesarias.\n",
    "\n",
    "En este nuevo escenario, con la dirección de red **200.37.6.128/25**, se podrían crear las subredes necesarias, otorgándole a cada una la siguiente dirreción IP:\n",
    "\n",
    "- A: 200.37.6.128\n",
    "- B: 200.37.6.160\n",
    "- C: 200.37.6.192\n",
    "- D: 200.37.6.224\n",
    "\n",
    "Para verificar las direcciones IP, se recomienda visitar [este sitio](https://www.browserling.com/tools/ip-to-bin) (transforma direcciones IPv4 a valores binarios), y [este otro](https://www.browserling.com/tools/bin-to-ip) (transforma valores binarios a direcciones de IPv4)."
   ]
  },
  {
   "cell_type": "markdown",
   "metadata": {},
   "source": [
    "## Parte 2: IP Fragmentación – ICMP - Encaminamiento"
   ]
  },
  {
   "cell_type": "markdown",
   "metadata": {},
   "source": [
    "### Punto 4\n",
    "Un router recibe un datagrama con header básico y longitud total **832 bytes**.  Debe  ser  enviado  a  un  segmento  en  el  que  el  MTU  es  de  **520 bytes**. Determine en forma completa, acorde con los datos suministrados, los campos principales de los encabezados de los segmentos que se generarán."
   ]
  },
  {
   "cell_type": "markdown",
   "metadata": {},
   "source": [
    "Datagrama IP de 832 bytes -> 812 bytes de segmento de la capa de transporte + 20 bytes de cabecera IP\n",
    "\n",
    "El primer fragmento que se enviará llevará los primeros **496** bytes de datos (mayor múltiplo de 8 posible)\n",
    "\n",
    "El segundo y último fragmento llevará el resto de los datos (316 bytes de datos)\n",
    "\n",
    "|Fragmento  |Bytes                        |Largo  |Offset         |Indicador  |\n",
    "|-----------|-----------------------------|-------|---------------|-----------|\n",
    "|1          |496 de datos + 20 de cabecera|516    |D = 0          |1          |\n",
    "|2          |316 de datos + 20 de cabecera|336    |D = 496/8 = 62 |0          |"
   ]
  },
  {
   "cell_type": "markdown",
   "metadata": {},
   "source": [
    "### Punto 5\n",
    "Dada la situación representada en la figura:\n",
    "\n",
    "a. Asignar razonablemente direcciones IP válidas a las interfaces de red a las que les falte (la E, la F, y los routers).\n",
    "\n",
    "b. Establecer tablas de encaminamiento para que (simultáneamente):\n",
    "  1. A hable con D y viceversa\n",
    "  2. E hable con C pero no con D\n",
    "  3. A no pueda hablar con F\n",
    "  \n",
    "NOTA: La máscara de subred es 255.255.255.0 en todos los casos.\n",
    "\n",
    "![](./images/ej5.svg)"
   ]
  },
  {
   "cell_type": "markdown",
   "metadata": {},
   "source": [
    "### Direcciones IP faltantes\n",
    "#### Red 128.4.5.0\n",
    "E -> `128.4.5.7`\n",
    "\n",
    "B -> `128.4.5.1`\n",
    "\n",
    "#### Red 128.4.9.0\n",
    "F -> `128.4.9.3`\n",
    "\n",
    "#### Red 128.4.7.0\n",
    "C-> `128.4.7.1`"
   ]
  },
  {
   "cell_type": "markdown",
   "metadata": {},
   "source": [
    "### Tablas de enrutamiento\n",
    "\n",
    "|A               |Próximo salto           |\n",
    "|----------------|------------------------|\n",
    "|128.4.5.0/24    |-                       |\n",
    "|128.4.7.0/24    |128.4.5.1               |\n",
    "\n",
    "|B               |Próximo salto           |\n",
    "|----------------|------------------------|\n",
    "|128.4.5.0/24    |-                       |\n",
    "|128.4.9.0/24    |-                       |\n",
    "|128.4.7.0/24    |128.4.9.2               |\n",
    "\n",
    "|C               |Próximo salto           |\n",
    "|----------------|------------------------|\n",
    "|128.4.9.0/24    |-                       |\n",
    "|128.4.7.0/24    |-                       |\n",
    "|128.4.5.0/24    |128.4.9.1               |\n",
    "\n",
    "|D               |Próximo salto           |\n",
    "|----------------|------------------------|\n",
    "|128.4.7.0/24    |-                       |\n",
    "|128.4.5.0/24    |128.4.7.1               |\n",
    "\n",
    "|E               |Próximo salto           |\n",
    "|----------------|------------------------|\n",
    "|128.4.5.0/24    |-                       |\n",
    "|128.4.9.2/32    |128.4.5.1               |"
   ]
  },
  {
   "cell_type": "markdown",
   "metadata": {},
   "source": [
    "### Punto 6\n",
    "\n",
    "En la figura se muestra una red basada en protocolos TCP/IP. La máscara de cada subred es 255.255.255.0. No se permiten rutas por defecto.\n",
    "\n",
    "La tabla de encaminamiento de A se muestra en la figura. El resto de tablas se supone que no impiden ningún camino de comunicación.\n",
    "\n",
    "Se pide:\n",
    "\n",
    "    a. Qué dirección IP podría tener H? ¿Y F? Justifíque.\n",
    "    b. Puede hablar A con C? Justifíque.\n",
    "    c. Puede hablar A con E? Justifíque.\n",
    "    d. Cómo habría que actualizar alguna tabla de encaminamiento para que A hable con C pero no con D? Justifíque.\n",
    "    \n",
    "    \n",
    "![](./images/ej6.svg)\n"
   ]
  },
  {
   "cell_type": "markdown",
   "metadata": {},
   "source": [
    "- a) El host H podría tener la IP `15.16.17.XXX`, dejando de lado:\n",
    "    - `.0` (dirección de red), \n",
    "    - `.1` (se asume que es la de F), \n",
    "    - `.10` (IP de G),\n",
    "    - `.255` (broadcast).\n",
    "    \n",
    "    El host F podría tener una dirección de IP `128.8.55.XXX` (sin contar la 0, 9, 2, y 255) para la interfase conectada con los host C y D, y para su otra interfase podría tener la dirección `15.16.17.XXX` (sin contar la 0, 10, 255, y la dirección que haya tomado el host H).\n",
    "\n",
    "\n",
    "- b) El host A **no puede** hablar con el host C porque A no tiene ninguna entrada en su tabla de enrutamiento cuyo destino sea la red de C.\n",
    "\n",
    "\n",
    "- c) El host A **sí puede** hablar con el host E porque la primer entrada en su tabla de enrutamiento tiene como destino la red del host E\n",
    "\n",
    "\n",
    "- d) Para que A pueda comunicarse específicamente con C, se podría agregar una entrada en su tabla de enrutamiento para que A llegue a la dirección `128.8.55.9/32` (la tabla de enrutamiento de C también tiene que tener las entradas correspondientes para llegar a A). De esta manera, se asegura que A hable únicamente con el host C."
   ]
  },
  {
   "cell_type": "markdown",
   "metadata": {},
   "source": [
    "### Punto 7\n",
    "En la figura siguiente se muestra una red basada en protocolos TCP/IP. En cada host se indica su dirección de capa de enlace (MAC) y en algunos casos, su dirección IP de la red a la que pertenece. La máscara de todas las subredes es /24. La tabla de encaminamiento de A se muestra en la figura. Se supone que el resto de las tablas de encaminamiento no impiden ningún camino de comunicación.\n",
    "Se pide:\n",
    "    \n",
    "    a. Asignar razonablemente todas las direcciones IP que faltan en la figura.\n",
    "    b. Puede hablar A con C?. Justifíque.\n",
    "    c. Puede hablar A con E?. Justifíque.\n",
    "    d. Cómo habría que modificar la tabla de A para que pueda hablar con E pero no con F?. Justifique.\n",
    "    \n",
    "    \n",
    "![](./images/ej7.png)\n"
   ]
  },
  {
   "cell_type": "markdown",
   "metadata": {},
   "source": [
    "- a)\n",
    "    #### Red `163.117.5.0`\n",
    "    B -> `163.117.5.9`\n",
    "\n",
    "    D -> `163.117.5.11`\n",
    "\n",
    "    G -> `163.117.5.12`\n",
    "\n",
    "    #### Red `163.117.131.0`\n",
    "    D -> `163.117.131.9`\n",
    "\n",
    "    F -> `163.117.131.11`\n",
    "\n",
    "    #### Red `163.117.137.0`\n",
    "    G -> `163.117.137.9`\n",
    "\n",
    "    I -> `163.117.137.11`\n",
    "    \n",
    "\n",
    "- b) A **no puede** hablar con C, no tiene las rutas necesarias en su tabla de encaminamiento para llegar a la dirección de C.\n",
    "\n",
    "\n",
    "- c) A **sí puede** hablar con E; la segunda entrada de la tabla de A llega a la red a la que está conectada E.\n",
    "\n",
    "\n",
    "- d) Para que A hable con E pero no con F, se debe modificar la entrada de la tabla de A para que su destino sea la dirección de red de E con una máscara de red de 32 bits (`163.117.131.10/32`)"
   ]
  },
  {
   "cell_type": "markdown",
   "metadata": {},
   "source": [
    "### Punto 8\n",
    "En el esquema de la figura las rutas de Piglet se sustituyen de\n",
    "```\n",
    "piglet(config)# ip route 192.168.1.0    255.255.255.0    192.168.1.193\n",
    "piglet(config)# ip route 10.4.0.0     255.255.0.0     192.168.1.193\n",
    "```\n",
    "por estas otras:\n",
    "```\n",
    "piglet(config)# ip route 192.168.1.0    255.255.255.224   192.168.1.193 \n",
    "piglet(config)# ip route 10.0.0.0   255.255.0.0    192.168.1.193 \n",
    "```\n",
    "Cuál es el resultado?  \n",
    "**Nota: Tenga en cuenta que las reglas para sus redes adyacentes no se eliminan.**\n",
    "\n",
    "![](./images/ej8.svg)\n"
   ]
  },
  {
   "cell_type": "markdown",
   "metadata": {},
   "source": [
    "Aplicando las modificaciones en la tabla de de ruteo de `piglet`, ocurre lo siguiente:\n",
    "- `piglet` no se puede comunicar con los host de la red `192.168.1.0` cuya dirección IP sea mayor a `192.168.1.31`; queda incomunicado con `pooh` y con `tigger`. Esto se debe a la restricción impuesta por la máscara de 27 bits en la tabla de ruteo.\n",
    "- `piglet` queda incomunicado con `eeyore` porque no tiene rutas para las direcciones `10.4.X.X/16/`, sino para las direcciones `10.0.X.X/16`"
   ]
  },
  {
   "cell_type": "markdown",
   "metadata": {},
   "source": [
    "### Punto 9"
   ]
  },
  {
   "cell_type": "markdown",
   "metadata": {},
   "source": [
    "Desarrollar con la heramienta [CORE 4.8](https://hub.docker.com/r/unpdit/coreemu_vnc),  facilitada por la cátedra,  la red de la figura. Se podrán manejar las direcciones IP que automáticamente asigne el programa. En estas condiciónes efectuar los siguientes pasos:\n",
    "\n",
    "1. Utilizar el comando `ip addr` para averiguar las direcciones IP otorgadas a los routers.\n",
    "2. Efectuar un Ping desde la máquina n6 a n10. Consignar RTT.\n",
    "3. Observar las tablas de encaminamiento del router n1 a efectos de ver por cuál camino se enruta el mensaje anterior. Utilice el comando traceroute desde el icono 1—2 del aplicativo para dibujar la ruta en el diagrama.\n",
    "4. Con el comando `iptables` neutralice el forwarding que se efectúa en el router n2 o n3 que encamina hacia n10. Observe el resultado.\n",
    "5. Agregue en el router n1 y en el opuesto (n2 o n3) en diagonal al anterior las rutas necesarias para lograr nuevamente el encaminamiento realizado en **1**.\n",
    "\n",
    "<div class=notas>\n",
    "Cree el archivo en el órden que aparecen los nodos\n",
    "</div>\n",
    "<div class=notas>\n",
    "Notas de instalación en Ubuntu: \n",
    "https://docs.docker.com/install/linux/docker-ce/ubuntu/\n",
    "</div>\n",
    "<div class=notas>\n",
    "Docker debe instalarse previamente. En caso de carecer de internet, el comando `docker run` fallará, puede utilizar `docker load unpdit_coreemu_vnc_unp_core_48`\n",
    "</div>\n",
    "![](./images/ej9.png)\n"
   ]
  },
  {
   "cell_type": "markdown",
   "metadata": {},
   "source": [
    "- 1) Una vez armada la red en CORE, y siendo [n1..n4] los routers, se puede ejecutar el siguiente script para averiguar las direcciones IP de sus interfaces\n",
    "\n",
    "**IMPORTANTE**: para que funcionen los siguientes scripts, se deben modificar las variables `CONTAINER_NAME` y `PYCORE_PID` acordemente, y tiene que estar corriendo la sesión de CORE"
   ]
  },
  {
   "cell_type": "code",
   "execution_count": 21,
   "metadata": {},
   "outputs": [
    {
     "name": "stdout",
     "output_type": "stream",
     "text": [
      "***ROUTER n1 IP*** \n",
      "\n",
      "    inet 10.0.0.1/24 brd 10.0.0.255 scope global eth0\n",
      "    inet 10.0.2.1/24 brd 10.0.2.255 scope global eth1\n",
      "    inet 10.0.5.2/24 brd 10.0.5.255 scope global eth2\n",
      "***ROUTER n2 IP*** \n",
      "\n",
      "    inet 10.0.2.2/24 brd 10.0.2.255 scope global eth0\n",
      "    inet 10.0.3.1/24 brd 10.0.3.255 scope global eth1\n",
      "    inet 10.0.7.1/24 brd 10.0.7.255 scope global eth2\n",
      "***ROUTER n3 IP*** \n",
      "\n",
      "    inet 10.0.4.2/24 brd 10.0.4.255 scope global eth0\n",
      "    inet 10.0.5.1/24 brd 10.0.5.255 scope global eth1\n",
      "    inet 10.0.6.1/24 brd 10.0.6.255 scope global eth2\n",
      "***ROUTER n4 IP*** \n",
      "\n",
      "    inet 10.0.1.1/24 brd 10.0.1.255 scope global eth0\n",
      "    inet 10.0.3.2/24 brd 10.0.3.255 scope global eth1\n",
      "    inet 10.0.4.1/24 brd 10.0.4.255 scope global eth2\n"
     ]
    }
   ],
   "source": [
    "%%bash\n",
    "\n",
    "##################################\n",
    "# Variables de configuración\n",
    "# Modificar como sea necesario\n",
    "\n",
    "CONTAINER_NAME=core\n",
    "PYCORE_PID=45141\n",
    "ROUTERS=(\"n1\" \"n2\" \"n3\" \"n4\")\n",
    "\n",
    "##################################\n",
    "\n",
    "for i in \"${ROUTERS[@]}\"; do\n",
    "    echo -e \"***ROUTER \"$i\" IP*** \\n\"\n",
    "    docker exec -i $CONTAINER_NAME \\\n",
    "        vcmd -c /tmp/pycore.$PYCORE_PID/$i -- \\\n",
    "        ip addr \\\n",
    "        | grep -wv lo \\\n",
    "        | grep -w inet\n",
    "done"
   ]
  },
  {
   "cell_type": "markdown",
   "metadata": {},
   "source": [
    "- 2) Se puede hacer ping entre dos hosts sin estar dentro del contenedor con el siguiente script"
   ]
  },
  {
   "cell_type": "code",
   "execution_count": 20,
   "metadata": {},
   "outputs": [
    {
     "name": "stdout",
     "output_type": "stream",
     "text": [
      "***ping from n6 to n10*** \n",
      "\n",
      "PING 10.0.1.10 (10.0.1.10) 56(84) bytes of data.\n",
      "64 bytes from 10.0.1.10: icmp_seq=1 ttl=61 time=0.066 ms\n",
      "64 bytes from 10.0.1.10: icmp_seq=2 ttl=61 time=0.149 ms\n",
      "64 bytes from 10.0.1.10: icmp_seq=3 ttl=61 time=0.151 ms\n",
      "64 bytes from 10.0.1.10: icmp_seq=4 ttl=61 time=0.147 ms\n",
      "64 bytes from 10.0.1.10: icmp_seq=5 ttl=61 time=0.148 ms\n",
      "\n",
      "--- 10.0.1.10 ping statistics ---\n",
      "5 packets transmitted, 5 received, 0% packet loss, time 4054ms\n",
      "rtt min/avg/max/mdev = 0.066/0.132/0.151/0.033 ms\n"
     ]
    }
   ],
   "source": [
    "%%bash\n",
    "\n",
    "##################################\n",
    "# Variables de configuración\n",
    "# Modificar como sea necesario\n",
    "\n",
    "CONTAINER_NAME=core\n",
    "PYCORE_PID=45141\n",
    "FROM_HOST=n6\n",
    "TO_HOST=n10\n",
    "PING_COUNT=5\n",
    "\n",
    "##################################\n",
    "\n",
    "\n",
    "TO_HOST_IP=$(docker exec core vcmd -c /tmp/pycore.$PYCORE_PID/$TO_HOST -- \\\n",
    "    ip address show eth0 \\\n",
    "    | grep -w inet \\\n",
    "    | grep -oP \"\\d+\\.\\d+\\.\\d+\\.\\d+\" \\\n",
    "    | head -1)\n",
    "\n",
    "\n",
    "echo -e \"***ping from \"$FROM_HOST\" to \"$TO_HOST\"*** \\n\"\n",
    "docker exec $CONTAINER_NAME \\\n",
    "    vcmd -c /tmp/pycore.$PYCORE_PID/$FROM_HOST -- \\\n",
    "    ping -c $PING_COUNT $TO_HOST_IP"
   ]
  },
  {
   "cell_type": "markdown",
   "metadata": {},
   "source": [
    "- 3) Listar las rutas del host n1 con el siguiente script"
   ]
  },
  {
   "cell_type": "code",
   "execution_count": 23,
   "metadata": {},
   "outputs": [
    {
     "name": "stdout",
     "output_type": "stream",
     "text": [
      "***n1 IP ROUTE*** \n",
      "\n",
      "10.0.0.0/24 dev eth0 proto kernel scope link src 10.0.0.1 \n",
      "10.0.1.0/24 proto zebra metric 30 \n",
      "\tnexthop via 10.0.2.2  dev eth1 weight 1\n",
      "\tnexthop via 10.0.5.1  dev eth2 weight 1\n",
      "10.0.2.0/24 dev eth1 proto kernel scope link src 10.0.2.1 \n",
      "10.0.3.0/24 via 10.0.2.2 dev eth1 proto zebra metric 20 \n",
      "10.0.4.0/24 via 10.0.5.1 dev eth2 proto zebra metric 20 \n",
      "10.0.5.0/24 dev eth2 proto kernel scope link src 10.0.5.2 \n",
      "10.0.6.0/24 via 10.0.5.1 dev eth2 proto zebra metric 20 \n",
      "10.0.7.0/24 via 10.0.2.2 dev eth1 proto zebra metric 20 \n"
     ]
    }
   ],
   "source": [
    "%%bash\n",
    "\n",
    "##################################\n",
    "# Variables de configuración\n",
    "# Modificar como sea necesario\n",
    "\n",
    "CONTAINER_NAME=core\n",
    "PYCORE_PID=45141\n",
    "ROUTER=n1\n",
    "\n",
    "##################################\n",
    "\n",
    "echo -e \"***\"$ROUTER\" IP ROUTE*** \\n\"\n",
    "docker exec -i $CONTAINER_NAME \\\n",
    "    vcmd -c /tmp/pycore.$PYCORE_PID/$ROUTER -- \\\n",
    "    ip route"
   ]
  },
  {
   "cell_type": "markdown",
   "metadata": {},
   "source": [
    "- 4) Como el router n1 estaba encaminando por el router n3, el siguiente script deshabilita su capacidad de comunicar n1 con n4. De esta forma, los host n6 y n10 quedarían incomunicados.\n",
    "\n",
    "> Si probar cambiando la variable `ROUTER` por *n2* si que es el encaminamiento elegía a este último"
   ]
  },
  {
   "cell_type": "code",
   "execution_count": 30,
   "metadata": {},
   "outputs": [
    {
     "name": "stdout",
     "output_type": "stream",
     "text": [
      "***NEUTRALIZE n3 IPTABLES FORWARD CHAIN*** \n",
      "\n",
      "Se pudo neutralizar n3 [iptables -P FORWARD DROP]\n"
     ]
    }
   ],
   "source": [
    "%%bash\n",
    "\n",
    "##################################\n",
    "# Variables de configuración\n",
    "# Modificar como sea necesario\n",
    "\n",
    "CONTAINER_NAME=core\n",
    "PYCORE_PID=45141\n",
    "ROUTER=n3\n",
    "\n",
    "##################################\n",
    "\n",
    "echo -e \"***NEUTRALIZE \"$ROUTER\" IPTABLES FORWARD CHAIN*** \\n\"\n",
    "docker exec -i $CONTAINER_NAME \\\n",
    "    vcmd -c /tmp/pycore.$PYCORE_PID/$ROUTER -- \\\n",
    "    iptables -P FORWARD DROP && \\\n",
    "    echo \"Se pudo neutralizar \"$ROUTER\" [iptables -P FORWARD DROP]\" || \\\n",
    "    echo \"No se pudo deshabilitar el router \"$ROUTER\"\""
   ]
  },
  {
   "cell_type": "markdown",
   "metadata": {},
   "source": [
    "Si se intenta hacer ahora un ping entre *n6* y *n10*, los paquetes ICMP no llegarán a destino"
   ]
  },
  {
   "cell_type": "code",
   "execution_count": 29,
   "metadata": {},
   "outputs": [
    {
     "name": "stdout",
     "output_type": "stream",
     "text": [
      "***ping from n6 to n10*** \n",
      "\n",
      "PING 10.0.1.10 (10.0.1.10) 56(84) bytes of data.\n",
      "\n",
      "--- 10.0.1.10 ping statistics ---\n",
      "5 packets transmitted, 0 received, 100% packet loss, time 4058ms\n",
      "\n"
     ]
    }
   ],
   "source": [
    "%%bash\n",
    "\n",
    "##################################\n",
    "# Variables de configuración\n",
    "# Modificar como sea necesario\n",
    "\n",
    "CONTAINER_NAME=core\n",
    "PYCORE_PID=45141\n",
    "FROM_HOST=n6\n",
    "TO_HOST=n10\n",
    "PING_COUNT=5\n",
    "\n",
    "##################################\n",
    "\n",
    "\n",
    "TO_HOST_IP=$(docker exec core vcmd -c /tmp/pycore.$PYCORE_PID/$TO_HOST -- \\\n",
    "    ip address show eth0 \\\n",
    "    | grep -w inet \\\n",
    "    | grep -oP \"\\d+\\.\\d+\\.\\d+\\.\\d+\" \\\n",
    "    | head -1)\n",
    "\n",
    "\n",
    "echo -e \"***ping from \"$FROM_HOST\" to \"$TO_HOST\"*** \\n\"\n",
    "docker exec $CONTAINER_NAME \\\n",
    "    vcmd -c /tmp/pycore.$PYCORE_PID/$FROM_HOST -- \\\n",
    "    ping -c $PING_COUNT $TO_HOST_IP"
   ]
  },
  {
   "cell_type": "markdown",
   "metadata": {},
   "source": [
    "- 5) Para poder recuperar la comunicación entre el host n1 y n10, hay que definir las rutas en n1 y n4 para que se conecten\n",
    "    - Como se anuló n3, n1 debe salir por n2 para llegar a n4. Ejecutar los siguientes comandos en n1\n",
    "        - ```bash\n",
    "        ip router delete 10.0.1.0/24\n",
    "        ip router add 10.0.1.0/24 via 10.0.2.2 proto zebra metric 20\n",
    "        ```\n",
    "    - n4 debe pasar también por n2 para llegar a n4. Ejecutar los siguientes comandos en n4\n",
    "        - ```bash\n",
    "        ip router delete 10.0.0.0/24\n",
    "        ip router add 10.0.0.0/24 via 10.0.2.2 proto zebra metric 20\n",
    "        ```"
   ]
  },
  {
   "cell_type": "markdown",
   "metadata": {},
   "source": [
    "## Parte 3\n",
    "### IP routing - Network Address Translation"
   ]
  },
  {
   "cell_type": "markdown",
   "metadata": {},
   "source": [
    "### Punto 10\n",
    "Dada la red de la figura siguiente, donde la máscara de subred es /24 y considerando la tabla de encaminamiento que aparece más abajo, se solicita:\n",
    "\n",
    "a) Completar la tabla indicando en la casillas en blanco:\n",
    "  1. **NO** cuando no hay camino desde M hasta N.\n",
    "  2. La secuencia de encaminadores intermedios cuando sí hay camino desde M hasta N\n",
    "\n",
    "|   |A       |B        |C        |X       |Y       |Z         |\n",
    "|---|--------|---------|---------|--------|--------|----------|\n",
    "| A |--      |R1       |R1, R2   |NO      |R1,R3,R6|NO        |\n",
    "| B |R1      |--       |R2       |R4,R5   |NO      |R4,R5     |\n",
    "| C |R2,R3,R1|R2       |--       |NO      |R2,R3,R6|NO        |\n",
    "| X |NO      |R5,R4    |NO       |--      |NO      |R5,R4,R7  |\n",
    "| Y |R6,R3,R1|NO       |R6,R3,R2 |NO      |--      |NO        |\n",
    "| Z |NO      |R7,R4    |NO       |R7,R4,R5|NO      |--        |\n",
    "\n",
    "![](./images/ej10.png)\n",
    "\n",
    "b) Supongamos que se cae el encaminador R3, quedando fuera de servicio. Reconstruir las tablas de R1, R2, R4, R5, R6 y R7 para que sigan pudiendo comunicarse entre sí las mismas máquinas que lo hacían antes.\n",
    "\n",
    "c) Adaptar las tablas de los encaminadores (routers) para que pueda circular todo el tráfico con origen en X y destino en Z, pero sólo de forma que pase por la subred de B. Indicar sólo las rutas que habría que quitar, añadir o modificar. Se valorará realizar el menor numero de cambios en las tablas\n",
    "\n"
   ]
  },
  {
   "cell_type": "markdown",
   "metadata": {},
   "source": [
    "- b)\n",
    "\n",
    "![](./images/ej10b.svg)\n",
    "\n",
    "#### R1\n",
    "\n",
    "|Destino  |Próximo salto  |\n",
    "|--|--|\n",
    "|10.1.74.0  |0.0.0.0 |\n",
    "|10.1.30.0|10.1.74.2|\n",
    "|10.1.253.0|10.1.74.6|\n",
    "\n",
    "#### R2\n",
    "|Destino  |Próximo salto  |\n",
    "|--|--|\n",
    "|10.1.30.0  |0.0.0.0  |\n",
    "|10.1.74.0|0.0.0.0|\n",
    "|10.1.26.0|0.0.0.0|\n",
    "|10.1.28.0|10.1.74.1|\n",
    "|10.1.253.0|10.1.74.6|\n",
    "\n",
    "#### R4\n",
    "|Destino  |Próximo salto  |\n",
    "|--|--|\n",
    "|10.1.26.0  |0.0.0.0  |\n",
    "|10.1.74.0|0.0.0.0|\n",
    "|10.1.97.0|0.0.0.0|\n",
    "|10.1.98.0|0.0.0.0|\n",
    "|10.1.99.0|0.0.0.0|\n",
    "|10.1.252.0|10.1.99.2|\n",
    "|10.1..244.0|10.1.97.2|\n",
    "\n",
    "#### R5\n",
    "|Destino  |Próximo salto  |\n",
    "|--|--|\n",
    "|10.1.74.0  |0.0.0.0  |\n",
    "|10.1.99.0|0.0.0.0|\n",
    "|10.1.252.0|0.0.0.0|\n",
    "|10.1.254.0|10.1.99.1|\n",
    "|10.1.74.0|10.1.99.1|\n",
    "\n",
    "#### R6\n",
    "|Destino  |Próximo salto  |\n",
    "|--|--|\n",
    "|10.1.74.0  |0.0.0.0  |\n",
    "|10.1.98.0|0.0.0.0|\n",
    "|10.1.253|0.0.0.0|\n",
    "|10.1.28.0|10.1.74.1|\n",
    "|10.1.30.0|10.1.74.2|\n",
    "\n",
    "#### R7\n",
    "|Destino  |Próximo salto  |\n",
    "|--|--|\n",
    "|10.1.74.0  |0.0.0.0  |\n",
    "|10.1.97.0|0.0.0.0|\n",
    "|10.1.254.0|0.0.0.0|\n",
    "|10.1.252.0|10.1.97.1|\n",
    "|10.1.74.0|10.1.97.1|"
   ]
  },
  {
   "cell_type": "markdown",
   "metadata": {},
   "source": [
    "- c) Valiéndose de la topología presentada en el enunciado del ejercicio (no la del inciso anterior), realizar las siguientes modificaciones:\n",
    "\n",
    "    - En R5 modificar la entrada `10.1.254.0` de `10.1.99.1` a `10.1.96.1`\n",
    "    - En R3 agregar la entrada:\n",
    "        ```\n",
    "        Destino                  Próximo salto\n",
    "        10.1.254.0               10.1.74.4\n",
    "        ```"
   ]
  },
  {
   "cell_type": "markdown",
   "metadata": {},
   "source": [
    "### Punto 11\n",
    "En una red cuya topología se indica en la figura, la máquina 10.0.2.10 envía un paquete IP a la máquina 10.0.0.10.\n",
    "\n",
    "1. Indique el camino seguido por el paquete, detallando cada enrutador que atraviesa y la decisión que se toma en el mismo.\n",
    "2. Indique si observa alguna anomalía y de existir cuál sería su solución.\n",
    "3. Haga el mismo análisis que en a. y b. Pero cambiando la máscara de la red a 10.0.0.0/24. \n",
    "\n",
    "![](./images/ej11.png)"
   ]
  },
  {
   "cell_type": "markdown",
   "metadata": {},
   "source": [
    "- 1) Paquete con destino `10.0.0.0/26`\n",
    "\n",
    "|Está en  |Próximo salto  |\n",
    "|--|--|\n",
    "|10.0.2.1 (E) |10.0.0.149 (B) |\n",
    "|10.0.0.149 (B)|10.0.0.138 (C)|\n",
    "|10.0.0.138 (C)|10.0.0.142 (D)|\n",
    "|10.0.0.142 (D)|10.0.0.145 (B)|"
   ]
  },
  {
   "cell_type": "markdown",
   "metadata": {},
   "source": [
    "- 2) El paquete entra en un ciclo entre los routers B-C-D y terminaría siendo dropeado por TTL. Una posible solución sería agregar una entrada más a la tabla de encaminamiento de B, con la siguiente forma:\n",
    "```\n",
    "    Destino           Próximo salto\n",
    "    10.0.0.0/25       10.0.0.133 (router A)\n",
    "```\n",
    "\n",
    "    Al tener una máscara más restrictivas, el router siempre elegirá esa entrada para llegar a la red `10.0.0.0/26`"
   ]
  },
  {
   "cell_type": "markdown",
   "metadata": {},
   "source": [
    "- 3) Paquete con destino `10.0.0.0/24`\n",
    "\n",
    "|Está en  |Próximo salto  |\n",
    "|--|--|\n",
    "|10.0.2.1 (E) |10.0.0.153 (D) |\n",
    "|10.0.0.153 (D)|10.0.0.141 (C)|\n",
    "|10.0.0.141 (C)|10.0.0.129 (A)|\n",
    "\n",
    "No se presenta ningún ciclo cambiando la máscara de la dirección destino a 24 bits"
   ]
  },
  {
   "cell_type": "markdown",
   "metadata": {},
   "source": [
    "### Punto 12\n",
    "\n",
    "En la red de la figura anterior, al router B se le agrega una placa Ethernet y se conecta a Internet con un esquema de NAT.\n",
    "\n",
    "1. Indique una dirección válida que pueda otorgarle el ISP.\n",
    "2. Si los dos HOST que se indican en la figura establecen una conexión cada uno, simultáneas con el servidor WEB de la Universidad de la patagonia cuya dirección IP es 200.37.12.88 y a su vez otra conexión cada uno de los HOST con el Servidor de Correo SMTP de Google (IP= 12.18.32.25), indique cuáles serán las direccciones y puertos que se utilizarán a un lado y otro del Router B, en uno y otro sentido, para permitir las cuatro conexiones apuntadas\n",
    "3. Agregue las rutas necesarias a los routers asociados a los hosts en cuestión a efectos que el enrutamiento a internet sea posible sin restricciones."
   ]
  },
  {
   "cell_type": "markdown",
   "metadata": {},
   "source": [
    "- 1) El ISP le asignará al router B una dirección que no entre en conflicto con las direcciones que tiene en sus otras interfaces\n",
    "\n",
    "- 2) Las conexiones saldrán con la dirección IP que tenga asignada la interfaz conectada a Internet del router B, y con cuatro puertos efímeros distintos. Las que se dirigen al servidor Web, irán a la dirección `200.37.12.88:80`, mientras que las que van al servidor SMTP serán a la dirección `12.18.32.25:25`.\n",
    "\n",
    "- 3) Agregar al router A la siguiente entrada:\n",
    "```\n",
    "    Destino             Próximo salto\n",
    "    0.0.0.0             10.0.0.134\n",
    "```\n",
    "\n",
    "    Agregar al router E la siguiente entrada:\n",
    "\n",
    "```\n",
    "    Destino             Próximo salto\n",
    "    0.0.0.0             10.0.0.149\n",
    "```\n",
    "   \n",
    "    Agregar al router B la siguiente entrada:\n",
    "\n",
    "```\n",
    "    Destino             Próximo salto\n",
    "    0.0.0.0             <DIRECCIÓN IP DEL ISP>\n",
    "```"
   ]
  },
  {
   "cell_type": "markdown",
   "metadata": {},
   "source": [
    "### Punto 13\n",
    "Cuál de las siguientes afirmaciones son correctas:\n",
    "Al encapsularse los mensajes de RIP en datagramas UDP: \n",
    "\n",
    "1. RIP no sufre de problemas de la fragmentación de datagramas IP\n",
    "2. RIP no sufre los problemas de descartado de paquetes por congestión en encaminadores routers.\n",
    "3. Los mensajes de RIP se desencapsulan por número de puerto del datagrama UDP.\n",
    "4. Los mensajes de RIP se desencapsulan por número de protocolo en el datagrama IP  "
   ]
  },
  {
   "cell_type": "markdown",
   "metadata": {},
   "source": [
    "La `3.` es correcta; todos los mensajes RIP son enviados desde el puerto 520 del emisor, hacia el puerto 520 del receptor"
   ]
  },
  {
   "cell_type": "markdown",
   "metadata": {},
   "source": [
    "### Punto 14\n",
    "La figura muestra una red en la que se utiliza un protocolo de encaminamiento del tipo de estado de enlace. Las cifras sobre los enlaces indican el valor de distancia entre nodos en un instante dado.\n",
    "\n",
    "![](./images/ej14.png)\n",
    "\n",
    "1. Indica la información que contendra el próximo paquete de estado de enlace que enviará el nodo B. ¿A qué nodos llegará ésta información?\n",
    "2. Supongamos que ahora se cambia el protocolo de encaminamiento por uno de vector de distancias. Indica la información que enviará el nodo B. ¿A qué nodos llegará esta información?\n",
    "3. Atendiendo únicamente al número total de mensajes de información de encaminamiento que se generan en una ronda, explica razonadamente si para la red de la figura es mejor usar un algoritmo de encaminamiento de estado de enlace o de vector de distancias.\n",
    "4. Atendiendo únicamente al tamaño de los mensajes de información de encaminamiento que se generan en una ronda, explica razonadamente si para la red de la figura es mejor usar un algoritmo de encaminamiento de estado de enlace o de vector de distancias.\n",
    " "
   ]
  },
  {
   "cell_type": "markdown",
   "metadata": {},
   "source": [
    "- 1) El próximo paquete de estado de enlace que envíe el host B tendrá los siguientes datos:\n",
    "    - Identificador propio (B)\n",
    "    - Nodos a los cuales está conectado (A, D, E)\n",
    "    - Número de secuencia\n",
    "    \n",
    "Esta información llegará a los nodos vecinos de B, que son A, D, y E."
   ]
  },
  {
   "cell_type": "markdown",
   "metadata": {},
   "source": [
    "- 2) Con un protocolo de Vector de Distancia, el nodo B enviará el costo asociado con la ruta que lo conecta con sus vecinos. Dicha información llegará también a los nodos A, D, y E.\n",
    "\n",
    "    El nodo B enviará un mensaje similar al siguiente:\n",
    "\n",
    "|Destino|Costo|\n",
    "|--|--|\n",
    "|A|1|\n",
    "|D|1|\n",
    "|E|4|\n"
   ]
  },
  {
   "cell_type": "markdown",
   "metadata": {},
   "source": [
    "- 3) Evaluando la cantidad de mensajes necesaria para que el algoritmo converja, sería preferente optar por un **algoritmo de estado de enlace** sobre uno de vector de distancia, ya que teóricamente el primero converge más rápido"
   ]
  },
  {
   "cell_type": "markdown",
   "metadata": {},
   "source": [
    "- 4) Considerando que un protocolo de estado de enlace como **RIP** (protocolo de capa de aplicación) empaqueta sus mensajes utilizando UDP, mientras que un protocolo de vector de distancia como **OSPF** arma datagramas IP directamente (indica un 89 en el campo de protocolo en la cabecera IP), la segunda alternativa sería preferente sobre la primera."
   ]
  },
  {
   "cell_type": "markdown",
   "metadata": {},
   "source": [
    "### Punto 15\n",
    "\n",
    "Juan está utilizando la computadora de su hogar y no puede comunicarse con la máquina de su universidad (gsyc.escet.urjc.es).\n",
    "\n",
    "Al hacer un `ping` obtiene el siguiente mensaje: \n",
    "\n",
    "```\n",
    "vmo$ ping gsyc.escet.urjc.es\n",
    "\n",
    "PING gsyc.escet.urjc.es (193.147.71.64): 56 data bytes\n",
    "36 bytes from v100.mpd01.mad05.atlas.cogentco.com (130.117.1.38): Time to live exceded\n",
    "Vr HL TOS Len ID Flg off TTL Pro cks Src Dst\n",
    "4 5 00 0054 2b7b 0 0000 01 01 c3b0 192.168.1.2 193.147.71.64\n",
    "```\n",
    " \n",
    "Al hacer un traceroute obtiene el siguiente mensaje: \n",
    "\n",
    "```\n",
    "vmo$ traceroute gsyc.escet.urjc.es\n",
    "traceroute to gsyc.escet.urjc.es (193.147.71.64), 64 hops max, 40 byte packets \n",
    "1 mygateway.ar7 (192.168.1.1) 48.066 ms 3.932 ms 3.173 ms\n",
    "2 madhou.jazztel.es (212.106.217.74) 45.129 ms 68.204 ms 43.838 ms\n",
    "3 madhou.jazztel.es (212.106.217.4) 44.337 ms 44.953 ms 44.815 ms\n",
    "4 t3-4.mpd01.mad05.atlas.cogentco.com (130.117.241.221) 45.579 ms 70.780 ms 44.525 ms\n",
    "5 *** ",
    "\n",
    "6 v100.mpd01.mad05.atlas.cogentco.com (130.117.1.38) 63.228 ms 44.523 ms 44.619 ms ",
    "\n",
    "7 *** ",
    "\n",
    "8 v100.mpd01.mad05.atlas.cogentco.com (130.117.1.38) 59.143 ms 48.010 ms 45.734 ms ",
    "\n",
    "9 *** \n",
    "... ... \n",
    "```"
   ]
  },
  {
   "cell_type": "markdown",
   "metadata": {},
   "source": [
    "1.\tCuál cree que es el problema? En qué nivel de las capas OSI?  ",
    "\n",
    "2.\tCuál es la dirección IP de la máquina de Juan y porqué? Dibuje un esquema de las máquinas que aparecen en las trazas.  ",
    "\n",
    "3.\tRazoné acerca de qué tipo de acceso a Internet cree que tiene Juan.  ",
    "\n",
    "4.\tUna máquina con la dirección IP= 192.168.1.3, en que ́ red o redes del esquema anterior podría estar? y una con la IP= 193.147.71.110?  ",
    "\n",
    "5.\tEscriba la entrada de la tabla de encaminamiento de la máquina mygateway.ar7 que se usa cuando se ejecutan el ping y traceroute anteriores. \n",
    "6.\tA la vista de estas trazas, cree que Juan se podría conectar a pantuflo.dat.escet.urjc.es? Si es que sí en que supuestos y si es que no justifíquelo. Lo mismo para mimaquina.alojamientos.com. "
   ]
  },
  {
   "cell_type": "markdown",
   "metadata": {},
   "source": [
    "- 1) Como el `ping` indica que el paquete muere por TTL, debe ser un problema de encaminamiento de los routers intermedios entre la computadora de Juan y el servidor al que se quiere conectar (capa de red del modelo OSI)"
   ]
  },
  {
   "cell_type": "markdown",
   "metadata": {},
   "source": [
    "- 2) En la salida del `ping` se puede ver que la dirección IP de la máquina de Juan es `192.168.1.2`.\n",
    "\n",
    "Los hosts que figuran son:\n",
    "```\n",
    "    - Máquina de Juan (192.168.1.2)\n",
    "    - Router de Juan (192.168.1.1)\n",
    "    - ISP (212.106.217.74, 212.106.217.4)\n",
    "    - Routers intermedios (130.117.241.221, 130.117.1.38)\n",
    "```"
   ]
  },
  {
   "cell_type": "markdown",
   "metadata": {},
   "source": [
    "- 3) Juan tiene una *puerta de enlace por defecto* (*default gateway*), que es su router (`192.168.1.1`)"
   ]
  },
  {
   "cell_type": "markdown",
   "metadata": {},
   "source": [
    "- 4) Una dirección IP `192.168.1.3` correspondería a un host dentro de la red en la que está Juan, mientras que la IP `193.147.71.110` corresponde a un host en la red del servidor al que se quiere conectar Juan."
   ]
  },
  {
   "cell_type": "markdown",
   "metadata": {},
   "source": [
    "- 5) La máquina `mygateway.ar7` tiene una entrada como la siguiente\n",
    "\n",
    "```\n",
    "Destino             Próximo salto\n",
    "0.0.0.0             212.106.217.74\n",
    "```"
   ]
  },
  {
   "cell_type": "markdown",
   "metadata": {},
   "source": [
    "- 6) Como Juan no puedo establecer una conexión con el host `gsyc.escet.urjc.es`, es probable que tampoco pueda conectarse con el host `pantuflo.dat.escet.urjc.es` ya que ambos hosts están en la misma red (son subdominios).\n",
    "\n",
    "    Por otro lado, con el host `mimaquina.alojamientos.com` no se puede saber si se va a poder establecer la conexión, ya que debe tener otra dirección IP, y la petición viajará por otra ruta."
   ]
  }
 ],
 "metadata": {
  "kernelspec": {
   "display_name": "Python 3",
   "language": "python",
   "name": "python3"
  },
  "language_info": {
   "codemirror_mode": {
    "name": "ipython",
    "version": 3
   },
   "file_extension": ".py",
   "mimetype": "text/x-python",
   "name": "python",
   "nbconvert_exporter": "python",
   "pygments_lexer": "ipython3",
   "version": "3.6.5"
  }
 },
 "nbformat": 4,
 "nbformat_minor": 2
}
